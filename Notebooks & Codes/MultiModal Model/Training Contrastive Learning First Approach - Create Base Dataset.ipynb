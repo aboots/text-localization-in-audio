{
  "cells": [
    {
      "cell_type": "markdown",
      "source": [
        "# Requirements"
      ],
      "metadata": {
        "id": "tmiQ8pYt80aY"
      }
    },
    {
      "cell_type": "code",
      "execution_count": null,
      "metadata": {
        "colab": {
          "base_uri": "https://localhost:8080/"
        },
        "id": "yONiFD8AnJOc",
        "outputId": "edfa5b8f-8381-4665-a12d-b78bc9d042c3"
      },
      "outputs": [
        {
          "output_type": "stream",
          "name": "stdout",
          "text": [
            "Looking in indexes: https://pypi.org/simple, https://us-python.pkg.dev/colab-wheels/public/simple/\n",
            "Requirement already satisfied: transformers in /usr/local/lib/python3.8/dist-packages (4.26.1)\n",
            "Requirement already satisfied: requests in /usr/local/lib/python3.8/dist-packages (from transformers) (2.25.1)\n",
            "Requirement already satisfied: packaging>=20.0 in /usr/local/lib/python3.8/dist-packages (from transformers) (23.0)\n",
            "Requirement already satisfied: regex!=2019.12.17 in /usr/local/lib/python3.8/dist-packages (from transformers) (2022.6.2)\n",
            "Requirement already satisfied: tqdm>=4.27 in /usr/local/lib/python3.8/dist-packages (from transformers) (4.64.1)\n",
            "Requirement already satisfied: pyyaml>=5.1 in /usr/local/lib/python3.8/dist-packages (from transformers) (6.0)\n",
            "Requirement already satisfied: huggingface-hub<1.0,>=0.11.0 in /usr/local/lib/python3.8/dist-packages (from transformers) (0.12.1)\n",
            "Requirement already satisfied: filelock in /usr/local/lib/python3.8/dist-packages (from transformers) (3.9.0)\n",
            "Requirement already satisfied: tokenizers!=0.11.3,<0.14,>=0.11.1 in /usr/local/lib/python3.8/dist-packages (from transformers) (0.13.2)\n",
            "Requirement already satisfied: numpy>=1.17 in /usr/local/lib/python3.8/dist-packages (from transformers) (1.22.4)\n",
            "Requirement already satisfied: typing-extensions>=3.7.4.3 in /usr/local/lib/python3.8/dist-packages (from huggingface-hub<1.0,>=0.11.0->transformers) (4.5.0)\n",
            "Requirement already satisfied: idna<3,>=2.5 in /usr/local/lib/python3.8/dist-packages (from requests->transformers) (2.10)\n",
            "Requirement already satisfied: chardet<5,>=3.0.2 in /usr/local/lib/python3.8/dist-packages (from requests->transformers) (4.0.0)\n",
            "Requirement already satisfied: certifi>=2017.4.17 in /usr/local/lib/python3.8/dist-packages (from requests->transformers) (2022.12.7)\n",
            "Requirement already satisfied: urllib3<1.27,>=1.21.1 in /usr/local/lib/python3.8/dist-packages (from requests->transformers) (1.26.14)\n",
            "Looking in indexes: https://pypi.org/simple, https://us-python.pkg.dev/colab-wheels/public/simple/\n",
            "Requirement already satisfied: datasets in /usr/local/lib/python3.8/dist-packages (2.10.1)\n",
            "Requirement already satisfied: packaging in /usr/local/lib/python3.8/dist-packages (from datasets) (23.0)\n",
            "Requirement already satisfied: pyarrow>=6.0.0 in /usr/local/lib/python3.8/dist-packages (from datasets) (9.0.0)\n",
            "Requirement already satisfied: pyyaml>=5.1 in /usr/local/lib/python3.8/dist-packages (from datasets) (6.0)\n",
            "Requirement already satisfied: requests>=2.19.0 in /usr/local/lib/python3.8/dist-packages (from datasets) (2.25.1)\n",
            "Requirement already satisfied: xxhash in /usr/local/lib/python3.8/dist-packages (from datasets) (3.2.0)\n",
            "Requirement already satisfied: huggingface-hub<1.0.0,>=0.2.0 in /usr/local/lib/python3.8/dist-packages (from datasets) (0.12.1)\n",
            "Requirement already satisfied: numpy>=1.17 in /usr/local/lib/python3.8/dist-packages (from datasets) (1.22.4)\n",
            "Requirement already satisfied: dill<0.3.7,>=0.3.0 in /usr/local/lib/python3.8/dist-packages (from datasets) (0.3.6)\n",
            "Requirement already satisfied: pandas in /usr/local/lib/python3.8/dist-packages (from datasets) (1.3.5)\n",
            "Requirement already satisfied: fsspec[http]>=2021.11.1 in /usr/local/lib/python3.8/dist-packages (from datasets) (2023.1.0)\n",
            "Requirement already satisfied: multiprocess in /usr/local/lib/python3.8/dist-packages (from datasets) (0.70.14)\n",
            "Requirement already satisfied: responses<0.19 in /usr/local/lib/python3.8/dist-packages (from datasets) (0.18.0)\n",
            "Requirement already satisfied: tqdm>=4.62.1 in /usr/local/lib/python3.8/dist-packages (from datasets) (4.64.1)\n",
            "Requirement already satisfied: aiohttp in /usr/local/lib/python3.8/dist-packages (from datasets) (3.8.4)\n",
            "Requirement already satisfied: yarl<2.0,>=1.0 in /usr/local/lib/python3.8/dist-packages (from aiohttp->datasets) (1.8.2)\n",
            "Requirement already satisfied: charset-normalizer<4.0,>=2.0 in /usr/local/lib/python3.8/dist-packages (from aiohttp->datasets) (3.0.1)\n",
            "Requirement already satisfied: multidict<7.0,>=4.5 in /usr/local/lib/python3.8/dist-packages (from aiohttp->datasets) (6.0.4)\n",
            "Requirement already satisfied: attrs>=17.3.0 in /usr/local/lib/python3.8/dist-packages (from aiohttp->datasets) (22.2.0)\n",
            "Requirement already satisfied: frozenlist>=1.1.1 in /usr/local/lib/python3.8/dist-packages (from aiohttp->datasets) (1.3.3)\n",
            "Requirement already satisfied: aiosignal>=1.1.2 in /usr/local/lib/python3.8/dist-packages (from aiohttp->datasets) (1.3.1)\n",
            "Requirement already satisfied: async-timeout<5.0,>=4.0.0a3 in /usr/local/lib/python3.8/dist-packages (from aiohttp->datasets) (4.0.2)\n",
            "Requirement already satisfied: filelock in /usr/local/lib/python3.8/dist-packages (from huggingface-hub<1.0.0,>=0.2.0->datasets) (3.9.0)\n",
            "Requirement already satisfied: typing-extensions>=3.7.4.3 in /usr/local/lib/python3.8/dist-packages (from huggingface-hub<1.0.0,>=0.2.0->datasets) (4.5.0)\n",
            "Requirement already satisfied: certifi>=2017.4.17 in /usr/local/lib/python3.8/dist-packages (from requests>=2.19.0->datasets) (2022.12.7)\n",
            "Requirement already satisfied: chardet<5,>=3.0.2 in /usr/local/lib/python3.8/dist-packages (from requests>=2.19.0->datasets) (4.0.0)\n",
            "Requirement already satisfied: urllib3<1.27,>=1.21.1 in /usr/local/lib/python3.8/dist-packages (from requests>=2.19.0->datasets) (1.26.14)\n",
            "Requirement already satisfied: idna<3,>=2.5 in /usr/local/lib/python3.8/dist-packages (from requests>=2.19.0->datasets) (2.10)\n",
            "Requirement already satisfied: python-dateutil>=2.7.3 in /usr/local/lib/python3.8/dist-packages (from pandas->datasets) (2.8.2)\n",
            "Requirement already satisfied: pytz>=2017.3 in /usr/local/lib/python3.8/dist-packages (from pandas->datasets) (2022.7.1)\n",
            "Requirement already satisfied: six>=1.5 in /usr/local/lib/python3.8/dist-packages (from python-dateutil>=2.7.3->pandas->datasets) (1.15.0)\n",
            "Looking in indexes: https://pypi.org/simple, https://us-python.pkg.dev/colab-wheels/public/simple/\n",
            "Requirement already satisfied: pytorch_metric_learning in /usr/local/lib/python3.8/dist-packages (2.0.1)\n",
            "Requirement already satisfied: tqdm in /usr/local/lib/python3.8/dist-packages (from pytorch_metric_learning) (4.64.1)\n",
            "Requirement already satisfied: scikit-learn in /usr/local/lib/python3.8/dist-packages (from pytorch_metric_learning) (1.2.1)\n",
            "Requirement already satisfied: torch>=1.6.0 in /usr/local/lib/python3.8/dist-packages (from pytorch_metric_learning) (1.13.1+cu116)\n",
            "Requirement already satisfied: numpy in /usr/local/lib/python3.8/dist-packages (from pytorch_metric_learning) (1.22.4)\n",
            "Requirement already satisfied: typing-extensions in /usr/local/lib/python3.8/dist-packages (from torch>=1.6.0->pytorch_metric_learning) (4.5.0)\n",
            "Requirement already satisfied: scipy>=1.3.2 in /usr/local/lib/python3.8/dist-packages (from scikit-learn->pytorch_metric_learning) (1.10.1)\n",
            "Requirement already satisfied: joblib>=1.1.1 in /usr/local/lib/python3.8/dist-packages (from scikit-learn->pytorch_metric_learning) (1.2.0)\n",
            "Requirement already satisfied: threadpoolctl>=2.0.0 in /usr/local/lib/python3.8/dist-packages (from scikit-learn->pytorch_metric_learning) (3.1.0)\n",
            "Looking in indexes: https://pypi.org/simple, https://us-python.pkg.dev/colab-wheels/public/simple/\n",
            "Requirement already satisfied: opendatasets in /usr/local/lib/python3.8/dist-packages (0.1.22)\n",
            "Requirement already satisfied: tqdm in /usr/local/lib/python3.8/dist-packages (from opendatasets) (4.64.1)\n",
            "Requirement already satisfied: kaggle in /usr/local/lib/python3.8/dist-packages (from opendatasets) (1.5.12)\n",
            "Requirement already satisfied: click in /usr/local/lib/python3.8/dist-packages (from opendatasets) (8.1.3)\n",
            "Requirement already satisfied: certifi in /usr/local/lib/python3.8/dist-packages (from kaggle->opendatasets) (2022.12.7)\n",
            "Requirement already satisfied: python-slugify in /usr/local/lib/python3.8/dist-packages (from kaggle->opendatasets) (8.0.1)\n",
            "Requirement already satisfied: requests in /usr/local/lib/python3.8/dist-packages (from kaggle->opendatasets) (2.25.1)\n",
            "Requirement already satisfied: urllib3 in /usr/local/lib/python3.8/dist-packages (from kaggle->opendatasets) (1.26.14)\n",
            "Requirement already satisfied: python-dateutil in /usr/local/lib/python3.8/dist-packages (from kaggle->opendatasets) (2.8.2)\n",
            "Requirement already satisfied: six>=1.10 in /usr/local/lib/python3.8/dist-packages (from kaggle->opendatasets) (1.15.0)\n",
            "Requirement already satisfied: text-unidecode>=1.3 in /usr/local/lib/python3.8/dist-packages (from python-slugify->kaggle->opendatasets) (1.3)\n",
            "Requirement already satisfied: idna<3,>=2.5 in /usr/local/lib/python3.8/dist-packages (from requests->kaggle->opendatasets) (2.10)\n",
            "Requirement already satisfied: chardet<5,>=3.0.2 in /usr/local/lib/python3.8/dist-packages (from requests->kaggle->opendatasets) (4.0.0)\n",
            "Looking in indexes: https://pypi.org/simple, https://us-python.pkg.dev/colab-wheels/public/simple/\n",
            "Requirement already satisfied: pydub in /usr/local/lib/python3.8/dist-packages (0.25.1)\n"
          ]
        }
      ],
      "source": [
        "!pip install transformers\n",
        "!pip install datasets\n",
        "!pip install pytorch_metric_learning\n",
        "!pip install opendatasets\n",
        "!pip install pydub"
      ]
    },
    {
      "cell_type": "code",
      "execution_count": null,
      "metadata": {
        "colab": {
          "base_uri": "https://localhost:8080/"
        },
        "id": "jkn7EUjBtXOG",
        "outputId": "e0d84579-f0eb-4def-c1fd-5a315fadba94"
      },
      "outputs": [
        {
          "output_type": "stream",
          "name": "stdout",
          "text": [
            "Drive already mounted at /content/drive; to attempt to forcibly remount, call drive.mount(\"/content/drive\", force_remount=True).\n",
            "/content/drive/My Drive/NLP_PROJECT\n"
          ]
        }
      ],
      "source": [
        "import sys\n",
        "from google.colab import drive\n",
        "drive.mount('/content/drive')\n",
        "address = \"NLP_PROJECT/\"\n",
        "sys.path.append(f\"/content/drive/My Drive/{address}\")\n",
        "%cd /content/drive/My\\ Drive/$address"
      ]
    },
    {
      "cell_type": "markdown",
      "source": [
        "# Libraries"
      ],
      "metadata": {
        "id": "ntvbwrBJ9_Z6"
      }
    },
    {
      "cell_type": "code",
      "execution_count": null,
      "metadata": {
        "id": "9RcYEd6H5yyT"
      },
      "outputs": [],
      "source": [
        "import torch\n",
        "from transformers import AutoProcessor, Wav2Vec2Model\n",
        "from datasets import load_dataset\n",
        "from transformers import AutoTokenizer, AutoModel\n",
        "import numpy as np\n",
        "import torch.nn.functional as F\n",
        "import torch.nn as nn\n",
        "from tqdm import tqdm\n",
        "from torch.utils.data import Dataset, DataLoader, random_split\n",
        "from sklearn.model_selection import train_test_split\n",
        "from pytorch_metric_learning.losses import ContrastiveLoss\n",
        "from time import time\n",
        "from matplotlib import pyplot as plt\n",
        "from sklearn.metrics import accuracy_score\n",
        "import os\n",
        "from pydub import AudioSegment\n",
        "import opendatasets as od\n",
        "import pandas as pd\n",
        "import gc\n",
        "import random\n",
        "import pickle\n",
        "from sklearn.metrics import f1_score, confusion_matrix\n",
        "from sklearn.metrics import recall_score\n",
        "from sklearn.metrics import f1_score\n",
        "from sklearn.metrics import accuracy_score\n",
        "from sklearn.metrics import precision_recall_fscore_support"
      ]
    },
    {
      "cell_type": "code",
      "execution_count": null,
      "metadata": {
        "colab": {
          "base_uri": "https://localhost:8080/"
        },
        "id": "zWRMbpK2lN5E",
        "outputId": "6f4c93a7-a54b-43fa-c299-6143a39a0c53"
      },
      "outputs": [
        {
          "output_type": "execute_result",
          "data": {
            "text/plain": [
              "device(type='cuda')"
            ]
          },
          "metadata": {},
          "execution_count": 4
        }
      ],
      "source": [
        "device = torch.device(\"cuda\" if torch.cuda.is_available() else \"cpu\")\n",
        "device"
      ]
    },
    {
      "cell_type": "markdown",
      "source": [
        "# Basic Pretrained Models"
      ],
      "metadata": {
        "id": "gzTFPYFL-C3s"
      }
    },
    {
      "cell_type": "markdown",
      "source": [
        "## Wav2Vec Model for Speech"
      ],
      "metadata": {
        "id": "G7bu1cFi-HnQ"
      }
    },
    {
      "cell_type": "code",
      "execution_count": null,
      "metadata": {
        "colab": {
          "base_uri": "https://localhost:8080/"
        },
        "id": "U7iOnIyVnOgt",
        "outputId": "f01bc792-159b-4820-9020-18f23ab953ee"
      },
      "outputs": [
        {
          "name": "stderr",
          "output_type": "stream",
          "text": [
            "WARNING:datasets.builder:Found cached dataset librispeech_asr_demo (/root/.cache/huggingface/datasets/hf-internal-testing___librispeech_asr_demo/clean/2.1.0/d3bc4c2bc2078fcde3ad0f0f635862e4c0fef78ba94c4a34c4c250a097af240b)\n",
            "Some weights of the model checkpoint at facebook/wav2vec2-base-960h were not used when initializing Wav2Vec2Model: ['lm_head.bias', 'lm_head.weight']\n",
            "- This IS expected if you are initializing Wav2Vec2Model from the checkpoint of a model trained on another task or with another architecture (e.g. initializing a BertForSequenceClassification model from a BertForPreTraining model).\n",
            "- This IS NOT expected if you are initializing Wav2Vec2Model from the checkpoint of a model that you expect to be exactly identical (initializing a BertForSequenceClassification model from a BertForSequenceClassification model).\n",
            "Some weights of Wav2Vec2Model were not initialized from the model checkpoint at facebook/wav2vec2-base-960h and are newly initialized: ['wav2vec2.masked_spec_embed']\n",
            "You should probably TRAIN this model on a down-stream task to be able to use it for predictions and inference.\n"
          ]
        },
        {
          "data": {
            "text/plain": [
              "[768]"
            ]
          },
          "execution_count": 3,
          "metadata": {},
          "output_type": "execute_result"
        }
      ],
      "source": [
        "dataset = load_dataset(\"hf-internal-testing/librispeech_asr_demo\", \"clean\", split=\"validation\")\n",
        "dataset = dataset.sort(\"id\")\n",
        "sampling_rate = dataset.features[\"audio\"].sampling_rate\n",
        "\n",
        "audio_processor = AutoProcessor.from_pretrained(\"facebook/wav2vec2-base-960h\")\n",
        "audio_model = Wav2Vec2Model.from_pretrained(\"facebook/wav2vec2-base-960h\")\n",
        "\n",
        "# audio file is decoded on the fly\n",
        "inputs = audio_processor(dataset[0][\"audio\"][\"array\"], sampling_rate=sampling_rate, return_tensors=\"pt\")\n",
        "with torch.no_grad():\n",
        "    outputs = audio_model(**inputs)\n",
        "\n",
        "last_hidden_states = outputs.last_hidden_state.squeeze(0)\n",
        "embeddings = last_hidden_states.mean(dim=0)\n",
        "list(embeddings.shape)"
      ]
    },
    {
      "cell_type": "markdown",
      "source": [
        "## LaBSE Model for Text"
      ],
      "metadata": {
        "id": "Wouc2c74-ZlW"
      }
    },
    {
      "cell_type": "code",
      "execution_count": null,
      "metadata": {
        "colab": {
          "base_uri": "https://localhost:8080/"
        },
        "id": "j6fiAbW2d_jN",
        "outputId": "b96c4515-7bd3-4400-c5e3-00e076eddcdd"
      },
      "outputs": [
        {
          "data": {
            "text/plain": [
              "torch.Size([3, 768])"
            ]
          },
          "execution_count": 8,
          "metadata": {},
          "output_type": "execute_result"
        }
      ],
      "source": [
        "# import torch\n",
        "# from transformers import BertModel, BertTokenizerFast\n",
        "\n",
        "\n",
        "# tokenizer = BertTokenizerFast.from_pretrained(\"setu4993/LaBSE\")\n",
        "# text_model = BertModel.from_pretrained(\"setu4993/LaBSE\")\n",
        "# text_model = text_model.eval()\n",
        "\n",
        "# english_sentences = [\n",
        "#     \"dog\",\n",
        "#     \"Puppies are nice.\",\n",
        "#     \"I enjoy taking long walks along the beach with my dog.\",\n",
        "# ]\n",
        "# english_inputs = tokenizer(english_sentences, return_tensors=\"pt\", padding=True)\n",
        "\n",
        "# english_outputs = text_model(**english_inputs)\n",
        "# pooled_embeddings = english_outputs.pooler_output\n",
        "# pooled_embeddings.size()"
      ]
    },
    {
      "cell_type": "markdown",
      "source": [
        "## Bert Model for Text"
      ],
      "metadata": {
        "id": "aCsOnoFA-dSA"
      }
    },
    {
      "cell_type": "code",
      "execution_count": null,
      "metadata": {
        "colab": {
          "base_uri": "https://localhost:8080/",
          "height": 268,
          "referenced_widgets": [
            "99ac7ac1bf584392b5bd55cfa49c1a53",
            "680c3db24b9a4d8480803f50cc94503d",
            "611f7af3f9e84ebfb11a3f15512df989",
            "547e9c55fb8a4a019df64eb545ada86a",
            "15f6f87abc5e4d82b524b780cdd2d0de",
            "2537671bbb4c425faf01e65f5ddcf83a",
            "9781993b8304431598d0498b3e72e636",
            "b9f55ad3326042dda309ce7a2b5e78df",
            "cab359da6a54442eae61f34ea5a93016",
            "3bf1f6d8563e47dd9f1c686a4c96489e",
            "6e457a30ebe94989bdfe2c0b06f75efd",
            "e8d594ce93f14a5193c483fc76ebd29f",
            "a75af09958124c858238fcc4bda290ef",
            "4e525c35aca948a981bf700ab2b072ac",
            "b8bfecf98b5b46de9d61bff8f88aec3e",
            "2a220df9c306493ba70fd36f78f7985c",
            "a30d8e1502af4368aac562ec67f33870",
            "619a085394d348618aca06d1eefeec81",
            "174d89f4d86044b28f5ad0a0f5ea368d",
            "d2baa20a237b414caa6216a920f41eed",
            "68986dc0db57437ead3a06bb744e62de",
            "394bf1a63dcb421691e521e7d96ed4a7",
            "ebd31513c6dd47d89a435deece5314e5",
            "3bc74fe2aec74cd8a5caab422583d393",
            "e3f1747dbd694cefa89e8ec235564d1f",
            "820330f3ca834d959adcd1aa12dd41a3",
            "f069073bae37412196fa66d29b8aa6cf",
            "d4ad0ee2a0074ef5bb8ae9c9b51b4f06",
            "98074af9e65b4f8f91545be10adef7de",
            "02e4b5eff1ee48ebae9880cfff01b354",
            "04af52f0c9c14ca084145c5536d31165",
            "04ae6577c4c54a688d669b1ffc7e81a3",
            "e663dc95408e4392a97ce74ba9d79702",
            "2fc7d516e3724cf189741d01adc9ae1f",
            "1ff16c97b67b42c0a1d2ab77cd4b50f5",
            "b744d427131444578c6429fc3a2cde61",
            "ce85bc69cde34460879488642d641f15",
            "908bfda487e245f1a7b71b6e5e7e3918",
            "fea7ca2ab7254ff698925926617f3140",
            "bf30de4bca564e0c8f8b4c5eba87e2fd",
            "5b36d448818d4f4787181a2ba9f3f468",
            "8b54cfc40c794fc58d4a030b33ca73ec",
            "7d4df079adc54dffa9bfec5f8dcf0899",
            "1019ad31e20343158c88fbe1879ba4c5",
            "8b41b8d7111d4a439d8b9e494e8c46b5",
            "dd62e32ea38f4029a93eea5be59a0e73",
            "ed8cfda08fa040b0929987094db57ade",
            "2a626a511f244f8296d6d801946fd984",
            "e76faaa9f46e40d98c77319e90af8d3c",
            "b52253590b474dec9efc41f35d09ed55",
            "e6a1297b8c2a4a8b858c0ce58de20299",
            "de4153923471408880b934554b2dcb54",
            "fdb2df8fcc3c4a87839197a45b33e12f",
            "78e9203d04cc4057a96aa8c22cac0529",
            "14c9c706efa44c339239d6f927dd46ae"
          ]
        },
        "id": "UG16zpz8nd70",
        "outputId": "ea2d7a3d-8978-4d95-b2fd-939ec9bbc20c"
      },
      "outputs": [
        {
          "data": {
            "application/vnd.jupyter.widget-view+json": {
              "model_id": "99ac7ac1bf584392b5bd55cfa49c1a53",
              "version_major": 2,
              "version_minor": 0
            },
            "text/plain": [
              "Downloading (…)okenizer_config.json:   0%|          | 0.00/28.0 [00:00<?, ?B/s]"
            ]
          },
          "metadata": {},
          "output_type": "display_data"
        },
        {
          "data": {
            "application/vnd.jupyter.widget-view+json": {
              "model_id": "e8d594ce93f14a5193c483fc76ebd29f",
              "version_major": 2,
              "version_minor": 0
            },
            "text/plain": [
              "Downloading (…)lve/main/config.json:   0%|          | 0.00/570 [00:00<?, ?B/s]"
            ]
          },
          "metadata": {},
          "output_type": "display_data"
        },
        {
          "data": {
            "application/vnd.jupyter.widget-view+json": {
              "model_id": "ebd31513c6dd47d89a435deece5314e5",
              "version_major": 2,
              "version_minor": 0
            },
            "text/plain": [
              "Downloading (…)solve/main/vocab.txt:   0%|          | 0.00/232k [00:00<?, ?B/s]"
            ]
          },
          "metadata": {},
          "output_type": "display_data"
        },
        {
          "data": {
            "application/vnd.jupyter.widget-view+json": {
              "model_id": "2fc7d516e3724cf189741d01adc9ae1f",
              "version_major": 2,
              "version_minor": 0
            },
            "text/plain": [
              "Downloading (…)/main/tokenizer.json:   0%|          | 0.00/466k [00:00<?, ?B/s]"
            ]
          },
          "metadata": {},
          "output_type": "display_data"
        },
        {
          "data": {
            "application/vnd.jupyter.widget-view+json": {
              "model_id": "8b41b8d7111d4a439d8b9e494e8c46b5",
              "version_major": 2,
              "version_minor": 0
            },
            "text/plain": [
              "Downloading (…)\"pytorch_model.bin\";:   0%|          | 0.00/440M [00:00<?, ?B/s]"
            ]
          },
          "metadata": {},
          "output_type": "display_data"
        },
        {
          "name": "stderr",
          "output_type": "stream",
          "text": [
            "Some weights of the model checkpoint at bert-base-uncased were not used when initializing BertModel: ['cls.predictions.transform.dense.bias', 'cls.predictions.transform.LayerNorm.bias', 'cls.predictions.transform.dense.weight', 'cls.predictions.transform.LayerNorm.weight', 'cls.seq_relationship.weight', 'cls.predictions.bias', 'cls.seq_relationship.bias', 'cls.predictions.decoder.weight']\n",
            "- This IS expected if you are initializing BertModel from the checkpoint of a model trained on another task or with another architecture (e.g. initializing a BertForSequenceClassification model from a BertForPreTraining model).\n",
            "- This IS NOT expected if you are initializing BertModel from the checkpoint of a model that you expect to be exactly identical (initializing a BertForSequenceClassification model from a BertForSequenceClassification model).\n"
          ]
        },
        {
          "data": {
            "text/plain": [
              "torch.Size([768])"
            ]
          },
          "execution_count": 4,
          "metadata": {},
          "output_type": "execute_result"
        }
      ],
      "source": [
        "tokenizer = AutoTokenizer.from_pretrained(\"bert-base-uncased\")\n",
        "text_model = AutoModel.from_pretrained(\"bert-base-uncased\")\n",
        "\n",
        "sentence = \"This is a test sentence.\"\n",
        "inputs = tokenizer(sentence, return_tensors=\"pt\")\n",
        "outputs = text_model(**inputs)\n",
        "\n",
        "embeddings = outputs.last_hidden_state.squeeze(0)\n",
        "pooled_embeddings = embeddings.mean(dim=0)\n",
        "pooled_embeddings.size()"
      ]
    },
    {
      "cell_type": "markdown",
      "source": [
        "# joint Encoder Model"
      ],
      "metadata": {
        "id": "noIpMvr5-hOO"
      }
    },
    {
      "cell_type": "markdown",
      "source": [
        "## Model and Loss"
      ],
      "metadata": {
        "id": "gRhu-JyW-qPA"
      }
    },
    {
      "cell_type": "code",
      "execution_count": null,
      "metadata": {
        "id": "L7zKAiQin8wX"
      },
      "outputs": [],
      "source": [
        "class JointNN(nn.Module):\n",
        "    def __init__(self, in_features):\n",
        "        super(JointNN, self).__init__()\n",
        "        self.text_seq = nn.Sequential(\n",
        "            nn.Linear(in_features, 576),\n",
        "            nn.BatchNorm1d(576),\n",
        "            nn.LeakyReLU(),\n",
        "            nn.Linear(576, 384),\n",
        "        )\n",
        "        self.audio_seq = nn.Sequential(\n",
        "            nn.Linear(in_features, 576),\n",
        "            nn.BatchNorm1d(576),\n",
        "            nn.LeakyReLU(),\n",
        "            nn.Linear(576, 384),\n",
        "        )\n",
        "\n",
        "    def forward(self, x_text, x_audio):\n",
        "        x1 = self.text_seq(x_text)\n",
        "        x2 = self.audio_seq(x_audio)\n",
        "        return x1, x2"
      ]
    },
    {
      "cell_type": "code",
      "execution_count": null,
      "metadata": {
        "id": "VkjU80TKrGPk"
      },
      "outputs": [],
      "source": [
        "class SimCLR_Loss(nn.Module):\n",
        "    def __init__(self, batch_size=32, temperature=0.5):\n",
        "        super().__init__()\n",
        "        self.batch_size = batch_size\n",
        "        self.temperature = temperature\n",
        "\n",
        "        self.mask = self.mask_correlated_samples(batch_size)\n",
        "        self.criterion = nn.CrossEntropyLoss(reduction=\"sum\")\n",
        "        self.similarity_f = nn.CosineSimilarity(dim=2)\n",
        "\n",
        "    def mask_correlated_samples(self, batch_size):\n",
        "        N = 2 * batch_size\n",
        "        mask = torch.ones((N, N), dtype=bool)\n",
        "        mask = mask.fill_diagonal_(0)\n",
        "        \n",
        "        for i in range(batch_size):\n",
        "            mask[i, batch_size + i] = 0\n",
        "            mask[batch_size + i, i] = 0\n",
        "        return mask\n",
        "\n",
        "    def forward(self, z_i, z_j):\n",
        "\n",
        "        N = 2 * self.batch_size\n",
        "\n",
        "        z = torch.cat((z_i, z_j), dim=0)\n",
        "\n",
        "        sim = self.similarity_f(z.unsqueeze(1), z.unsqueeze(0)) / self.temperature\n",
        "\n",
        "        sim_i_j = torch.diag(sim, self.batch_size)\n",
        "        sim_j_i = torch.diag(sim, -self.batch_size)\n",
        "        \n",
        "        # We have 2N samples, but with Distributed training every GPU gets N examples too, resulting in: 2xNxN\n",
        "        positive_samples = torch.cat((sim_i_j, sim_j_i), dim=0).reshape(N, 1)\n",
        "        negative_samples = sim[self.mask].reshape(N, -1)\n",
        "        \n",
        "        #SIMCLR\n",
        "        labels = torch.from_numpy(np.array([0]*N)).reshape(-1).to(positive_samples.device).long() #.float()\n",
        "        \n",
        "        logits = torch.cat((positive_samples, negative_samples), dim=1)\n",
        "        loss = self.criterion(logits, labels)\n",
        "        loss /= N\n",
        "        \n",
        "        return loss"
      ]
    },
    {
      "cell_type": "markdown",
      "source": [
        "## Prepare Dataset"
      ],
      "metadata": {
        "id": "HabAAv_W-tK0"
      }
    },
    {
      "cell_type": "code",
      "execution_count": null,
      "metadata": {
        "colab": {
          "base_uri": "https://localhost:8080/",
          "height": 87,
          "referenced_widgets": [
            "5cf47d0e04c24c2ab7416a2a724ec847",
            "ad2c5f057ce342359b836ae4f3828ca9",
            "cf79841fbdab4dbc988faae1f22cbbcb",
            "00e65c506919436aafa54f2b04ae03eb",
            "2e4206a9aa2241b4a2d725efcab9997d",
            "d147594655d649fdbb7d97e97717215c",
            "e47f2907a7034f58bc4752b101e3894d",
            "b3b39fdf1f434256a33d92d5b3e4be49",
            "2eddbc8299044d9495340fe7bdc719c0",
            "8dcf9a8f70844f56b161dfa7df403805",
            "63b019a913194578a956524112b88556"
          ]
        },
        "id": "FYZDhjEPu0Lc",
        "outputId": "c6927f72-e374-49f3-a04f-0012fa43f2c5"
      },
      "outputs": [
        {
          "name": "stderr",
          "output_type": "stream",
          "text": [
            "WARNING:datasets.builder:Found cached dataset slue (/root/.cache/huggingface/datasets/asapp___slue/voxpopuli/2.4.0/6eef0a9b9ce2693a4f0ffdf4dd74ab5dc6e95bcd07366ac2a2b275a5b296f90d)\n"
          ]
        },
        {
          "data": {
            "application/vnd.jupyter.widget-view+json": {
              "model_id": "5cf47d0e04c24c2ab7416a2a724ec847",
              "version_major": 2,
              "version_minor": 0
            },
            "text/plain": [
              "  0%|          | 0/3 [00:00<?, ?it/s]"
            ]
          },
          "metadata": {},
          "output_type": "display_data"
        }
      ],
      "source": [
        "dataset = load_dataset(\"asapp/slue\", \"voxpopuli\")"
      ]
    },
    {
      "cell_type": "code",
      "execution_count": null,
      "metadata": {
        "colab": {
          "base_uri": "https://localhost:8080/"
        },
        "id": "NZZT4QYBvJDg",
        "outputId": "3fe0866d-5a36-407c-e074-4c7275213c5f"
      },
      "outputs": [
        {
          "name": "stderr",
          "output_type": "stream",
          "text": [
            "WARNING:datasets.arrow_dataset:Loading cached shuffled indices for dataset at /root/.cache/huggingface/datasets/asapp___slue/voxpopuli/2.4.0/6eef0a9b9ce2693a4f0ffdf4dd74ab5dc6e95bcd07366ac2a2b275a5b296f90d/cache-994e0bac0a4b7b15.arrow\n"
          ]
        }
      ],
      "source": [
        "selected_dataset = dataset['train'].shuffle(0).select(range(60))"
      ]
    },
    {
      "cell_type": "code",
      "execution_count": null,
      "metadata": {
        "id": "nXqeiKNbvU8R"
      },
      "outputs": [],
      "source": [
        "texts = selected_dataset['normalized_text']\n",
        "audios = [x[\"array\"] for x in selected_dataset['audio']]"
      ]
    },
    {
      "cell_type": "code",
      "execution_count": null,
      "metadata": {
        "colab": {
          "base_uri": "https://localhost:8080/"
        },
        "id": "LMGWCuBOwPCY",
        "outputId": "3ced0678-abef-4b9f-ebf8-d703b2c5ff77"
      },
      "outputs": [
        {
          "name": "stderr",
          "output_type": "stream",
          "text": [
            "100%|██████████| 60/60 [00:08<00:00,  6.94it/s]\n"
          ]
        }
      ],
      "source": [
        "text_embeddings = []\n",
        "for text in tqdm(texts):\n",
        "  inputs = tokenizer(text, return_tensors=\"pt\")\n",
        "  outputs = text_model(**inputs)\n",
        "\n",
        "  embeddings = outputs.last_hidden_state.squeeze(0)\n",
        "  pooled_embeddings = embeddings.mean(dim=0)\n",
        "  text_embeddings.append(pooled_embeddings)"
      ]
    },
    {
      "cell_type": "code",
      "execution_count": null,
      "metadata": {
        "colab": {
          "base_uri": "https://localhost:8080/"
        },
        "id": "CDrPx7i0wjaJ",
        "outputId": "6c1037d0-f3dd-4f14-8689-bdb032402faf"
      },
      "outputs": [
        {
          "name": "stderr",
          "output_type": "stream",
          "text": [
            "100%|██████████| 60/60 [03:15<00:00,  3.26s/it]\n"
          ]
        }
      ],
      "source": [
        "audio_embeddings = []\n",
        "for audio in tqdm(audios):\n",
        "  inputs = audio_processor(audio, sampling_rate=sampling_rate, return_tensors=\"pt\")\n",
        "  with torch.no_grad():\n",
        "      outputs = audio_model(**inputs)\n",
        "  last_hidden_states = outputs.last_hidden_state.squeeze(0)\n",
        "  embeddings = last_hidden_states.mean(dim=0)\n",
        "  audio_embeddings.append(embeddings)"
      ]
    },
    {
      "cell_type": "code",
      "execution_count": null,
      "metadata": {
        "colab": {
          "base_uri": "https://localhost:8080/"
        },
        "id": "9xa49L4lw4Xi",
        "outputId": "1647d271-c39e-402c-93ae-71316d112160"
      },
      "outputs": [
        {
          "data": {
            "text/plain": [
              "60"
            ]
          },
          "execution_count": 13,
          "metadata": {},
          "output_type": "execute_result"
        }
      ],
      "source": [
        "len(text_embeddings)"
      ]
    },
    {
      "cell_type": "code",
      "execution_count": null,
      "metadata": {
        "colab": {
          "base_uri": "https://localhost:8080/"
        },
        "id": "ZPF8_Qj3w9Gh",
        "outputId": "dc0586ae-1046-4dda-877e-35309ac72602"
      },
      "outputs": [
        {
          "data": {
            "text/plain": [
              "60"
            ]
          },
          "execution_count": 14,
          "metadata": {},
          "output_type": "execute_result"
        }
      ],
      "source": [
        "len(audio_embeddings)"
      ]
    },
    {
      "cell_type": "code",
      "execution_count": null,
      "metadata": {
        "id": "1yJW4hi0vfCA"
      },
      "outputs": [],
      "source": [
        "class MMDataSet(Dataset):\n",
        "    def __init__(self, text_embeddings, audio_embeddings):\n",
        "        self.text_embedings = text_embeddings\n",
        "        self.audio_embeddings = audio_embeddings\n",
        "        \n",
        "    def __len__(self):\n",
        "        return len(self.text_embedings)\n",
        "\n",
        "    def __getitem__(self, i):\n",
        "        return self.text_embedings[i], self.audio_embeddings[i]"
      ]
    },
    {
      "cell_type": "markdown",
      "source": [
        "## Train Test Split"
      ],
      "metadata": {
        "id": "t-BCNlF6-0Fz"
      }
    },
    {
      "cell_type": "code",
      "execution_count": null,
      "metadata": {
        "id": "f4_5O1t4xlYO"
      },
      "outputs": [],
      "source": [
        "text_embedding_train, text_embedding_test, audio_embedding_train, audio_embedding_test = train_test_split(text_embeddings, audio_embeddings, test_size=0.2, random_state=42)\n",
        "\n",
        "train_loader = DataLoader(dataset= MMDataSet(text_embedding_train, audio_embedding_train), batch_size=8, shuffle=True)\n",
        "test_loader = DataLoader(dataset= MMDataSet(text_embedding_test, audio_embedding_test), batch_size=8, shuffle=False)"
      ]
    },
    {
      "cell_type": "markdown",
      "source": [
        "## Train Model"
      ],
      "metadata": {
        "id": "l621LpgV-2yd"
      }
    },
    {
      "cell_type": "code",
      "execution_count": null,
      "metadata": {
        "id": "zDixxlCsyVCl"
      },
      "outputs": [],
      "source": [
        "model = JointNN(768).to(device)"
      ]
    },
    {
      "cell_type": "code",
      "execution_count": null,
      "metadata": {
        "id": "rDmUXxe7yC0R"
      },
      "outputs": [],
      "source": [
        "criterion = ContrastiveLoss()\n",
        "learning_rate = 1e-5\n",
        "optimizer = torch.optim.Adam(model.parameters(), lr=learning_rate)"
      ]
    },
    {
      "cell_type": "code",
      "execution_count": null,
      "metadata": {
        "id": "ou_d1aRJyjaQ"
      },
      "outputs": [],
      "source": [
        "def eval_epoch(model: nn.Module, criterion: nn.Module, dataloader: torch.utils.data.DataLoader, test_mode=False):\n",
        "    eval_loss = 0\n",
        "    i = 0 \n",
        "\n",
        "    with torch.no_grad(), tqdm(enumerate(dataloader), total=len(dataloader)) as pbar:\n",
        "        for i, (text_emb, audio_emb) in pbar:\n",
        "            text_emb = text_emb.to(device)\n",
        "            audio_emb = audio_emb.to(device)\n",
        "            text_final_emb, audio_final_emb = model(text_emb, audio_emb)\n",
        "\n",
        "            batch_size = text_emb.shape[0]\n",
        "            labels = torch.zeros(batch_size * batch_size)\n",
        "            text_embs_series = torch.zeros(batch_size * batch_size, text_final_emb.shape[1])\n",
        "            audio_embs_series = torch.zeros(batch_size * batch_size, text_final_emb.shape[1])\n",
        "\n",
        "            for i in range(batch_size):\n",
        "              for j in range(batch_size):\n",
        "                text_embs_series[(batch_size * i) + j] = text_final_emb[i,:]\n",
        "                audio_embs_series[(batch_size * i) + j] = audio_final_emb[j,:]\n",
        "                if i == j:\n",
        "                  labels[(batch_size * i) + j] = 1                    \n",
        "\n",
        "            loss = criterion(text_embs_series,  labels, ref_emb=audio_embs_series)\n",
        "\n",
        "            eval_loss += loss.item()\n",
        "\n",
        "            discription = 'Validation' if not test_mode else 'Test'\n",
        "            pbar.set_description(f'{discription} Loss: {loss.item():.4f}')\n",
        "    return eval_loss"
      ]
    },
    {
      "cell_type": "code",
      "execution_count": null,
      "metadata": {
        "id": "V35YXlaOm2cw"
      },
      "outputs": [],
      "source": [
        "import gc\n",
        "gc.collect()"
      ]
    },
    {
      "cell_type": "code",
      "execution_count": null,
      "metadata": {
        "colab": {
          "base_uri": "https://localhost:8080/"
        },
        "id": "DHkAfjQLymgB",
        "outputId": "3d63f164-0372-4312-d267-e0436234a3f1"
      },
      "outputs": [
        {
          "name": "stderr",
          "output_type": "stream",
          "text": [
            "Loss: 1.3808: 100%|██████████| 6/6 [00:18<00:00,  3.04s/it]\n",
            "Validation Loss: 1.4396: 100%|██████████| 2/2 [00:00<00:00, 138.91it/s]\n"
          ]
        },
        {
          "name": "stdout",
          "output_type": "stream",
          "text": [
            "Epoch 1 finished in 18.26s\n",
            "[Epoch 1]\tTrain Loss: 0.1738\tValidation Loss: 0.2397\n"
          ]
        },
        {
          "name": "stderr",
          "output_type": "stream",
          "text": [
            "Loss: 1.3588: 100%|██████████| 6/6 [00:18<00:00,  3.10s/it]\n",
            "Validation Loss: 1.4086: 100%|██████████| 2/2 [00:00<00:00, 121.85it/s]\n"
          ]
        },
        {
          "name": "stdout",
          "output_type": "stream",
          "text": [
            "Epoch 2 finished in 18.63s\n",
            "[Epoch 2]\tTrain Loss: 0.1709\tValidation Loss: 0.2349\n"
          ]
        },
        {
          "name": "stderr",
          "output_type": "stream",
          "text": [
            "Loss: 1.3356: 100%|██████████| 6/6 [00:18<00:00,  3.05s/it]\n",
            "Validation Loss: 1.3793: 100%|██████████| 2/2 [00:00<00:00, 155.23it/s]\n"
          ]
        },
        {
          "name": "stdout",
          "output_type": "stream",
          "text": [
            "Epoch 3 finished in 18.32s\n",
            "[Epoch 3]\tTrain Loss: 0.1678\tValidation Loss: 0.2299\n"
          ]
        },
        {
          "name": "stderr",
          "output_type": "stream",
          "text": [
            "Loss: 1.3085: 100%|██████████| 6/6 [00:19<00:00,  3.31s/it]\n",
            "Validation Loss: 1.3477: 100%|██████████| 2/2 [00:00<00:00, 145.81it/s]\n"
          ]
        },
        {
          "name": "stdout",
          "output_type": "stream",
          "text": [
            "Epoch 4 finished in 19.88s\n",
            "[Epoch 4]\tTrain Loss: 0.1648\tValidation Loss: 0.2241\n"
          ]
        },
        {
          "name": "stderr",
          "output_type": "stream",
          "text": [
            "Loss: 1.2810: 100%|██████████| 6/6 [00:20<00:00,  3.33s/it]\n",
            "Validation Loss: 1.3157: 100%|██████████| 2/2 [00:00<00:00, 165.39it/s]\n"
          ]
        },
        {
          "name": "stdout",
          "output_type": "stream",
          "text": [
            "Epoch 5 finished in 20.04s\n",
            "[Epoch 5]\tTrain Loss: 0.1615\tValidation Loss: 0.2183\n"
          ]
        },
        {
          "name": "stderr",
          "output_type": "stream",
          "text": [
            "Loss: 1.2535: 100%|██████████| 6/6 [00:17<00:00,  2.98s/it]\n",
            "Validation Loss: 1.2850: 100%|██████████| 2/2 [00:00<00:00, 158.87it/s]\n"
          ]
        },
        {
          "name": "stdout",
          "output_type": "stream",
          "text": [
            "Epoch 6 finished in 17.94s\n",
            "[Epoch 6]\tTrain Loss: 0.1584\tValidation Loss: 0.2128\n"
          ]
        },
        {
          "name": "stderr",
          "output_type": "stream",
          "text": [
            "Loss: 1.2282: 100%|██████████| 6/6 [00:17<00:00,  3.00s/it]\n",
            "Validation Loss: 1.2583: 100%|██████████| 2/2 [00:00<00:00, 151.81it/s]\n"
          ]
        },
        {
          "name": "stdout",
          "output_type": "stream",
          "text": [
            "Epoch 7 finished in 18.02s\n",
            "[Epoch 7]\tTrain Loss: 0.1549\tValidation Loss: 0.2080\n"
          ]
        },
        {
          "name": "stderr",
          "output_type": "stream",
          "text": [
            "Loss: 1.2112: 100%|██████████| 6/6 [00:18<00:00,  3.17s/it]\n",
            "Validation Loss: 1.2334: 100%|██████████| 2/2 [00:00<00:00, 165.73it/s]\n"
          ]
        },
        {
          "name": "stdout",
          "output_type": "stream",
          "text": [
            "Epoch 8 finished in 19.03s\n",
            "[Epoch 8]\tTrain Loss: 0.1519\tValidation Loss: 0.2036\n"
          ]
        },
        {
          "name": "stderr",
          "output_type": "stream",
          "text": [
            "Loss: 1.1694: 100%|██████████| 6/6 [00:17<00:00,  2.98s/it]\n",
            "Validation Loss: 1.2099: 100%|██████████| 2/2 [00:00<00:00, 141.93it/s]\n"
          ]
        },
        {
          "name": "stdout",
          "output_type": "stream",
          "text": [
            "Epoch 9 finished in 17.90s\n",
            "[Epoch 9]\tTrain Loss: 0.1481\tValidation Loss: 0.1996\n"
          ]
        },
        {
          "name": "stderr",
          "output_type": "stream",
          "text": [
            "Loss: 1.1403: 100%|██████████| 6/6 [00:17<00:00,  2.99s/it]\n",
            "Validation Loss: 1.1864: 100%|██████████| 2/2 [00:00<00:00, 136.48it/s]"
          ]
        },
        {
          "name": "stdout",
          "output_type": "stream",
          "text": [
            "Epoch 10 finished in 17.95s\n",
            "[Epoch 10]\tTrain Loss: 0.1448\tValidation Loss: 0.1956\n"
          ]
        },
        {
          "name": "stderr",
          "output_type": "stream",
          "text": [
            "\n"
          ]
        }
      ],
      "source": [
        "num_epochs = 10\n",
        "\n",
        "train_loss_arr, val_loss_arr = [], []\n",
        "for epoch in range(num_epochs):\n",
        "    start_time = time()\n",
        "\n",
        "    train_loss, val_loss = 0, 0\n",
        "    epoch_all = 0\n",
        "    epoch_true = 0\n",
        "    i = 0\n",
        "\n",
        "    model.train()\n",
        "    \n",
        "    with tqdm(enumerate(train_loader), total=len(train_loader)) as pbar:\n",
        "        for i, (text_emb, audio_emb) in pbar:    \n",
        "            text_emb = text_emb.to(device)\n",
        "            audio_emb = audio_emb.to(device)\n",
        "\n",
        "\n",
        "            text_final_emb, audio_final_emb = model(text_emb, audio_emb)\n",
        "            \n",
        "            batch_size = text_emb.shape[0]\n",
        "            labels = torch.zeros(batch_size * batch_size)\n",
        "            text_embs_series = torch.zeros(batch_size * batch_size, text_final_emb.shape[1])\n",
        "            audio_embs_series = torch.zeros(batch_size * batch_size, text_final_emb.shape[1])\n",
        "\n",
        "            for i in range(batch_size):\n",
        "              for j in range(batch_size):\n",
        "                text_embs_series[(batch_size * i) + j] = text_final_emb[i,:]\n",
        "                audio_embs_series[(batch_size * i) + j] = audio_final_emb[j,:]\n",
        "                if i == j:\n",
        "                  labels[(batch_size * i) + j] = 1                \n",
        "\n",
        "            loss = criterion(text_embs_series,  labels, ref_emb=audio_embs_series)\n",
        "            \n",
        "            train_loss += loss.item()\n",
        "\n",
        "            pbar.set_description(f'Loss: {loss.item():.4f}')\n",
        "\n",
        "            loss.backward(retain_graph=True)\n",
        "\n",
        "            optimizer.step()\n",
        "            optimizer.zero_grad()  \n",
        "  \n",
        "    model.eval()\n",
        "    \n",
        "    val_loss = eval_epoch(model, criterion, test_loader)\n",
        "    \n",
        "    train_loss /= len(train_loader.dataset)\n",
        "    val_loss /= len(test_loader.dataset)\n",
        "    train_loss_arr.append(train_loss)\n",
        "    val_loss_arr.append(val_loss)\n",
        "    \n",
        "    end_time = time()\n",
        "    \n",
        "    print(f'Epoch {epoch + 1} finished in {end_time - start_time:.2f}s')\n",
        "\n",
        "    print(f\"[Epoch {epoch + 1}]\\t\"\n",
        "        f\"Train Loss: {train_loss:.4f}\\t\"\n",
        "        f\"Validation Loss: {val_loss:.4f}\")"
      ]
    },
    {
      "cell_type": "code",
      "execution_count": null,
      "metadata": {
        "colab": {
          "base_uri": "https://localhost:8080/",
          "height": 295
        },
        "id": "zEbdDJIz0Vej",
        "outputId": "835bdcd1-113a-48e9-a702-892c99f981da"
      },
      "outputs": [
        {
          "data": {
            "image/png": "[encoded data removed]",
            "text/plain": [
              "<Figure size 432x288 with 1 Axes>"
            ]
          },
          "metadata": {},
          "output_type": "display_data"
        }
      ],
      "source": [
        "ls_epoch = [_ + 1 for _ in range(num_epochs)]\n",
        "plt.plot(ls_epoch, train_loss_arr, color='r', label='Train')\n",
        "plt.plot(ls_epoch, val_loss_arr, color='g', label='Validation')\n",
        "plt.title('Loss plot')\n",
        "plt.ylabel('Loss')\n",
        "plt.xlabel('epoch')\n",
        "plt.legend()\n",
        "plt.show()  "
      ]
    },
    {
      "cell_type": "markdown",
      "source": [
        "## Save Model"
      ],
      "metadata": {
        "id": "C_CoR2M5-5ja"
      }
    },
    {
      "cell_type": "code",
      "execution_count": null,
      "metadata": {
        "id": "UW7eYe_uDY1T"
      },
      "outputs": [],
      "source": [
        "PATH = \"multimodal_model.pt\"\n",
        "\n",
        "# Save\n",
        "torch.save(model, PATH)"
      ]
    },
    {
      "cell_type": "code",
      "execution_count": null,
      "metadata": {
        "id": "Ubx9eLV3tJJ2"
      },
      "outputs": [],
      "source": [
        "# Load\n",
        "PATH = \"multimodal_model.pt\"\n",
        "model = torch.load(PATH)\n",
        "model.eval()\n",
        "device = torch.device('cuda' if torch.cuda.is_available() else 'cpu')\n",
        "model = model.to(device)"
      ]
    },
    {
      "cell_type": "code",
      "execution_count": null,
      "metadata": {
        "colab": {
          "base_uri": "https://localhost:8080/",
          "height": 251,
          "referenced_widgets": [
            "6d19a5530e684a24ae38d1cf5f432b8b",
            "1f6ebde85fc2460485b452d79ee213e4",
            "cd56a71eed0344fc9529804cc67c2ab3",
            "4158512ba5454b57b440e2f75f7d7581",
            "0c40a620af8b4defbe77d5938096199a",
            "44ee4ab0b67d4775b4d66a752f6b3a39",
            "2665a8a3b5fb48e6bd7f98b1c7b7918a",
            "e914de2a3fa04bbfa7d82692c2fe9be4",
            "1b0bc5a9cd0445be963b416df1baa62a",
            "51540318a9154b48a21eed3aa02e1c4b",
            "ecbb9da9fa974346a0327e542225079f",
            "da0cd17dd2bb426e83bdebc9802da56b",
            "bab3ff2c7836471fb80f0db000bea0f3",
            "36853e2a477a4cb795ca058b6b83745b",
            "2a5273963b254cd0beacb1a45a3d108e",
            "7f4ee35362ab44fcba786823e3079d70",
            "29879ad1ea064ca09720accf4b97a71c",
            "0fb3b95b5e8642eea07abdfc0a34d352",
            "e2ef4746d4bd4a1099548196f3b7ab94",
            "0894ea98f461454a9185613b2c933dd1",
            "7ab968530bc24e258e0d32fbbe94580a",
            "e4100fb0dcf74ebdb301e0a203402a27",
            "2d702096f8fe46adbd1f770167347bc9",
            "5ef468f6b0694a5cb901961f809fc653",
            "dd888482e5fb4101a2a7e2f195846dc7",
            "cc3befcec1a04483830f6467c9719d87",
            "fab19bce87904de29b76bf6d1fdac918",
            "4d0d9554d9d3462bac0cc5885f27a6b9",
            "73cf775c36914a55b5fcd02b2d6eb078",
            "d4ac121ba8c14cd1a30c8ad4bcf32af2",
            "fec6a02e4d84487e88ec6f33d33eac07",
            "89852d7d83a44f93a681ad1d108c8dc3",
            "53dd0bdb3e9548f2b820835abdb62581",
            "582c22433ee54ab6a286a6612e829d02",
            "eb41e085b4ef4485a8da598250bfef5c",
            "70cfa59a44a54fd084f2edf47785d9d2",
            "2568fb614f804088909053e6d35ea5b5",
            "e89bacb48fc84ef4810b94f79ddf2184",
            "f3350fe5a93f498eaea2350227e33e8b",
            "20e2517f1c604e2d88800923ab320dbf",
            "cd45529475c048a68a403ca294fc0939",
            "944808599c6e4aec8db62c77b3555d25",
            "ef494d7929c44bdcb0eff1838116048f",
            "d10c2859d1e145c289e3dd1298112c7d",
            "2d32a8dbe5314a949e27fdeaaa87812a",
            "9bbc297aff354943adde02b8f382489b",
            "1e8018451fd54918b48e02d8f71aa777",
            "3aa11a53ea194db3985d28c2a64b3af8",
            "45546eaa15234094a09cfe2b079c7f2c",
            "9f10097881944d01969a907bcea68795",
            "0e14f44c9b104123b651b15619921ca9",
            "46ad58dec57147d9aa06be5001e94015",
            "4a07c29f0d4e412389abf75069ec2cbf",
            "bad327793d364d9cae0accc40fd47b30",
            "de97cb27f02341efbb46fbb4b4de3898",
            "aa6bfa6e96d24c0b9f5aae2c649ed2e4",
            "a3c4dcc28b144da4998b68ad799f9bc3",
            "e06dbd73c16743b384dfb4dfe0bdd4bb",
            "fa778206e5bc4a2987d3169ffe97fdb5",
            "5e55f06af143497098f08b4550fc4d12",
            "1bdc169e038d46098f2c6ac8bf429aac",
            "5006db79f218476691b090792c7b627c",
            "7f01fbd9d5d941c492969aa83fd59322",
            "7c18c72480a345ada47e8fef8795c801",
            "87d06a2d582e43128df5ed7ce746e69b",
            "c2dbfdb2f72a4f2ebc54517dc87566f3",
            "0dcbc8d499f24d89b2cd0f154c4b3076",
            "dae9ad81bc8348719277ba426375aaa1",
            "04751ad5ee9745869e4e79eca47516e3",
            "43e0dc26644941999a55022e98b9394c",
            "90596af4c34e4ca08c7f1f1c1909c33a",
            "78fa692c81924b4fb6135a40adfe477c",
            "1577e87bd5a5465e9ee565dd31b57859",
            "58cef7b8da0049dc900d7a82567ee063",
            "3b6aeae2cbd848f4b7d9700ed04db6ee",
            "f995efcf6eac4203b674f42a81abe859",
            "6d7ab76b1ea943ceb5ad4a7531042c93",
            "c9335d57570a4a76a85862bb3b2824d7",
            "d6f6e16c754241dfabf277fd4f93fa5a",
            "de098107777740fd8d3d2a06e0ea37ce",
            "81f985ee8bf54259a38e3526d07f84ff",
            "f5c03a8ebfc04b89b2ed01da296f4246",
            "bee0252bad39423f8c6a7d4e42482441",
            "103475edee7f4a6f99495524d46c394b",
            "a5dd8e5f6e1345778908caf5d38de4e3",
            "85a5fef0860946598d891bbf8fb10248",
            "2749d2378f304f2a92a492ef9d2ceddc",
            "a3813049fe5441d38786e2ebc500cd42"
          ]
        },
        "id": "jKNldDRe1d50",
        "outputId": "e818e48a-ec22-4730-db3a-27fddde8f3de"
      },
      "outputs": [
        {
          "data": {
            "application/vnd.jupyter.widget-view+json": {
              "model_id": "6d19a5530e684a24ae38d1cf5f432b8b",
              "version_major": 2,
              "version_minor": 0
            },
            "text/plain": [
              "Downloading builder script:   0%|          | 0.00/12.8k [00:00<?, ?B/s]"
            ]
          },
          "metadata": {},
          "output_type": "display_data"
        },
        {
          "data": {
            "application/vnd.jupyter.widget-view+json": {
              "model_id": "da0cd17dd2bb426e83bdebc9802da56b",
              "version_major": 2,
              "version_minor": 0
            },
            "text/plain": [
              "Downloading metadata:   0%|          | 0.00/13.7k [00:00<?, ?B/s]"
            ]
          },
          "metadata": {},
          "output_type": "display_data"
        },
        {
          "data": {
            "application/vnd.jupyter.widget-view+json": {
              "model_id": "2d702096f8fe46adbd1f770167347bc9",
              "version_major": 2,
              "version_minor": 0
            },
            "text/plain": [
              "Downloading readme:   0%|          | 0.00/15.3k [00:00<?, ?B/s]"
            ]
          },
          "metadata": {},
          "output_type": "display_data"
        },
        {
          "name": "stdout",
          "output_type": "stream",
          "text": [
            "Downloading and preparing dataset slue/voxpopuli (download: 379.99 MiB, generated: 5.54 MiB, post-processed: Unknown size, total: 385.53 MiB) to /root/.cache/huggingface/datasets/asapp___slue/voxpopuli/2.4.0/6eef0a9b9ce2693a4f0ffdf4dd74ab5dc6e95bcd07366ac2a2b275a5b296f90d...\n"
          ]
        },
        {
          "data": {
            "application/vnd.jupyter.widget-view+json": {
              "model_id": "582c22433ee54ab6a286a6612e829d02",
              "version_major": 2,
              "version_minor": 0
            },
            "text/plain": [
              "Downloading data:   0%|          | 0.00/398M [00:00<?, ?B/s]"
            ]
          },
          "metadata": {},
          "output_type": "display_data"
        },
        {
          "name": "stdout",
          "output_type": "stream",
          "text": [
            "/root/.cache/huggingface/datasets/downloads/extracted/0b34d0c91a12aee42c42de5564d3e0be85f23f00a5c3ed46654c9d1f4f27c8af/slue-voxpopuli\n"
          ]
        },
        {
          "data": {
            "application/vnd.jupyter.widget-view+json": {
              "model_id": "2d32a8dbe5314a949e27fdeaaa87812a",
              "version_major": 2,
              "version_minor": 0
            },
            "text/plain": [
              "Generating train split:   0%|          | 0/5000 [00:00<?, ? examples/s]"
            ]
          },
          "metadata": {},
          "output_type": "display_data"
        },
        {
          "data": {
            "application/vnd.jupyter.widget-view+json": {
              "model_id": "aa6bfa6e96d24c0b9f5aae2c649ed2e4",
              "version_major": 2,
              "version_minor": 0
            },
            "text/plain": [
              "Generating validation split:   0%|          | 0/1753 [00:00<?, ? examples/s]"
            ]
          },
          "metadata": {},
          "output_type": "display_data"
        },
        {
          "data": {
            "application/vnd.jupyter.widget-view+json": {
              "model_id": "0dcbc8d499f24d89b2cd0f154c4b3076",
              "version_major": 2,
              "version_minor": 0
            },
            "text/plain": [
              "Generating test split:   0%|          | 0/1842 [00:00<?, ? examples/s]"
            ]
          },
          "metadata": {},
          "output_type": "display_data"
        },
        {
          "name": "stdout",
          "output_type": "stream",
          "text": [
            "Dataset slue downloaded and prepared to /root/.cache/huggingface/datasets/asapp___slue/voxpopuli/2.4.0/6eef0a9b9ce2693a4f0ffdf4dd74ab5dc6e95bcd07366ac2a2b275a5b296f90d. Subsequent calls will reuse this data.\n"
          ]
        },
        {
          "data": {
            "application/vnd.jupyter.widget-view+json": {
              "model_id": "c9335d57570a4a76a85862bb3b2824d7",
              "version_major": 2,
              "version_minor": 0
            },
            "text/plain": [
              "  0%|          | 0/3 [00:00<?, ?it/s]"
            ]
          },
          "metadata": {},
          "output_type": "display_data"
        }
      ],
      "source": [
        "dataset = load_dataset(\"asapp/slue\", \"voxpopuli\")\n",
        "selected_dataset = dataset['test'].shuffle(0).select(range(20))\n",
        "texts = selected_dataset['normalized_text']\n",
        "audios = [x[\"array\"] for x in selected_dataset['audio']]"
      ]
    },
    {
      "cell_type": "markdown",
      "source": [
        "# Wrapper Model for Meausring Similiarty\n",
        "This Model gets a text query and list of audios as an input and returned a list which shows which audios are related to that query."
      ],
      "metadata": {
        "id": "BNyydLLE-8WW"
      }
    },
    {
      "cell_type": "code",
      "execution_count": null,
      "metadata": {
        "id": "Q5g18QUouNeU"
      },
      "outputs": [],
      "source": [
        "class SimilarityModel:\n",
        "    def __init__(self, path_to_multimodal_model, sampling_rate=16000, threshold=0.5):\n",
        "      self.audio_processor = AutoProcessor.from_pretrained(\"facebook/wav2vec2-base-960h\")\n",
        "      self.audio_model = Wav2Vec2Model.from_pretrained(\"facebook/wav2vec2-base-960h\")\n",
        "      self.tokenizer = AutoTokenizer.from_pretrained(\"bert-base-uncased\")\n",
        "      self.text_model = AutoModel.from_pretrained(\"bert-base-uncased\")\n",
        "      self.threshold = threshold\n",
        "      self.nn_model = torch.load(path_to_multimodal_model)\n",
        "      self.nn_model.eval()\n",
        "      self.device = torch.device('cuda' if torch.cuda.is_available() else 'cpu')\n",
        "      self.nn_model = self.nn_model.to(self.device)\n",
        "      self.sampling_rate = sampling_rate\n",
        "\n",
        "    def cosine_similarity(self, embedding1, embedding2):\n",
        "      dim = 1\n",
        "      embedding1 = F.normalize(embedding1, p=2, dim=dim)\n",
        "      embedding2 = F.normalize(embedding2, p=2, dim=dim)\n",
        "\n",
        "      dot_product = torch.sum(embedding1 * embedding2, dim=dim)\n",
        "\n",
        "      magnitude1 = torch.norm(embedding1, p=2, dim=dim)\n",
        "      magnitude2 = torch.norm(embedding2, p=2, dim=dim)\n",
        "\n",
        "      cosine_sim = dot_product / (magnitude1 * magnitude2)\n",
        "\n",
        "      return cosine_sim\n",
        "\n",
        "    def predict(self, audios, texts, threshold=None, is_query=False):\n",
        "      audio_embs = []\n",
        "      for audio in tqdm(audios):\n",
        "        inputs = self.audio_processor(audio, sampling_rate=self.sampling_rate, return_tensors=\"pt\", padding=True)\n",
        "        outputs = self.audio_model(**inputs)\n",
        "        last_hidden_states = outputs.last_hidden_state.squeeze(0)\n",
        "        audio_embedding = last_hidden_states.mean(dim=0)\n",
        "        audio_embs.append(audio_embedding)\n",
        "\n",
        "      text_embs = []\n",
        "      for text in texts:\n",
        "        inputs = self.tokenizer(text, return_tensors=\"pt\")\n",
        "        outputs = self.text_model(**inputs)\n",
        "        embedding = outputs.last_hidden_state.squeeze(0)\n",
        "        text_embedding = embedding.mean(dim=0)\n",
        "        text_embs.append(text_embedding)\n",
        "      if is_query:\n",
        "        item = text_embs[0]\n",
        "        for i in range(len(audios) - 1):\n",
        "          text_embs.append(item.clone())\n",
        "\n",
        "\n",
        "      audio_embedding = torch.stack(audio_embs)\n",
        "      text_embedding = torch.stack(text_embs)\n",
        "      text_embedding = text_embedding.to(self.device)\n",
        "      audio_embedding = audio_embedding.to(self.device)\n",
        "\n",
        "      text_final_emb, audio_final_emb = self.nn_model(text_embedding, audio_embedding)\n",
        "      cosine_similarity = self.cosine_similarity(text_final_emb, audio_final_emb)\n",
        "      print(cosine_similarity)\n",
        "\n",
        "      final_threshold = threshold if threshold else self.threshold\n",
        "\n",
        "      return (cosine_similarity >= final_threshold).int()\n",
        "\n",
        "    def retrieve_relevant_audios(self, audios, query, threshold=None):\n",
        "      return self.predict(audios, [query], is_query=True, threshold=threshold)"
      ]
    },
    {
      "cell_type": "code",
      "execution_count": null,
      "metadata": {
        "colab": {
          "base_uri": "https://localhost:8080/"
        },
        "id": "WTtjuC2NEeew",
        "outputId": "c08d2649-b427-48e8-b570-d567126c7d19"
      },
      "outputs": [
        {
          "data": {
            "text/plain": [
              "30"
            ]
          },
          "execution_count": 15,
          "metadata": {},
          "output_type": "execute_result"
        }
      ],
      "source": [
        "import gc\n",
        "gc.collect()"
      ]
    },
    {
      "cell_type": "code",
      "execution_count": null,
      "metadata": {
        "colab": {
          "base_uri": "https://localhost:8080/"
        },
        "id": "M7sPCRaZ1UWS",
        "outputId": "f640af81-7b23-4a07-8577-b20ec86f3b17"
      },
      "outputs": [
        {
          "name": "stderr",
          "output_type": "stream",
          "text": [
            "Some weights of the model checkpoint at facebook/wav2vec2-base-960h were not used when initializing Wav2Vec2Model: ['lm_head.weight', 'lm_head.bias']\n",
            "- This IS expected if you are initializing Wav2Vec2Model from the checkpoint of a model trained on another task or with another architecture (e.g. initializing a BertForSequenceClassification model from a BertForPreTraining model).\n",
            "- This IS NOT expected if you are initializing Wav2Vec2Model from the checkpoint of a model that you expect to be exactly identical (initializing a BertForSequenceClassification model from a BertForSequenceClassification model).\n",
            "Some weights of Wav2Vec2Model were not initialized from the model checkpoint at facebook/wav2vec2-base-960h and are newly initialized: ['wav2vec2.masked_spec_embed']\n",
            "You should probably TRAIN this model on a down-stream task to be able to use it for predictions and inference.\n",
            "Some weights of the model checkpoint at bert-base-uncased were not used when initializing BertModel: ['cls.predictions.transform.dense.weight', 'cls.predictions.transform.LayerNorm.weight', 'cls.predictions.decoder.weight', 'cls.seq_relationship.bias', 'cls.predictions.transform.LayerNorm.bias', 'cls.predictions.bias', 'cls.seq_relationship.weight', 'cls.predictions.transform.dense.bias']\n",
            "- This IS expected if you are initializing BertModel from the checkpoint of a model trained on another task or with another architecture (e.g. initializing a BertForSequenceClassification model from a BertForPreTraining model).\n",
            "- This IS NOT expected if you are initializing BertModel from the checkpoint of a model that you expect to be exactly identical (initializing a BertForSequenceClassification model from a BertForSequenceClassification model).\n"
          ]
        }
      ],
      "source": [
        "PATH = \"multimodal_model.pt\"\n",
        "\n",
        "final_model = SimilarityModel(PATH)"
      ]
    },
    {
      "cell_type": "code",
      "execution_count": null,
      "metadata": {
        "colab": {
          "base_uri": "https://localhost:8080/"
        },
        "id": "IZrEStF2195S",
        "outputId": "2fbdc299-3adf-4cd7-adad-e82df3fcf07a"
      },
      "outputs": [
        {
          "name": "stderr",
          "output_type": "stream",
          "text": [
            "100%|██████████| 6/6 [00:28<00:00,  4.77s/it]\n"
          ]
        },
        {
          "name": "stdout",
          "output_type": "stream",
          "text": [
            "tensor([0.3168, 0.3256, 0.3351, 0.3646, 0.2694, 0.2816], device='cuda:0',\n",
            "       grad_fn=<DivBackward0>)\n"
          ]
        },
        {
          "data": {
            "text/plain": [
              "tensor([0, 0, 0, 0, 0, 0], device='cuda:0', dtype=torch.int32)"
            ]
          },
          "execution_count": 16,
          "metadata": {},
          "output_type": "execute_result"
        }
      ],
      "source": [
        "final_model.predict(audios[10:16], texts[10:16])"
      ]
    },
    {
      "cell_type": "code",
      "execution_count": null,
      "metadata": {
        "colab": {
          "base_uri": "https://localhost:8080/"
        },
        "id": "XuBt8_2VEz9p",
        "outputId": "017beef4-e30e-42c2-ed06-1568adb170b0"
      },
      "outputs": [
        {
          "name": "stderr",
          "output_type": "stream",
          "text": [
            "100%|██████████| 3/3 [00:08<00:00,  2.85s/it]\n"
          ]
        },
        {
          "name": "stdout",
          "output_type": "stream",
          "text": [
            "tensor([0.1886, 0.2635, 0.2610], device='cuda:0', grad_fn=<DivBackward0>)\n"
          ]
        },
        {
          "data": {
            "text/plain": [
              "tensor([0, 0, 0], device='cuda:0', dtype=torch.int32)"
            ]
          },
          "execution_count": 13,
          "metadata": {},
          "output_type": "execute_result"
        }
      ],
      "source": [
        "final_model.retrieve_relevant_audios(audios[4:7], texts[4])"
      ]
    },
    {
      "cell_type": "markdown",
      "source": [
        "## Finding Best Hyper Parameters and Testing Model"
      ],
      "metadata": {
        "id": "bcqbw1Be_TkE"
      }
    },
    {
      "cell_type": "code",
      "execution_count": null,
      "metadata": {
        "id": "YQQCowKY2BWd"
      },
      "outputs": [],
      "source": [
        "# find best hyperparameter\n",
        "\n",
        "size = len(audios)\n",
        "labels = []\n",
        "text_series = []\n",
        "audio_series = []\n",
        "\n",
        "for i in range(size):\n",
        "  for j in range(size):\n",
        "    text_series.append(texts[i])\n",
        "    audio_series.append(audios[j])\n",
        "    labels.append(1 if i == j else 0)              "
      ]
    },
    {
      "cell_type": "code",
      "execution_count": null,
      "metadata": {
        "id": "C8qi7KIbJBUv"
      },
      "outputs": [],
      "source": [
        "def accuracy_of_model(model, audios, texts, labels, threshold):\n",
        "  result = model.predict(audios, texts, threshold=threshold)\n",
        "  accuracy = accuracy_score(result.detach().cpu(), labels)\n",
        "  return accuracy"
      ]
    },
    {
      "cell_type": "code",
      "execution_count": null,
      "metadata": {
        "colab": {
          "base_uri": "https://localhost:8080/"
        },
        "id": "fnlcYiHzKpdV",
        "outputId": "be6d07f9-76c0-4f29-bba4-9eabf52a5617"
      },
      "outputs": [
        {
          "name": "stderr",
          "output_type": "stream",
          "text": [
            "100%|██████████| 5/5 [00:22<00:00,  4.46s/it]\n"
          ]
        },
        {
          "name": "stdout",
          "output_type": "stream",
          "text": [
            "tensor([0.2986, 0.3014, 0.3206, 0.3550, 0.3282], device='cuda:0',\n",
            "       grad_fn=<DivBackward0>)\n",
            "Accuracy with threshold 0.1 = 0.2\n"
          ]
        },
        {
          "name": "stderr",
          "output_type": "stream",
          "text": [
            "100%|██████████| 5/5 [00:19<00:00,  3.99s/it]\n"
          ]
        },
        {
          "name": "stdout",
          "output_type": "stream",
          "text": [
            "tensor([0.2986, 0.3014, 0.3206, 0.3550, 0.3282], device='cuda:0',\n",
            "       grad_fn=<DivBackward0>)\n",
            "Accuracy with threshold 0.15000000000000002 = 0.2\n"
          ]
        },
        {
          "name": "stderr",
          "output_type": "stream",
          "text": [
            "100%|██████████| 5/5 [00:18<00:00,  3.73s/it]\n"
          ]
        },
        {
          "name": "stdout",
          "output_type": "stream",
          "text": [
            "tensor([0.2986, 0.3014, 0.3206, 0.3550, 0.3282], device='cuda:0',\n",
            "       grad_fn=<DivBackward0>)\n",
            "Accuracy with threshold 0.2 = 0.2\n"
          ]
        },
        {
          "name": "stderr",
          "output_type": "stream",
          "text": [
            "100%|██████████| 5/5 [00:25<00:00,  5.02s/it]\n"
          ]
        },
        {
          "name": "stdout",
          "output_type": "stream",
          "text": [
            "tensor([0.2986, 0.3014, 0.3206, 0.3550, 0.3282], device='cuda:0',\n",
            "       grad_fn=<DivBackward0>)\n",
            "Accuracy with threshold 0.25 = 0.2\n"
          ]
        },
        {
          "name": "stderr",
          "output_type": "stream",
          "text": [
            "100%|██████████| 5/5 [00:21<00:00,  4.23s/it]\n"
          ]
        },
        {
          "name": "stdout",
          "output_type": "stream",
          "text": [
            "tensor([0.2986, 0.3014, 0.3206, 0.3550, 0.3282], device='cuda:0',\n",
            "       grad_fn=<DivBackward0>)\n",
            "Accuracy with threshold 0.30000000000000004 = 0.0\n"
          ]
        },
        {
          "name": "stderr",
          "output_type": "stream",
          "text": [
            "100%|██████████| 5/5 [00:18<00:00,  3.63s/it]\n"
          ]
        },
        {
          "name": "stdout",
          "output_type": "stream",
          "text": [
            "tensor([0.2986, 0.3014, 0.3206, 0.3550, 0.3282], device='cuda:0',\n",
            "       grad_fn=<DivBackward0>)\n",
            "Accuracy with threshold 0.35000000000000003 = 0.6\n"
          ]
        },
        {
          "name": "stderr",
          "output_type": "stream",
          "text": [
            "100%|██████████| 5/5 [00:17<00:00,  3.54s/it]\n"
          ]
        },
        {
          "name": "stdout",
          "output_type": "stream",
          "text": [
            "tensor([0.2986, 0.3014, 0.3206, 0.3550, 0.3282], device='cuda:0',\n",
            "       grad_fn=<DivBackward0>)\n",
            "Accuracy with threshold 0.4 = 0.8\n"
          ]
        },
        {
          "name": "stderr",
          "output_type": "stream",
          "text": [
            "100%|██████████| 5/5 [00:17<00:00,  3.50s/it]\n"
          ]
        },
        {
          "name": "stdout",
          "output_type": "stream",
          "text": [
            "tensor([0.2986, 0.3014, 0.3206, 0.3550, 0.3282], device='cuda:0',\n",
            "       grad_fn=<DivBackward0>)\n",
            "Accuracy with threshold 0.45 = 0.8\n"
          ]
        },
        {
          "name": "stderr",
          "output_type": "stream",
          "text": [
            "100%|██████████| 5/5 [00:17<00:00,  3.54s/it]\n"
          ]
        },
        {
          "name": "stdout",
          "output_type": "stream",
          "text": [
            "tensor([0.2986, 0.3014, 0.3206, 0.3550, 0.3282], device='cuda:0',\n",
            "       grad_fn=<DivBackward0>)\n",
            "Accuracy with threshold 0.5 = 0.8\n"
          ]
        },
        {
          "name": "stderr",
          "output_type": "stream",
          "text": [
            "100%|██████████| 5/5 [00:18<00:00,  3.80s/it]\n"
          ]
        },
        {
          "name": "stdout",
          "output_type": "stream",
          "text": [
            "tensor([0.2986, 0.3014, 0.3206, 0.3550, 0.3282], device='cuda:0',\n",
            "       grad_fn=<DivBackward0>)\n",
            "Accuracy with threshold 0.55 = 0.8\n"
          ]
        },
        {
          "name": "stderr",
          "output_type": "stream",
          "text": [
            "100%|██████████| 5/5 [00:17<00:00,  3.54s/it]\n"
          ]
        },
        {
          "name": "stdout",
          "output_type": "stream",
          "text": [
            "tensor([0.2986, 0.3014, 0.3206, 0.3550, 0.3282], device='cuda:0',\n",
            "       grad_fn=<DivBackward0>)\n",
            "Accuracy with threshold 0.6000000000000001 = 0.8\n",
            "Best threshold is 0.4\n",
            "Best accuracy is 0.8\n"
          ]
        }
      ],
      "source": [
        "threshold_list = [0.05 * i for i in range(2,13)]\n",
        "best_accuracy = 0\n",
        "best_threshold = 0\n",
        "for threshold in threshold_list:\n",
        "  accuracy = accuracy_of_model(final_model, audio_series[:5], text_series[:5], labels[:5], threshold)\n",
        "  print(f\"Accuracy with threshold {threshold}:.2f = {accuracy * 100}:.2f%\")\n",
        "  if accuracy > best_accuracy:\n",
        "    best_threshold = threshold\n",
        "    best_accuracy = accuracy\n",
        "  gc.collect()\n",
        "\n",
        "print(f\"Best threshold is {best_threshold}\")\n",
        "print(f\"Best accuracy is {best_accuracy}\")"
      ]
    },
    {
      "cell_type": "code",
      "execution_count": null,
      "metadata": {
        "colab": {
          "base_uri": "https://localhost:8080/"
        },
        "id": "4NNldYqkMsvO",
        "outputId": "4f7ad90e-4856-4d26-e53e-a9532a46f98d"
      },
      "outputs": [
        {
          "name": "stderr",
          "output_type": "stream",
          "text": [
            "Some weights of the model checkpoint at facebook/wav2vec2-base-960h were not used when initializing Wav2Vec2Model: ['lm_head.weight', 'lm_head.bias']\n",
            "- This IS expected if you are initializing Wav2Vec2Model from the checkpoint of a model trained on another task or with another architecture (e.g. initializing a BertForSequenceClassification model from a BertForPreTraining model).\n",
            "- This IS NOT expected if you are initializing Wav2Vec2Model from the checkpoint of a model that you expect to be exactly identical (initializing a BertForSequenceClassification model from a BertForSequenceClassification model).\n",
            "Some weights of Wav2Vec2Model were not initialized from the model checkpoint at facebook/wav2vec2-base-960h and are newly initialized: ['wav2vec2.masked_spec_embed']\n",
            "You should probably TRAIN this model on a down-stream task to be able to use it for predictions and inference.\n",
            "Some weights of the model checkpoint at bert-base-uncased were not used when initializing BertModel: ['cls.predictions.transform.dense.weight', 'cls.predictions.transform.LayerNorm.weight', 'cls.predictions.decoder.weight', 'cls.seq_relationship.bias', 'cls.predictions.transform.LayerNorm.bias', 'cls.predictions.bias', 'cls.seq_relationship.weight', 'cls.predictions.transform.dense.bias']\n",
            "- This IS expected if you are initializing BertModel from the checkpoint of a model trained on another task or with another architecture (e.g. initializing a BertForSequenceClassification model from a BertForPreTraining model).\n",
            "- This IS NOT expected if you are initializing BertModel from the checkpoint of a model that you expect to be exactly identical (initializing a BertForSequenceClassification model from a BertForSequenceClassification model).\n"
          ]
        }
      ],
      "source": [
        "PATH = \"multimodal_model.pt\"\n",
        "best_model = SimilarityModel(PATH, threshold=best_threshold)"
      ]
    },
    {
      "cell_type": "markdown",
      "source": [
        "## Save Model"
      ],
      "metadata": {
        "id": "tcZ27w_-_jM-"
      }
    },
    {
      "cell_type": "code",
      "execution_count": null,
      "metadata": {
        "id": "zCDY17vCM_Ls"
      },
      "outputs": [],
      "source": [
        "PATH = \"final_relevant_model.pt\"\n",
        "\n",
        "# Save\n",
        "torch.save(best_model, PATH)"
      ]
    },
    {
      "cell_type": "code",
      "execution_count": null,
      "metadata": {
        "id": "sHu7ZzOyFU2S",
        "colab": {
          "base_uri": "https://localhost:8080/"
        },
        "outputId": "a8ad9f83-474b-4061-a06c-780fb1181cba"
      },
      "outputs": [
        {
          "output_type": "execute_result",
          "data": {
            "text/plain": [
              "<__main__.SimilarityModel at 0x7f4a8ee26dc0>"
            ]
          },
          "metadata": {},
          "execution_count": 7
        }
      ],
      "source": [
        "# Load\n",
        "PATH = \"final_relevant_model.pt\"\n",
        "best_model = torch.load(PATH)\n",
        "best_model"
      ]
    },
    {
      "cell_type": "code",
      "source": [
        "best_model.device"
      ],
      "metadata": {
        "colab": {
          "base_uri": "https://localhost:8080/"
        },
        "id": "vCek70qON1so",
        "outputId": "4b04b673-3960-4df9-d106-68e7d422fe73"
      },
      "execution_count": null,
      "outputs": [
        {
          "output_type": "execute_result",
          "data": {
            "text/plain": [
              "device(type='cuda')"
            ]
          },
          "metadata": {},
          "execution_count": 8
        }
      ]
    },
    {
      "cell_type": "markdown",
      "source": [
        "## Evaluation"
      ],
      "metadata": {
        "id": "_kj0s-c3M7ZX"
      }
    },
    {
      "cell_type": "code",
      "source": [
        "gc.collect()\n",
        "torch.cuda.empty_cache()\n",
        "torch.cuda.ipc_collect()"
      ],
      "metadata": {
        "id": "CTC5AESpN4vX"
      },
      "execution_count": null,
      "outputs": []
    },
    {
      "cell_type": "code",
      "source": [
        "dataset = load_dataset(\"asapp/slue\", \"voxpopuli\")\n",
        "selected_dataset = dataset['test'].shuffle(0).select(range(20))\n",
        "texts = selected_dataset['normalized_text']\n",
        "audios = [x[\"array\"] for x in selected_dataset['audio']]"
      ],
      "metadata": {
        "colab": {
          "base_uri": "https://localhost:8080/",
          "height": 104,
          "referenced_widgets": [
            "8f22ed62ba60483eaa9ad1b1ca817f57",
            "4ebf7cfbe39e44c0bffdef7be85bb5ca",
            "78a6791e184248ec96c7550aac385e68",
            "a22b1fff1aa84b3b8a838b1f3851d308",
            "a9c96ec57a284d61bd09cbc944edc1a2",
            "07421fbd01a34de2b2de16997ef0662b",
            "2b6500c8bcbd41ea862db884687e9d18",
            "76c89178f34847429b5c93724d15992e",
            "fc5e4f939d2c4ad0a000dce810aea4c3",
            "c923cc213a2843ffa1d2482ee4af5dd1",
            "7e2e1e7d934e4ff4966c5661628239b5"
          ]
        },
        "id": "dAnOts-IM9OG",
        "outputId": "732635fb-96e0-491f-adcc-89280a7e4c36"
      },
      "execution_count": null,
      "outputs": [
        {
          "output_type": "stream",
          "name": "stderr",
          "text": [
            "WARNING:datasets.builder:Found cached dataset slue (/root/.cache/huggingface/datasets/asapp___slue/voxpopuli/2.4.0/6eef0a9b9ce2693a4f0ffdf4dd74ab5dc6e95bcd07366ac2a2b275a5b296f90d)\n"
          ]
        },
        {
          "output_type": "display_data",
          "data": {
            "text/plain": [
              "  0%|          | 0/3 [00:00<?, ?it/s]"
            ],
            "application/vnd.jupyter.widget-view+json": {
              "version_major": 2,
              "version_minor": 0,
              "model_id": "8f22ed62ba60483eaa9ad1b1ca817f57"
            }
          },
          "metadata": {}
        },
        {
          "output_type": "stream",
          "name": "stderr",
          "text": [
            "WARNING:datasets.arrow_dataset:Loading cached shuffled indices for dataset at /root/.cache/huggingface/datasets/asapp___slue/voxpopuli/2.4.0/6eef0a9b9ce2693a4f0ffdf4dd74ab5dc6e95bcd07366ac2a2b275a5b296f90d/cache-59fe6fc2bdd852af.arrow\n"
          ]
        }
      ]
    },
    {
      "cell_type": "code",
      "source": [
        "size = len(audios)\n",
        "labels = []\n",
        "text_series = []\n",
        "audio_series = []\n",
        "\n",
        "for i in range(size):\n",
        "  for j in range(size):\n",
        "    text_series.append(texts[i])\n",
        "    audio_series.append(audios[j])\n",
        "    labels.append(1 if i == j else 0) "
      ],
      "metadata": {
        "id": "aCR0ETEeNGqc"
      },
      "execution_count": null,
      "outputs": []
    },
    {
      "cell_type": "code",
      "source": [
        "zipped_lists = list(zip(audio_series, text_series, labels))\n",
        "\n",
        "n = 20\n",
        "sampled_tuples = random.sample(zipped_lists, n)\n",
        "\n",
        "# unzip the sampled tuples into separate lists\n",
        "audios_test, texts_test, labels_test = zip(*sampled_tuples)"
      ],
      "metadata": {
        "id": "UA5J5TEYOKIs"
      },
      "execution_count": null,
      "outputs": []
    },
    {
      "cell_type": "code",
      "source": [
        "r = best_model.predict(audios_test[1:3], texts_test[1:3])\n",
        "type(r)"
      ],
      "metadata": {
        "colab": {
          "base_uri": "https://localhost:8080/"
        },
        "id": "PhyjJgcbQe3B",
        "outputId": "a9760891-904c-4fe4-ec98-e7c0d2f5c10b"
      },
      "execution_count": null,
      "outputs": [
        {
          "output_type": "stream",
          "name": "stderr",
          "text": [
            "100%|██████████| 2/2 [00:32<00:00, 16.34s/it]\n"
          ]
        },
        {
          "output_type": "stream",
          "name": "stdout",
          "text": [
            "tensor([0.3812, 0.3114], device='cuda:0', grad_fn=<DivBackward0>)\n"
          ]
        },
        {
          "output_type": "execute_result",
          "data": {
            "text/plain": [
              "torch.Tensor"
            ]
          },
          "metadata": {},
          "execution_count": 13
        }
      ]
    },
    {
      "cell_type": "code",
      "source": [
        "a = [1,2]\n",
        "a.extend(r.detach().cpu().tolist())\n",
        "a[0:5]"
      ],
      "metadata": {
        "colab": {
          "base_uri": "https://localhost:8080/"
        },
        "id": "FHoo5DOzQsXa",
        "outputId": "9c71872b-7d01-42b1-fb46-a8855d4fd8da"
      },
      "execution_count": null,
      "outputs": [
        {
          "output_type": "execute_result",
          "data": {
            "text/plain": [
              "[1, 2, 0, 0]"
            ]
          },
          "metadata": {},
          "execution_count": 26
        }
      ]
    },
    {
      "cell_type": "code",
      "source": [
        "len(labels_test)"
      ],
      "metadata": {
        "colab": {
          "base_uri": "https://localhost:8080/"
        },
        "id": "SsTWWVonTR_i",
        "outputId": "49f490ad-4020-4e6e-bdca-9a89eb7048dc"
      },
      "execution_count": null,
      "outputs": [
        {
          "output_type": "execute_result",
          "data": {
            "text/plain": [
              "20"
            ]
          },
          "metadata": {},
          "execution_count": 29
        }
      ]
    },
    {
      "cell_type": "code",
      "source": [
        "final_result = []\n",
        "step_size = 4\n",
        "for i in range(n // step_size):\n",
        "  result = best_model.predict(audios_test[i * step_size: (i + 1) * step_size], texts_test[i * step_size: (i + 1) * step_size])\n",
        "  final_result.extend(result.detach().cpu().tolist())\n",
        "  gc.collect()\n",
        "  torch.cuda.empty_cache()\n",
        "  torch.cuda.ipc_collect()"
      ],
      "metadata": {
        "colab": {
          "base_uri": "https://localhost:8080/"
        },
        "id": "C_kUVPTRN8TQ",
        "outputId": "2aa2b3ec-305a-40de-c99b-8dacfff50cbb"
      },
      "execution_count": null,
      "outputs": [
        {
          "output_type": "stream",
          "name": "stderr",
          "text": [
            "100%|██████████| 4/4 [00:19<00:00,  4.85s/it]\n"
          ]
        },
        {
          "output_type": "stream",
          "name": "stdout",
          "text": [
            "tensor([0.2783, 0.2966, 0.2043, 0.2510], device='cuda:0',\n",
            "       grad_fn=<DivBackward0>)\n"
          ]
        },
        {
          "output_type": "stream",
          "name": "stderr",
          "text": [
            "100%|██████████| 4/4 [00:31<00:00,  7.83s/it]\n"
          ]
        },
        {
          "output_type": "stream",
          "name": "stdout",
          "text": [
            "tensor([0.2729, 0.2694, 0.3053, 0.3614], device='cuda:0',\n",
            "       grad_fn=<DivBackward0>)\n"
          ]
        },
        {
          "output_type": "stream",
          "name": "stderr",
          "text": [
            "100%|██████████| 4/4 [00:21<00:00,  5.30s/it]\n"
          ]
        },
        {
          "output_type": "stream",
          "name": "stdout",
          "text": [
            "tensor([0.2195, 0.3375, 0.2782, 0.3196], device='cuda:0',\n",
            "       grad_fn=<DivBackward0>)\n"
          ]
        },
        {
          "output_type": "stream",
          "name": "stderr",
          "text": [
            "100%|██████████| 4/4 [00:21<00:00,  5.40s/it]\n"
          ]
        },
        {
          "output_type": "stream",
          "name": "stdout",
          "text": [
            "tensor([0.3420, 0.2843, 0.3642, 0.3199], device='cuda:0',\n",
            "       grad_fn=<DivBackward0>)\n"
          ]
        },
        {
          "output_type": "stream",
          "name": "stderr",
          "text": [
            "100%|██████████| 4/4 [00:08<00:00,  2.13s/it]\n"
          ]
        },
        {
          "output_type": "stream",
          "name": "stdout",
          "text": [
            "tensor([0.3119, 0.2715, 0.2492, 0.3175], device='cuda:0',\n",
            "       grad_fn=<DivBackward0>)\n"
          ]
        }
      ]
    },
    {
      "cell_type": "code",
      "source": [
        "accuracy = accuracy_score(final_result, labels_test)\n",
        "accuracy"
      ],
      "metadata": {
        "colab": {
          "base_uri": "https://localhost:8080/"
        },
        "id": "8x0Y9rzITl08",
        "outputId": "805d1cf8-8de1-4822-d492-661f5d26ade4"
      },
      "execution_count": null,
      "outputs": [
        {
          "output_type": "execute_result",
          "data": {
            "text/plain": [
              "0.95"
            ]
          },
          "metadata": {},
          "execution_count": 15
        }
      ]
    },
    {
      "cell_type": "code",
      "source": [
        "gc.collect()"
      ],
      "metadata": {
        "colab": {
          "base_uri": "https://localhost:8080/"
        },
        "id": "BOCpa3WAWBPK",
        "outputId": "d8f8c0c6-ce64-46b8-8e40-c6a021383332"
      },
      "execution_count": null,
      "outputs": [
        {
          "output_type": "execute_result",
          "data": {
            "text/plain": [
              "464"
            ]
          },
          "metadata": {},
          "execution_count": 16
        }
      ]
    },
    {
      "cell_type": "code",
      "source": [
        "true_labels = labels_test\n",
        "predicted_labels = final_result\n",
        "\n",
        "f1_macro = f1_score(true_labels, predicted_labels, average='macro')\n",
        "print(f\"F1-Macro: {round(f1_macro, 3)}\\n\")\n",
        "\n",
        "f1_micro = f1_score(true_labels, predicted_labels, average='micro')\n",
        "print(f\"F1-Micro: {round(f1_micro, 3)}\\n\")\n",
        "\n",
        "\n",
        "confusion_mat = confusion_matrix(true_labels, predicted_labels, labels=np.arange(2))\n",
        "confusion_mat_df = pd.DataFrame(confusion_mat)\n",
        "display(confusion_mat_df)"
      ],
      "metadata": {
        "colab": {
          "base_uri": "https://localhost:8080/",
          "height": 182
        },
        "id": "OFzLK4EtVSLa",
        "outputId": "f1a76a5f-a2d0-425e-e9b5-f7b04eeb27d6"
      },
      "execution_count": null,
      "outputs": [
        {
          "output_type": "stream",
          "name": "stdout",
          "text": [
            "F1-Macro: 0.487\n",
            "\n",
            "F1-Micro: 0.95\n",
            "\n"
          ]
        },
        {
          "output_type": "display_data",
          "data": {
            "text/plain": [
              "    0  1\n",
              "0  19  0\n",
              "1   1  0"
            ],
            "text/html": [
              "\n",
              "  <div id=\"df-c417a915-ef1f-4fa2-8015-eaba41763d71\">\n",
              "    <div class=\"colab-df-container\">\n",
              "      <div>\n",
              "<style scoped>\n",
              "    .dataframe tbody tr th:only-of-type {\n",
              "        vertical-align: middle;\n",
              "    }\n",
              "\n",
              "    .dataframe tbody tr th {\n",
              "        vertical-align: top;\n",
              "    }\n",
              "\n",
              "    .dataframe thead th {\n",
              "        text-align: right;\n",
              "    }\n",
              "</style>\n",
              "<table border=\"1\" class=\"dataframe\">\n",
              "  <thead>\n",
              "    <tr style=\"text-align: right;\">\n",
              "      <th></th>\n",
              "      <th>0</th>\n",
              "      <th>1</th>\n",
              "    </tr>\n",
              "  </thead>\n",
              "  <tbody>\n",
              "    <tr>\n",
              "      <th>0</th>\n",
              "      <td>19</td>\n",
              "      <td>0</td>\n",
              "    </tr>\n",
              "    <tr>\n",
              "      <th>1</th>\n",
              "      <td>1</td>\n",
              "      <td>0</td>\n",
              "    </tr>\n",
              "  </tbody>\n",
              "</table>\n",
              "</div>\n",
              "      <button class=\"colab-df-convert\" onclick=\"convertToInteractive('df-c417a915-ef1f-4fa2-8015-eaba41763d71')\"\n",
              "              title=\"Convert this dataframe to an interactive table.\"\n",
              "              style=\"display:none;\">\n",
              "        \n",
              "  <svg xmlns=\"http://www.w3.org/2000/svg\" height=\"24px\"viewBox=\"0 0 24 24\"\n",
              "       width=\"24px\">\n",
              "    <path d=\"M0 0h24v24H0V0z\" fill=\"none\"/>\n",
              "    <path d=\"M18.56 5.44l.94 2.06.94-2.06 2.06-.94-2.06-.94-.94-2.06-.94 2.06-2.06.94zm-11 1L8.5 8.5l.94-2.06 2.06-.94-2.06-.94L8.5 2.5l-.94 2.06-2.06.94zm10 10l.94 2.06.94-2.06 2.06-.94-2.06-.94-.94-2.06-.94 2.06-2.06.94z\"/><path d=\"M17.41 7.96l-1.37-1.37c-.4-.4-.92-.59-1.43-.59-.52 0-1.04.2-1.43.59L10.3 9.45l-7.72 7.72c-.78.78-.78 2.05 0 2.83L4 21.41c.39.39.9.59 1.41.59.51 0 1.02-.2 1.41-.59l7.78-7.78 2.81-2.81c.8-.78.8-2.07 0-2.86zM5.41 20L4 18.59l7.72-7.72 1.47 1.35L5.41 20z\"/>\n",
              "  </svg>\n",
              "      </button>\n",
              "      \n",
              "  <style>\n",
              "    .colab-df-container {\n",
              "      display:flex;\n",
              "      flex-wrap:wrap;\n",
              "      gap: 12px;\n",
              "    }\n",
              "\n",
              "    .colab-df-convert {\n",
              "      background-color: #E8F0FE;\n",
              "      border: none;\n",
              "      border-radius: 50%;\n",
              "      cursor: pointer;\n",
              "      display: none;\n",
              "      fill: #1967D2;\n",
              "      height: 32px;\n",
              "      padding: 0 0 0 0;\n",
              "      width: 32px;\n",
              "    }\n",
              "\n",
              "    .colab-df-convert:hover {\n",
              "      background-color: #E2EBFA;\n",
              "      box-shadow: 0px 1px 2px rgba(60, 64, 67, 0.3), 0px 1px 3px 1px rgba(60, 64, 67, 0.15);\n",
              "      fill: #174EA6;\n",
              "    }\n",
              "\n",
              "    [theme=dark] .colab-df-convert {\n",
              "      background-color: #3B4455;\n",
              "      fill: #D2E3FC;\n",
              "    }\n",
              "\n",
              "    [theme=dark] .colab-df-convert:hover {\n",
              "      background-color: #434B5C;\n",
              "      box-shadow: 0px 1px 3px 1px rgba(0, 0, 0, 0.15);\n",
              "      filter: drop-shadow(0px 1px 2px rgba(0, 0, 0, 0.3));\n",
              "      fill: #FFFFFF;\n",
              "    }\n",
              "  </style>\n",
              "\n",
              "      <script>\n",
              "        const buttonEl =\n",
              "          document.querySelector('#df-c417a915-ef1f-4fa2-8015-eaba41763d71 button.colab-df-convert');\n",
              "        buttonEl.style.display =\n",
              "          google.colab.kernel.accessAllowed ? 'block' : 'none';\n",
              "\n",
              "        async function convertToInteractive(key) {\n",
              "          const element = document.querySelector('#df-c417a915-ef1f-4fa2-8015-eaba41763d71');\n",
              "          const dataTable =\n",
              "            await google.colab.kernel.invokeFunction('convertToInteractive',\n",
              "                                                     [key], {});\n",
              "          if (!dataTable) return;\n",
              "\n",
              "          const docLinkHtml = 'Like what you see? Visit the ' +\n",
              "            '<a target=\"_blank\" href=https://colab.research.google.com/notebooks/data_table.ipynb>data table notebook</a>'\n",
              "            + ' to learn more about interactive tables.';\n",
              "          element.innerHTML = '';\n",
              "          dataTable['output_type'] = 'display_data';\n",
              "          await google.colab.output.renderOutput(dataTable, element);\n",
              "          const docLink = document.createElement('div');\n",
              "          docLink.innerHTML = docLinkHtml;\n",
              "          element.appendChild(docLink);\n",
              "        }\n",
              "      </script>\n",
              "    </div>\n",
              "  </div>\n",
              "  "
            ]
          },
          "metadata": {}
        }
      ]
    },
    {
      "cell_type": "code",
      "source": [
        "precision, recall, f1, support = precision_recall_fscore_support(true_labels, predicted_labels, average='macro')\n",
        "print(\"Macro-average precision: {:.2f}\".format(precision))\n",
        "print(\"Macro-average recall: {:.2f}\".format(recall))\n",
        "precision, recall, f1, support = precision_recall_fscore_support(true_labels, predicted_labels, average='micro')\n",
        "print(\"Micro-average precision: {:.2f}\".format(precision))\n",
        "print(\"Micro-average recall: {:.2f}\".format(recall))"
      ],
      "metadata": {
        "colab": {
          "base_uri": "https://localhost:8080/"
        },
        "id": "iQSxi4u6Wa4Z",
        "outputId": "1b17406e-db44-47d5-bf84-5b26101a26a4"
      },
      "execution_count": null,
      "outputs": [
        {
          "output_type": "stream",
          "name": "stdout",
          "text": [
            "Macro-average precision: 0.47\n",
            "Macro-average recall: 0.50\n",
            "Micro-average precision: 0.95\n",
            "Micro-average recall: 0.95\n"
          ]
        },
        {
          "output_type": "stream",
          "name": "stderr",
          "text": [
            "/usr/local/lib/python3.8/dist-packages/sklearn/metrics/_classification.py:1344: UndefinedMetricWarning: Precision and F-score are ill-defined and being set to 0.0 in labels with no predicted samples. Use `zero_division` parameter to control this behavior.\n",
            "  _warn_prf(average, modifier, msg_start, len(result))\n"
          ]
        }
      ]
    },
    {
      "cell_type": "markdown",
      "source": [
        "# Create Main Dataset"
      ],
      "metadata": {
        "id": "kIJ2yiYJ_qCT"
      }
    },
    {
      "cell_type": "markdown",
      "source": [
        "## Load Dataset and preprocess"
      ],
      "metadata": {
        "id": "Woh7pgRR_u3T"
      }
    },
    {
      "cell_type": "code",
      "execution_count": null,
      "metadata": {
        "colab": {
          "base_uri": "https://localhost:8080/"
        },
        "id": "ds8Bjhm4KOZu",
        "outputId": "3e06fe1b-ff6a-499d-d23c-1b0bb2b002a1"
      },
      "outputs": [
        {
          "metadata": {
            "tags": null
          },
          "name": "stdout",
          "output_type": "stream",
          "text": [
            "Please provide your Kaggle credentials to download this dataset. Learn more: http://bit.ly/kaggle-creds\n",
            "Your Kaggle username:Your Kaggle Key:Downloading librispeech-small-dataset.zip to ./librispeech-small-dataset\n"
          ]
        },
        {
          "metadata": {
            "tags": null
          },
          "name": "stderr",
          "output_type": "stream",
          "text": [
            "100%|██████████| 13.7G/13.7G [01:48<00:00, 136MB/s]\n"
          ]
        },
        {
          "metadata": {
            "tags": null
          },
          "name": "stdout",
          "output_type": "stream",
          "text": [
            "\n"
          ]
        }
      ],
      "source": [
        "od.download('https://www.kaggle.com/datasets/benimaru069/librispeech-small-dataset')\n",
        "\n",
        "#It needes enter your kaggle user name and key."
      ]
    },
    {
      "cell_type": "code",
      "execution_count": null,
      "metadata": {
        "id": "HfKGUw_OKVMN"
      },
      "outputs": [],
      "source": [
        "df = pd.read_csv('metadata_RAKE.csv')"
      ]
    },
    {
      "cell_type": "code",
      "execution_count": null,
      "metadata": {
        "colab": {
          "base_uri": "https://localhost:8080/",
          "height": 1000
        },
        "id": "CZbVs6JDNODR",
        "outputId": "9c3c59e3-8b1c-4731-f36c-cd0705d4053a"
      },
      "outputs": [
        {
          "output_type": "execute_result",
          "data": {
            "text/plain": [
              "                                                sentence  \\\n",
              "0      BUT WHEN HE CAME TO THE STY THERE WAS NO PIG T...   \n",
              "1      AND SO HE WENT SOFTLY UP TO THE PIG STY AND RE...   \n",
              "2      THE FARMER GAVE ME NOTHING BUT A SCOLDING BUT ...   \n",
              "3      AH YOU CAN RUN ABOUT ALL DAY IN SUMMER AND IN ...   \n",
              "4      IT WAS ONE MORNING AFTER CHRISTMAS SAID THE RA...   \n",
              "...                                                  ...   \n",
              "45532  A PERSON OF GREATER ENTERPRISE THAN DISCRETION...   \n",
              "45533  TO THE UNSPEAKABLE ENHANCEMENT OF THE LUCIDITY...   \n",
              "45534  A PAGEANT WHEREBY WE ATTEST OUR RESPECT FOR TH...   \n",
              "45535       WE OBSERVE THE SAME THING IN CHILDREN TO DAY   \n",
              "45536  IN RESPECT AT LEAST OF PUNCTUATION WHICH IS NO...   \n",
              "\n",
              "                                              audio_path  count   key_word_1  \\\n",
              "0      ../input/librispeech-asr-wav-dataset/train-cle...   11.0         came   \n",
              "1      ../input/librispeech-asr-wav-dataset/train-cle...   15.0         went   \n",
              "2      ../input/librispeech-asr-wav-dataset/train-cle...   16.0       farmer   \n",
              "3      ../input/librispeech-asr-wav-dataset/train-cle...   17.0           ah   \n",
              "4      ../input/librispeech-asr-wav-dataset/train-cle...   26.0          one   \n",
              "...                                                  ...    ...          ...   \n",
              "45532  ../input/librispeech-asr-wav-dataset/train-cle...   10.0       person   \n",
              "45533  ../input/librispeech-asr-wav-dataset/train-cle...    6.0  unspeakable   \n",
              "45534  ../input/librispeech-asr-wav-dataset/train-cle...    7.0      pageant   \n",
              "45535  ../input/librispeech-asr-wav-dataset/train-cle...    4.0      observe   \n",
              "45536  ../input/librispeech-asr-wav-dataset/train-cle...    5.0      respect   \n",
              "\n",
              "        key_word_2   key_word_3  key_word_4 key_word_5  \n",
              "0              sty          pig        seen   searched  \n",
              "1           softly          pig         sty    reached  \n",
              "2             gave      nothing    scolding       nice  \n",
              "3              run          day      summer     winter  \n",
              "4          morning    christmas        said     rabbit  \n",
              "...            ...          ...         ...        ...  \n",
              "45532      greater   enterprise  discretion  embracing  \n",
              "45533  enhancement     lucidity     thought      value  \n",
              "45534      whereby       attest     respect       dead  \n",
              "45535        thing     children         day        NaN  \n",
              "45536        least  punctuation       small      glory  \n",
              "\n",
              "[45537 rows x 8 columns]"
            ],
            "text/html": [
              "\n",
              "  <div id=\"df-f765b79a-44a8-444e-8763-30755f64221e\">\n",
              "    <div class=\"colab-df-container\">\n",
              "      <div>\n",
              "<style scoped>\n",
              "    .dataframe tbody tr th:only-of-type {\n",
              "        vertical-align: middle;\n",
              "    }\n",
              "\n",
              "    .dataframe tbody tr th {\n",
              "        vertical-align: top;\n",
              "    }\n",
              "\n",
              "    .dataframe thead th {\n",
              "        text-align: right;\n",
              "    }\n",
              "</style>\n",
              "<table border=\"1\" class=\"dataframe\">\n",
              "  <thead>\n",
              "    <tr style=\"text-align: right;\">\n",
              "      <th></th>\n",
              "      <th>sentence</th>\n",
              "      <th>audio_path</th>\n",
              "      <th>count</th>\n",
              "      <th>key_word_1</th>\n",
              "      <th>key_word_2</th>\n",
              "      <th>key_word_3</th>\n",
              "      <th>key_word_4</th>\n",
              "      <th>key_word_5</th>\n",
              "    </tr>\n",
              "  </thead>\n",
              "  <tbody>\n",
              "    <tr>\n",
              "      <th>0</th>\n",
              "      <td>BUT WHEN HE CAME TO THE STY THERE WAS NO PIG T...</td>\n",
              "      <td>../input/librispeech-asr-wav-dataset/train-cle...</td>\n",
              "      <td>11.0</td>\n",
              "      <td>came</td>\n",
              "      <td>sty</td>\n",
              "      <td>pig</td>\n",
              "      <td>seen</td>\n",
              "      <td>searched</td>\n",
              "    </tr>\n",
              "    <tr>\n",
              "      <th>1</th>\n",
              "      <td>AND SO HE WENT SOFTLY UP TO THE PIG STY AND RE...</td>\n",
              "      <td>../input/librispeech-asr-wav-dataset/train-cle...</td>\n",
              "      <td>15.0</td>\n",
              "      <td>went</td>\n",
              "      <td>softly</td>\n",
              "      <td>pig</td>\n",
              "      <td>sty</td>\n",
              "      <td>reached</td>\n",
              "    </tr>\n",
              "    <tr>\n",
              "      <th>2</th>\n",
              "      <td>THE FARMER GAVE ME NOTHING BUT A SCOLDING BUT ...</td>\n",
              "      <td>../input/librispeech-asr-wav-dataset/train-cle...</td>\n",
              "      <td>16.0</td>\n",
              "      <td>farmer</td>\n",
              "      <td>gave</td>\n",
              "      <td>nothing</td>\n",
              "      <td>scolding</td>\n",
              "      <td>nice</td>\n",
              "    </tr>\n",
              "    <tr>\n",
              "      <th>3</th>\n",
              "      <td>AH YOU CAN RUN ABOUT ALL DAY IN SUMMER AND IN ...</td>\n",
              "      <td>../input/librispeech-asr-wav-dataset/train-cle...</td>\n",
              "      <td>17.0</td>\n",
              "      <td>ah</td>\n",
              "      <td>run</td>\n",
              "      <td>day</td>\n",
              "      <td>summer</td>\n",
              "      <td>winter</td>\n",
              "    </tr>\n",
              "    <tr>\n",
              "      <th>4</th>\n",
              "      <td>IT WAS ONE MORNING AFTER CHRISTMAS SAID THE RA...</td>\n",
              "      <td>../input/librispeech-asr-wav-dataset/train-cle...</td>\n",
              "      <td>26.0</td>\n",
              "      <td>one</td>\n",
              "      <td>morning</td>\n",
              "      <td>christmas</td>\n",
              "      <td>said</td>\n",
              "      <td>rabbit</td>\n",
              "    </tr>\n",
              "    <tr>\n",
              "      <th>...</th>\n",
              "      <td>...</td>\n",
              "      <td>...</td>\n",
              "      <td>...</td>\n",
              "      <td>...</td>\n",
              "      <td>...</td>\n",
              "      <td>...</td>\n",
              "      <td>...</td>\n",
              "      <td>...</td>\n",
              "    </tr>\n",
              "    <tr>\n",
              "      <th>45532</th>\n",
              "      <td>A PERSON OF GREATER ENTERPRISE THAN DISCRETION...</td>\n",
              "      <td>../input/librispeech-asr-wav-dataset/train-cle...</td>\n",
              "      <td>10.0</td>\n",
              "      <td>person</td>\n",
              "      <td>greater</td>\n",
              "      <td>enterprise</td>\n",
              "      <td>discretion</td>\n",
              "      <td>embracing</td>\n",
              "    </tr>\n",
              "    <tr>\n",
              "      <th>45533</th>\n",
              "      <td>TO THE UNSPEAKABLE ENHANCEMENT OF THE LUCIDITY...</td>\n",
              "      <td>../input/librispeech-asr-wav-dataset/train-cle...</td>\n",
              "      <td>6.0</td>\n",
              "      <td>unspeakable</td>\n",
              "      <td>enhancement</td>\n",
              "      <td>lucidity</td>\n",
              "      <td>thought</td>\n",
              "      <td>value</td>\n",
              "    </tr>\n",
              "    <tr>\n",
              "      <th>45534</th>\n",
              "      <td>A PAGEANT WHEREBY WE ATTEST OUR RESPECT FOR TH...</td>\n",
              "      <td>../input/librispeech-asr-wav-dataset/train-cle...</td>\n",
              "      <td>7.0</td>\n",
              "      <td>pageant</td>\n",
              "      <td>whereby</td>\n",
              "      <td>attest</td>\n",
              "      <td>respect</td>\n",
              "      <td>dead</td>\n",
              "    </tr>\n",
              "    <tr>\n",
              "      <th>45535</th>\n",
              "      <td>WE OBSERVE THE SAME THING IN CHILDREN TO DAY</td>\n",
              "      <td>../input/librispeech-asr-wav-dataset/train-cle...</td>\n",
              "      <td>4.0</td>\n",
              "      <td>observe</td>\n",
              "      <td>thing</td>\n",
              "      <td>children</td>\n",
              "      <td>day</td>\n",
              "      <td>NaN</td>\n",
              "    </tr>\n",
              "    <tr>\n",
              "      <th>45536</th>\n",
              "      <td>IN RESPECT AT LEAST OF PUNCTUATION WHICH IS NO...</td>\n",
              "      <td>../input/librispeech-asr-wav-dataset/train-cle...</td>\n",
              "      <td>5.0</td>\n",
              "      <td>respect</td>\n",
              "      <td>least</td>\n",
              "      <td>punctuation</td>\n",
              "      <td>small</td>\n",
              "      <td>glory</td>\n",
              "    </tr>\n",
              "  </tbody>\n",
              "</table>\n",
              "<p>45537 rows × 8 columns</p>\n",
              "</div>\n",
              "      <button class=\"colab-df-convert\" onclick=\"convertToInteractive('df-f765b79a-44a8-444e-8763-30755f64221e')\"\n",
              "              title=\"Convert this dataframe to an interactive table.\"\n",
              "              style=\"display:none;\">\n",
              "        \n",
              "  <svg xmlns=\"http://www.w3.org/2000/svg\" height=\"24px\"viewBox=\"0 0 24 24\"\n",
              "       width=\"24px\">\n",
              "    <path d=\"M0 0h24v24H0V0z\" fill=\"none\"/>\n",
              "    <path d=\"M18.56 5.44l.94 2.06.94-2.06 2.06-.94-2.06-.94-.94-2.06-.94 2.06-2.06.94zm-11 1L8.5 8.5l.94-2.06 2.06-.94-2.06-.94L8.5 2.5l-.94 2.06-2.06.94zm10 10l.94 2.06.94-2.06 2.06-.94-2.06-.94-.94-2.06-.94 2.06-2.06.94z\"/><path d=\"M17.41 7.96l-1.37-1.37c-.4-.4-.92-.59-1.43-.59-.52 0-1.04.2-1.43.59L10.3 9.45l-7.72 7.72c-.78.78-.78 2.05 0 2.83L4 21.41c.39.39.9.59 1.41.59.51 0 1.02-.2 1.41-.59l7.78-7.78 2.81-2.81c.8-.78.8-2.07 0-2.86zM5.41 20L4 18.59l7.72-7.72 1.47 1.35L5.41 20z\"/>\n",
              "  </svg>\n",
              "      </button>\n",
              "      \n",
              "  <style>\n",
              "    .colab-df-container {\n",
              "      display:flex;\n",
              "      flex-wrap:wrap;\n",
              "      gap: 12px;\n",
              "    }\n",
              "\n",
              "    .colab-df-convert {\n",
              "      background-color: #E8F0FE;\n",
              "      border: none;\n",
              "      border-radius: 50%;\n",
              "      cursor: pointer;\n",
              "      display: none;\n",
              "      fill: #1967D2;\n",
              "      height: 32px;\n",
              "      padding: 0 0 0 0;\n",
              "      width: 32px;\n",
              "    }\n",
              "\n",
              "    .colab-df-convert:hover {\n",
              "      background-color: #E2EBFA;\n",
              "      box-shadow: 0px 1px 2px rgba(60, 64, 67, 0.3), 0px 1px 3px 1px rgba(60, 64, 67, 0.15);\n",
              "      fill: #174EA6;\n",
              "    }\n",
              "\n",
              "    [theme=dark] .colab-df-convert {\n",
              "      background-color: #3B4455;\n",
              "      fill: #D2E3FC;\n",
              "    }\n",
              "\n",
              "    [theme=dark] .colab-df-convert:hover {\n",
              "      background-color: #434B5C;\n",
              "      box-shadow: 0px 1px 3px 1px rgba(0, 0, 0, 0.15);\n",
              "      filter: drop-shadow(0px 1px 2px rgba(0, 0, 0, 0.3));\n",
              "      fill: #FFFFFF;\n",
              "    }\n",
              "  </style>\n",
              "\n",
              "      <script>\n",
              "        const buttonEl =\n",
              "          document.querySelector('#df-f765b79a-44a8-444e-8763-30755f64221e button.colab-df-convert');\n",
              "        buttonEl.style.display =\n",
              "          google.colab.kernel.accessAllowed ? 'block' : 'none';\n",
              "\n",
              "        async function convertToInteractive(key) {\n",
              "          const element = document.querySelector('#df-f765b79a-44a8-444e-8763-30755f64221e');\n",
              "          const dataTable =\n",
              "            await google.colab.kernel.invokeFunction('convertToInteractive',\n",
              "                                                     [key], {});\n",
              "          if (!dataTable) return;\n",
              "\n",
              "          const docLinkHtml = 'Like what you see? Visit the ' +\n",
              "            '<a target=\"_blank\" href=https://colab.research.google.com/notebooks/data_table.ipynb>data table notebook</a>'\n",
              "            + ' to learn more about interactive tables.';\n",
              "          element.innerHTML = '';\n",
              "          dataTable['output_type'] = 'display_data';\n",
              "          await google.colab.output.renderOutput(dataTable, element);\n",
              "          const docLink = document.createElement('div');\n",
              "          docLink.innerHTML = docLinkHtml;\n",
              "          element.appendChild(docLink);\n",
              "        }\n",
              "      </script>\n",
              "    </div>\n",
              "  </div>\n",
              "  "
            ]
          },
          "metadata": {},
          "execution_count": 7
        }
      ],
      "source": [
        "df[['sentence','audio_path','count','key_word_1','key_word_2', 'key_word_3', 'key_word_4', 'key_word_5']]"
      ]
    },
    {
      "cell_type": "code",
      "execution_count": null,
      "metadata": {
        "colab": {
          "base_uri": "https://localhost:8080/"
        },
        "id": "ZtIfBT4bUH6Q",
        "outputId": "1b8dcedc-b044-450e-efd4-4e586931091e"
      },
      "outputs": [
        {
          "output_type": "execute_result",
          "data": {
            "text/plain": [
              "audio_path      ../input/librispeech-asr-wav-dataset/train-cle...\n",
              "filename                                      100-121669-0012.wav\n",
              "subset                                            train-clean-360\n",
              "speaker_id                                                    100\n",
              "chapter_id                                                 121669\n",
              "file_id                                                        12\n",
              "id                                                100-121669-0012\n",
              "sex                                                             F\n",
              "minute                                                      25.06\n",
              "speaker_name                                          Judy Bieber\n",
              "sentence        THE FARMER HAD STOPPED SAWING TO REST JUST THE...\n",
              "count                                                        21.0\n",
              "key_word_1                                                 farmer\n",
              "key_word_2                                                stopped\n",
              "key_word_3                                                 sawing\n",
              "key_word_4                                                   rest\n",
              "key_word_5                                                  heard\n",
              "Name: 29, dtype: object"
            ]
          },
          "metadata": {},
          "execution_count": 8
        }
      ],
      "source": [
        "df.iloc()[29]"
      ]
    },
    {
      "cell_type": "code",
      "execution_count": null,
      "metadata": {
        "colab": {
          "base_uri": "https://localhost:8080/",
          "height": 722
        },
        "id": "sUPyhRPsQMKW",
        "outputId": "20c0d92c-a25d-4738-de07-6e32bb056576"
      },
      "outputs": [
        {
          "output_type": "execute_result",
          "data": {
            "text/plain": [
              "                                          audio_path             filename  \\\n",
              "0  ../input/librispeech-asr-wav-dataset/train-cle...  100-121669-0019.wav   \n",
              "1  ../input/librispeech-asr-wav-dataset/train-cle...  100-121669-0014.wav   \n",
              "2  ../input/librispeech-asr-wav-dataset/train-cle...  100-121669-0013.wav   \n",
              "3  ../input/librispeech-asr-wav-dataset/train-cle...  100-121674-0035.wav   \n",
              "4  ../input/librispeech-asr-wav-dataset/train-cle...  100-121674-0017.wav   \n",
              "\n",
              "            subset  speaker_id  chapter_id  file_id               id sex  \\\n",
              "0  train-clean-360         100      121669       19  100-121669-0019   F   \n",
              "1  train-clean-360         100      121669       14  100-121669-0014   F   \n",
              "2  train-clean-360         100      121669       13  100-121669-0013   F   \n",
              "3  train-clean-360         100      121674       35  100-121674-0035   F   \n",
              "4  train-clean-360         100      121674       17  100-121674-0017   F   \n",
              "\n",
              "   minute speaker_name                                           sentence  \\\n",
              "0   25.06  Judy Bieber  BUT WHEN HE CAME TO THE STY THERE WAS NO PIG T...   \n",
              "1   25.06  Judy Bieber  AND SO HE WENT SOFTLY UP TO THE PIG STY AND RE...   \n",
              "2   25.06  Judy Bieber  THE FARMER GAVE ME NOTHING BUT A SCOLDING BUT ...   \n",
              "3   25.06  Judy Bieber  AH YOU CAN RUN ABOUT ALL DAY IN SUMMER AND IN ...   \n",
              "4   25.06  Judy Bieber  IT WAS ONE MORNING AFTER CHRISTMAS SAID THE RA...   \n",
              "\n",
              "   count                           keywords  \n",
              "0   11.0         came sty pig seen searched  \n",
              "1   15.0        went softly pig sty reached  \n",
              "2   16.0  farmer gave nothing scolding nice  \n",
              "3   17.0           ah run day summer winter  \n",
              "4   26.0  one morning christmas said rabbit  "
            ],
            "text/html": [
              "\n",
              "  <div id=\"df-c4e6811d-e2b8-4fa9-b86e-7395d16958e9\">\n",
              "    <div class=\"colab-df-container\">\n",
              "      <div>\n",
              "<style scoped>\n",
              "    .dataframe tbody tr th:only-of-type {\n",
              "        vertical-align: middle;\n",
              "    }\n",
              "\n",
              "    .dataframe tbody tr th {\n",
              "        vertical-align: top;\n",
              "    }\n",
              "\n",
              "    .dataframe thead th {\n",
              "        text-align: right;\n",
              "    }\n",
              "</style>\n",
              "<table border=\"1\" class=\"dataframe\">\n",
              "  <thead>\n",
              "    <tr style=\"text-align: right;\">\n",
              "      <th></th>\n",
              "      <th>audio_path</th>\n",
              "      <th>filename</th>\n",
              "      <th>subset</th>\n",
              "      <th>speaker_id</th>\n",
              "      <th>chapter_id</th>\n",
              "      <th>file_id</th>\n",
              "      <th>id</th>\n",
              "      <th>sex</th>\n",
              "      <th>minute</th>\n",
              "      <th>speaker_name</th>\n",
              "      <th>sentence</th>\n",
              "      <th>count</th>\n",
              "      <th>keywords</th>\n",
              "    </tr>\n",
              "  </thead>\n",
              "  <tbody>\n",
              "    <tr>\n",
              "      <th>0</th>\n",
              "      <td>../input/librispeech-asr-wav-dataset/train-cle...</td>\n",
              "      <td>100-121669-0019.wav</td>\n",
              "      <td>train-clean-360</td>\n",
              "      <td>100</td>\n",
              "      <td>121669</td>\n",
              "      <td>19</td>\n",
              "      <td>100-121669-0019</td>\n",
              "      <td>F</td>\n",
              "      <td>25.06</td>\n",
              "      <td>Judy Bieber</td>\n",
              "      <td>BUT WHEN HE CAME TO THE STY THERE WAS NO PIG T...</td>\n",
              "      <td>11.0</td>\n",
              "      <td>came sty pig seen searched</td>\n",
              "    </tr>\n",
              "    <tr>\n",
              "      <th>1</th>\n",
              "      <td>../input/librispeech-asr-wav-dataset/train-cle...</td>\n",
              "      <td>100-121669-0014.wav</td>\n",
              "      <td>train-clean-360</td>\n",
              "      <td>100</td>\n",
              "      <td>121669</td>\n",
              "      <td>14</td>\n",
              "      <td>100-121669-0014</td>\n",
              "      <td>F</td>\n",
              "      <td>25.06</td>\n",
              "      <td>Judy Bieber</td>\n",
              "      <td>AND SO HE WENT SOFTLY UP TO THE PIG STY AND RE...</td>\n",
              "      <td>15.0</td>\n",
              "      <td>went softly pig sty reached</td>\n",
              "    </tr>\n",
              "    <tr>\n",
              "      <th>2</th>\n",
              "      <td>../input/librispeech-asr-wav-dataset/train-cle...</td>\n",
              "      <td>100-121669-0013.wav</td>\n",
              "      <td>train-clean-360</td>\n",
              "      <td>100</td>\n",
              "      <td>121669</td>\n",
              "      <td>13</td>\n",
              "      <td>100-121669-0013</td>\n",
              "      <td>F</td>\n",
              "      <td>25.06</td>\n",
              "      <td>Judy Bieber</td>\n",
              "      <td>THE FARMER GAVE ME NOTHING BUT A SCOLDING BUT ...</td>\n",
              "      <td>16.0</td>\n",
              "      <td>farmer gave nothing scolding nice</td>\n",
              "    </tr>\n",
              "    <tr>\n",
              "      <th>3</th>\n",
              "      <td>../input/librispeech-asr-wav-dataset/train-cle...</td>\n",
              "      <td>100-121674-0035.wav</td>\n",
              "      <td>train-clean-360</td>\n",
              "      <td>100</td>\n",
              "      <td>121674</td>\n",
              "      <td>35</td>\n",
              "      <td>100-121674-0035</td>\n",
              "      <td>F</td>\n",
              "      <td>25.06</td>\n",
              "      <td>Judy Bieber</td>\n",
              "      <td>AH YOU CAN RUN ABOUT ALL DAY IN SUMMER AND IN ...</td>\n",
              "      <td>17.0</td>\n",
              "      <td>ah run day summer winter</td>\n",
              "    </tr>\n",
              "    <tr>\n",
              "      <th>4</th>\n",
              "      <td>../input/librispeech-asr-wav-dataset/train-cle...</td>\n",
              "      <td>100-121674-0017.wav</td>\n",
              "      <td>train-clean-360</td>\n",
              "      <td>100</td>\n",
              "      <td>121674</td>\n",
              "      <td>17</td>\n",
              "      <td>100-121674-0017</td>\n",
              "      <td>F</td>\n",
              "      <td>25.06</td>\n",
              "      <td>Judy Bieber</td>\n",
              "      <td>IT WAS ONE MORNING AFTER CHRISTMAS SAID THE RA...</td>\n",
              "      <td>26.0</td>\n",
              "      <td>one morning christmas said rabbit</td>\n",
              "    </tr>\n",
              "  </tbody>\n",
              "</table>\n",
              "</div>\n",
              "      <button class=\"colab-df-convert\" onclick=\"convertToInteractive('df-c4e6811d-e2b8-4fa9-b86e-7395d16958e9')\"\n",
              "              title=\"Convert this dataframe to an interactive table.\"\n",
              "              style=\"display:none;\">\n",
              "        \n",
              "  <svg xmlns=\"http://www.w3.org/2000/svg\" height=\"24px\"viewBox=\"0 0 24 24\"\n",
              "       width=\"24px\">\n",
              "    <path d=\"M0 0h24v24H0V0z\" fill=\"none\"/>\n",
              "    <path d=\"M18.56 5.44l.94 2.06.94-2.06 2.06-.94-2.06-.94-.94-2.06-.94 2.06-2.06.94zm-11 1L8.5 8.5l.94-2.06 2.06-.94-2.06-.94L8.5 2.5l-.94 2.06-2.06.94zm10 10l.94 2.06.94-2.06 2.06-.94-2.06-.94-.94-2.06-.94 2.06-2.06.94z\"/><path d=\"M17.41 7.96l-1.37-1.37c-.4-.4-.92-.59-1.43-.59-.52 0-1.04.2-1.43.59L10.3 9.45l-7.72 7.72c-.78.78-.78 2.05 0 2.83L4 21.41c.39.39.9.59 1.41.59.51 0 1.02-.2 1.41-.59l7.78-7.78 2.81-2.81c.8-.78.8-2.07 0-2.86zM5.41 20L4 18.59l7.72-7.72 1.47 1.35L5.41 20z\"/>\n",
              "  </svg>\n",
              "      </button>\n",
              "      \n",
              "  <style>\n",
              "    .colab-df-container {\n",
              "      display:flex;\n",
              "      flex-wrap:wrap;\n",
              "      gap: 12px;\n",
              "    }\n",
              "\n",
              "    .colab-df-convert {\n",
              "      background-color: #E8F0FE;\n",
              "      border: none;\n",
              "      border-radius: 50%;\n",
              "      cursor: pointer;\n",
              "      display: none;\n",
              "      fill: #1967D2;\n",
              "      height: 32px;\n",
              "      padding: 0 0 0 0;\n",
              "      width: 32px;\n",
              "    }\n",
              "\n",
              "    .colab-df-convert:hover {\n",
              "      background-color: #E2EBFA;\n",
              "      box-shadow: 0px 1px 2px rgba(60, 64, 67, 0.3), 0px 1px 3px 1px rgba(60, 64, 67, 0.15);\n",
              "      fill: #174EA6;\n",
              "    }\n",
              "\n",
              "    [theme=dark] .colab-df-convert {\n",
              "      background-color: #3B4455;\n",
              "      fill: #D2E3FC;\n",
              "    }\n",
              "\n",
              "    [theme=dark] .colab-df-convert:hover {\n",
              "      background-color: #434B5C;\n",
              "      box-shadow: 0px 1px 3px 1px rgba(0, 0, 0, 0.15);\n",
              "      filter: drop-shadow(0px 1px 2px rgba(0, 0, 0, 0.3));\n",
              "      fill: #FFFFFF;\n",
              "    }\n",
              "  </style>\n",
              "\n",
              "      <script>\n",
              "        const buttonEl =\n",
              "          document.querySelector('#df-c4e6811d-e2b8-4fa9-b86e-7395d16958e9 button.colab-df-convert');\n",
              "        buttonEl.style.display =\n",
              "          google.colab.kernel.accessAllowed ? 'block' : 'none';\n",
              "\n",
              "        async function convertToInteractive(key) {\n",
              "          const element = document.querySelector('#df-c4e6811d-e2b8-4fa9-b86e-7395d16958e9');\n",
              "          const dataTable =\n",
              "            await google.colab.kernel.invokeFunction('convertToInteractive',\n",
              "                                                     [key], {});\n",
              "          if (!dataTable) return;\n",
              "\n",
              "          const docLinkHtml = 'Like what you see? Visit the ' +\n",
              "            '<a target=\"_blank\" href=https://colab.research.google.com/notebooks/data_table.ipynb>data table notebook</a>'\n",
              "            + ' to learn more about interactive tables.';\n",
              "          element.innerHTML = '';\n",
              "          dataTable['output_type'] = 'display_data';\n",
              "          await google.colab.output.renderOutput(dataTable, element);\n",
              "          const docLink = document.createElement('div');\n",
              "          docLink.innerHTML = docLinkHtml;\n",
              "          element.appendChild(docLink);\n",
              "        }\n",
              "      </script>\n",
              "    </div>\n",
              "  </div>\n",
              "  "
            ]
          },
          "metadata": {},
          "execution_count": 9
        }
      ],
      "source": [
        "df['keywords'] = df[['key_word_1', 'key_word_2', 'key_word_3', 'key_word_4', 'key_word_5']].apply(lambda x: ' '.join([str(i) for i in x if not pd.isna(i)]), axis=1)\n",
        "df = df.drop(columns=['key_word_1', 'key_word_2', 'key_word_3', 'key_word_4', 'key_word_5'])\n",
        "df.head()"
      ]
    },
    {
      "cell_type": "code",
      "execution_count": null,
      "metadata": {
        "colab": {
          "base_uri": "https://localhost:8080/"
        },
        "id": "eR25a02Pb3YA",
        "outputId": "c0bc247d-0553-4329-d6b2-43ae83289af2"
      },
      "outputs": [
        {
          "output_type": "execute_result",
          "data": {
            "text/plain": [
              "45537"
            ]
          },
          "metadata": {},
          "execution_count": 10
        }
      ],
      "source": [
        "len(df)"
      ]
    },
    {
      "cell_type": "code",
      "execution_count": null,
      "metadata": {
        "colab": {
          "base_uri": "https://localhost:8080/",
          "height": 35
        },
        "id": "lH4zaDddcZGI",
        "outputId": "6e3d96eb-fdf3-479c-8860-3d20061c57d4"
      },
      "outputs": [
        {
          "output_type": "execute_result",
          "data": {
            "text/plain": [
              "'came sty pig seen searched'"
            ],
            "application/vnd.google.colaboratory.intrinsic+json": {
              "type": "string"
            }
          },
          "metadata": {},
          "execution_count": 11
        }
      ],
      "source": [
        "df.iloc()[0]['keywords']"
      ]
    },
    {
      "cell_type": "code",
      "execution_count": null,
      "metadata": {
        "colab": {
          "base_uri": "https://localhost:8080/",
          "height": 75
        },
        "id": "r-6hsLP8a_DJ",
        "outputId": "30f9ffc1-3a60-4a03-fdb1-7fddec24cbe9"
      },
      "outputs": [
        {
          "output_type": "execute_result",
          "data": {
            "text/plain": [
              "<pydub.audio_segment.AudioSegment at 0x7f22327e1fa0>"
            ],
            "text/html": [
              "\n",
              "                    <audio controls>\n",
              "                        <source src=\"data:audio/mpeg;base64,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\" type=\"audio/mpeg\"/>\n",
              "                        Your browser does not support the audio element.\n",
              "                    </audio>\n",
              "                  "
            ]
          },
          "metadata": {},
          "execution_count": 13
        }
      ],
      "source": [
        "audio_file = AudioSegment.from_file('librispeech-small-dataset/wavs/100-121669-0013.wav')\n",
        "audio_file"
      ]
    },
    {
      "cell_type": "code",
      "execution_count": null,
      "metadata": {
        "colab": {
          "base_uri": "https://localhost:8080/"
        },
        "id": "I1tApX7iT0FG",
        "outputId": "8651d867-0539-475d-8fcc-566c4b4adc7f"
      },
      "outputs": [
        {
          "output_type": "stream",
          "name": "stderr",
          "text": [
            "100%|██████████| 45537/45537 [00:44<00:00, 1016.02it/s]\n"
          ]
        }
      ],
      "source": [
        "data = []\n",
        "path = 'librispeech-small-dataset/wavs/'\n",
        "\n",
        "for i in tqdm(range(len(df))):\n",
        "    file_path = path + df.iloc()[i]['audio_path'].split('/')[-1]\n",
        "    data.append((file_path, df.iloc()[i]['keywords']))"
      ]
    },
    {
      "cell_type": "code",
      "execution_count": null,
      "metadata": {
        "colab": {
          "base_uri": "https://localhost:8080/"
        },
        "id": "6geONKsqV0Ax",
        "outputId": "265774f6-7a74-4c0c-dc73-a855f8eb80fa"
      },
      "outputs": [
        {
          "output_type": "execute_result",
          "data": {
            "text/plain": [
              "(53440,)"
            ]
          },
          "metadata": {},
          "execution_count": 30
        }
      ],
      "source": [
        "samples = np.array(audio_file.get_array_of_samples())\n",
        "\n",
        "samples = samples.reshape(-1, audio_file.channels)\n",
        "\n",
        "samples = samples / np.max(np.abs(samples))\n",
        "\n",
        "\n",
        "samples = samples.squeeze()\n",
        "samples.shape"
      ]
    },
    {
      "cell_type": "code",
      "execution_count": null,
      "metadata": {
        "colab": {
          "base_uri": "https://localhost:8080/"
        },
        "id": "7uPMWS1TYaHi",
        "outputId": "62554d67-b4d9-4d6d-904e-584c8e4733ab"
      },
      "outputs": [
        {
          "output_type": "execute_result",
          "data": {
            "text/plain": [
              "16000"
            ]
          },
          "metadata": {},
          "execution_count": 31
        }
      ],
      "source": [
        "audio_file.frame_rate"
      ]
    },
    {
      "cell_type": "code",
      "execution_count": null,
      "metadata": {
        "id": "xO4fvE0ydOCC"
      },
      "outputs": [],
      "source": [
        "selected_data = random.sample(data, 4500)"
      ]
    },
    {
      "cell_type": "code",
      "source": [
        "del data\n",
        "gc.collect()"
      ],
      "metadata": {
        "colab": {
          "base_uri": "https://localhost:8080/"
        },
        "id": "zp0dfv5aruiz",
        "outputId": "801e5f11-0607-4187-b8f1-7237b976b6c7"
      },
      "execution_count": null,
      "outputs": [
        {
          "output_type": "execute_result",
          "data": {
            "text/plain": [
              "16"
            ]
          },
          "metadata": {},
          "execution_count": 33
        }
      ]
    },
    {
      "cell_type": "markdown",
      "source": [
        "## Create final dataset\n",
        "We create a dataset which contains waveform of a large audio with its corresponding keywords."
      ],
      "metadata": {
        "id": "Rcc2Y1veAW2i"
      }
    },
    {
      "cell_type": "code",
      "execution_count": null,
      "metadata": {
        "colab": {
          "base_uri": "https://localhost:8080/"
        },
        "id": "My628uqeY3V9",
        "outputId": "aea6a3be-7661-4761-9700-d353e5c6ace8"
      },
      "outputs": [
        {
          "output_type": "stream",
          "name": "stderr",
          "text": [
            " 84%|████████▎ | 3760/4500 [31:11<06:08,  2.01it/s]\n"
          ]
        }
      ],
      "source": [
        "audios_dataset = []\n",
        "keywords_dataset = []\n",
        "c = 0\n",
        "for file, keywords in tqdm(selected_data):\n",
        "  try:\n",
        "    audio_file = AudioSegment.from_file(file)\n",
        "    samples = np.array(audio_file.get_array_of_samples())\n",
        "    samples = samples.reshape(-1, audio_file.channels)\n",
        "    samples = samples / np.max(np.abs(samples))\n",
        "    samples = samples.squeeze()\n",
        "    audios_dataset.append(samples)\n",
        "    keywords_dataset.append(keywords)\n",
        "  except Exception as e:\n",
        "    continue\n",
        "  c += 1\n",
        "  gc.collect()\n",
        "  if c == 3000:\n",
        "    break"
      ]
    },
    {
      "cell_type": "code",
      "source": [
        "gc.collect()"
      ],
      "metadata": {
        "colab": {
          "base_uri": "https://localhost:8080/"
        },
        "id": "HW1pV7knBdpp",
        "outputId": "9929e80f-456e-4998-a8b3-bc4426722e2a"
      },
      "execution_count": null,
      "outputs": [
        {
          "output_type": "execute_result",
          "data": {
            "text/plain": [
              "603"
            ]
          },
          "metadata": {},
          "execution_count": 35
        }
      ]
    },
    {
      "cell_type": "code",
      "source": [
        "type(audios_dataset[0])"
      ],
      "metadata": {
        "colab": {
          "base_uri": "https://localhost:8080/"
        },
        "id": "S7JecfdoBlFI",
        "outputId": "8400cfff-3b9f-41af-a8d2-efe9e85c6388"
      },
      "execution_count": null,
      "outputs": [
        {
          "output_type": "execute_result",
          "data": {
            "text/plain": [
              "numpy.ndarray"
            ]
          },
          "metadata": {},
          "execution_count": 36
        }
      ]
    },
    {
      "cell_type": "code",
      "source": [
        "audios_dataset = np.array(audios_dataset)"
      ],
      "metadata": {
        "colab": {
          "base_uri": "https://localhost:8080/"
        },
        "id": "HkN2sL1yBvKr",
        "outputId": "d97e40a7-3ba1-4306-cbe7-47cb56840c31"
      },
      "execution_count": null,
      "outputs": [
        {
          "output_type": "stream",
          "name": "stderr",
          "text": [
            "<ipython-input-37-75ade9f184bd>:1: VisibleDeprecationWarning: Creating an ndarray from ragged nested sequences (which is a list-or-tuple of lists-or-tuples-or ndarrays with different lengths or shapes) is deprecated. If you meant to do this, you must specify 'dtype=object' when creating the ndarray.\n",
            "  audios_dataset = np.array(audios_dataset)\n"
          ]
        }
      ]
    },
    {
      "cell_type": "markdown",
      "source": [
        "## Save Dataset"
      ],
      "metadata": {
        "id": "nM7D3MoUAtu-"
      }
    },
    {
      "cell_type": "code",
      "source": [
        "np.save('audios_dataset.npy', audios_dataset)"
      ],
      "metadata": {
        "id": "Wlvo2dEzz7fg"
      },
      "execution_count": null,
      "outputs": []
    },
    {
      "cell_type": "code",
      "source": [
        "import pickle\n",
        "\n",
        "with open('keywords_dataset.pkl', 'wb') as f:\n",
        "    pickle.dump(keywords_dataset, f)"
      ],
      "metadata": {
        "id": "Ja8_wkHj0AVJ"
      },
      "execution_count": null,
      "outputs": []
    },
    {
      "cell_type": "code",
      "source": [
        "os.path.getsize('audios_dataset.npy')"
      ],
      "metadata": {
        "colab": {
          "base_uri": "https://localhost:8080/"
        },
        "id": "PS42bPiYGZq2",
        "outputId": "3dd741cb-0205-4655-b7cd-31a2e2ee8888"
      },
      "execution_count": null,
      "outputs": [
        {
          "output_type": "execute_result",
          "data": {
            "text/plain": [
              "4787335098"
            ]
          },
          "metadata": {},
          "execution_count": 40
        }
      ]
    },
    {
      "cell_type": "code",
      "source": [
        "from google.colab import files\n",
        "files.download(\"audios_dataset.npy\")"
      ],
      "metadata": {
        "colab": {
          "base_uri": "https://localhost:8080/",
          "height": 34
        },
        "id": "CYiFdDsSGCH0",
        "outputId": "186aa4bc-14c3-4fb4-bdee-1f7a39697eb7"
      },
      "execution_count": null,
      "outputs": [
        {
          "output_type": "display_data",
          "data": {
            "text/plain": [
              "<IPython.core.display.Javascript object>"
            ],
            "application/javascript": [
              "\n",
              "    async function download(id, filename, size) {\n",
              "      if (!google.colab.kernel.accessAllowed) {\n",
              "        return;\n",
              "      }\n",
              "      const div = document.createElement('div');\n",
              "      const label = document.createElement('label');\n",
              "      label.textContent = `Downloading \"${filename}\": `;\n",
              "      div.appendChild(label);\n",
              "      const progress = document.createElement('progress');\n",
              "      progress.max = size;\n",
              "      div.appendChild(progress);\n",
              "      document.body.appendChild(div);\n",
              "\n",
              "      const buffers = [];\n",
              "      let downloaded = 0;\n",
              "\n",
              "      const channel = await google.colab.kernel.comms.open(id);\n",
              "      // Send a message to notify the kernel that we're ready.\n",
              "      channel.send({})\n",
              "\n",
              "      for await (const message of channel.messages) {\n",
              "        // Send a message to notify the kernel that we're ready.\n",
              "        channel.send({})\n",
              "        if (message.buffers) {\n",
              "          for (const buffer of message.buffers) {\n",
              "            buffers.push(buffer);\n",
              "            downloaded += buffer.byteLength;\n",
              "            progress.value = downloaded;\n",
              "          }\n",
              "        }\n",
              "      }\n",
              "      const blob = new Blob(buffers, {type: 'application/binary'});\n",
              "      const a = document.createElement('a');\n",
              "      a.href = window.URL.createObjectURL(blob);\n",
              "      a.download = filename;\n",
              "      div.appendChild(a);\n",
              "      a.click();\n",
              "      div.remove();\n",
              "    }\n",
              "  "
            ]
          },
          "metadata": {}
        },
        {
          "output_type": "display_data",
          "data": {
            "text/plain": [
              "<IPython.core.display.Javascript object>"
            ],
            "application/javascript": [
              "download(\"download_c02b3ecf-d6b5-4fac-be87-8214b42a2580\", \"audios_dataset.npy\", 4787335098)"
            ]
          },
          "metadata": {}
        }
      ]
    },
    {
      "cell_type": "code",
      "source": [
        "# Loading list from a file\n",
        "with open('keywords_dataset.pkl', 'rb') as f:\n",
        "    keywords_dataset = pickle.load(f)\n",
        "len(keywords_dataset)"
      ],
      "metadata": {
        "id": "nxS13P4-dbqT",
        "colab": {
          "base_uri": "https://localhost:8080/"
        },
        "outputId": "03aac9fd-1b2f-4df4-a627-f157949a8638"
      },
      "execution_count": null,
      "outputs": [
        {
          "output_type": "execute_result",
          "data": {
            "text/plain": [
              "3000"
            ]
          },
          "metadata": {},
          "execution_count": 46
        }
      ]
    },
    {
      "cell_type": "code",
      "source": [
        "audios_dataset = np.load('audios_dataset.npy', allow_pickle=True)\n",
        "len(audios_dataset)"
      ],
      "metadata": {
        "colab": {
          "base_uri": "https://localhost:8080/"
        },
        "id": "UoJAffLsTGEF",
        "outputId": "cc10dba6-691b-4e3e-98b8-6227397a01cc"
      },
      "execution_count": null,
      "outputs": [
        {
          "output_type": "execute_result",
          "data": {
            "text/plain": [
              "3000"
            ]
          },
          "metadata": {},
          "execution_count": 49
        }
      ]
    },
    {
      "cell_type": "code",
      "source": [
        "gc.collect()"
      ],
      "metadata": {
        "colab": {
          "base_uri": "https://localhost:8080/"
        },
        "id": "c9sWMAYCUKNj",
        "outputId": "7e310653-f9f4-474d-e69a-c77d29c70f6a"
      },
      "execution_count": null,
      "outputs": [
        {
          "output_type": "execute_result",
          "data": {
            "text/plain": [
              "53"
            ]
          },
          "metadata": {},
          "execution_count": 51
        }
      ]
    },
    {
      "cell_type": "code",
      "source": [],
      "metadata": {
        "id": "uxOftn29Upe4"
      },
      "execution_count": null,
      "outputs": []
    }
  ],
  "metadata": {
    "accelerator": "GPU",
    "colab": {
      "provenance": []
    },
    "gpuClass": "standard",
    "kernelspec": {
      "display_name": "Python 3",
      "name": "python3"
    },
    "language_info": {
      "name": "python"
    },
    "widgets": {
      "application/vnd.jupyter.widget-state+json": {
        "00e65c506919436aafa54f2b04ae03eb": {
          "model_module": "@jupyter-widgets/controls",
          "model_module_version": "1.5.0",
          "model_name": "HTMLModel",
          "state": {
            "_dom_classes": [],
            "_model_module": "@jupyter-widgets/controls",
            "_model_module_version": "1.5.0",
            "_model_name": "HTMLModel",
            "_view_count": null,
            "_view_module": "@jupyter-widgets/controls",
            "_view_module_version": "1.5.0",
            "_view_name": "HTMLView",
            "description": "",
            "description_tooltip": null,
            "layout": "IPY_MODEL_8dcf9a8f70844f56b161dfa7df403805",
            "placeholder": "​",
            "style": "IPY_MODEL_63b019a913194578a956524112b88556",
            "value": " 3/3 [00:00&lt;00:00, 49.45it/s]"
          }
        },
        "02e4b5eff1ee48ebae9880cfff01b354": {
          "model_module": "@jupyter-widgets/base",
          "model_module_version": "1.2.0",
          "model_name": "LayoutModel",
          "state": {
            "_model_module": "@jupyter-widgets/base",
            "_model_module_version": "1.2.0",
            "_model_name": "LayoutModel",
            "_view_count": null,
            "_view_module": "@jupyter-widgets/base",
            "_view_module_version": "1.2.0",
            "_view_name": "LayoutView",
            "align_content": null,
            "align_items": null,
            "align_self": null,
            "border": null,
            "bottom": null,
            "display": null,
            "flex": null,
            "flex_flow": null,
            "grid_area": null,
            "grid_auto_columns": null,
            "grid_auto_flow": null,
            "grid_auto_rows": null,
            "grid_column": null,
            "grid_gap": null,
            "grid_row": null,
            "grid_template_areas": null,
            "grid_template_columns": null,
            "grid_template_rows": null,
            "height": null,
            "justify_content": null,
            "justify_items": null,
            "left": null,
            "margin": null,
            "max_height": null,
            "max_width": null,
            "min_height": null,
            "min_width": null,
            "object_fit": null,
            "object_position": null,
            "order": null,
            "overflow": null,
            "overflow_x": null,
            "overflow_y": null,
            "padding": null,
            "right": null,
            "top": null,
            "visibility": null,
            "width": null
          }
        },
        "04751ad5ee9745869e4e79eca47516e3": {
          "model_module": "@jupyter-widgets/controls",
          "model_module_version": "1.5.0",
          "model_name": "FloatProgressModel",
          "state": {
            "_dom_classes": [],
            "_model_module": "@jupyter-widgets/controls",
            "_model_module_version": "1.5.0",
            "_model_name": "FloatProgressModel",
            "_view_count": null,
            "_view_module": "@jupyter-widgets/controls",
            "_view_module_version": "1.5.0",
            "_view_name": "ProgressView",
            "bar_style": "",
            "description": "",
            "description_tooltip": null,
            "layout": "IPY_MODEL_58cef7b8da0049dc900d7a82567ee063",
            "max": 1842,
            "min": 0,
            "orientation": "horizontal",
            "style": "IPY_MODEL_3b6aeae2cbd848f4b7d9700ed04db6ee",
            "value": 1842
          }
        },
        "04ae6577c4c54a688d669b1ffc7e81a3": {
          "model_module": "@jupyter-widgets/base",
          "model_module_version": "1.2.0",
          "model_name": "LayoutModel",
          "state": {
            "_model_module": "@jupyter-widgets/base",
            "_model_module_version": "1.2.0",
            "_model_name": "LayoutModel",
            "_view_count": null,
            "_view_module": "@jupyter-widgets/base",
            "_view_module_version": "1.2.0",
            "_view_name": "LayoutView",
            "align_content": null,
            "align_items": null,
            "align_self": null,
            "border": null,
            "bottom": null,
            "display": null,
            "flex": null,
            "flex_flow": null,
            "grid_area": null,
            "grid_auto_columns": null,
            "grid_auto_flow": null,
            "grid_auto_rows": null,
            "grid_column": null,
            "grid_gap": null,
            "grid_row": null,
            "grid_template_areas": null,
            "grid_template_columns": null,
            "grid_template_rows": null,
            "height": null,
            "justify_content": null,
            "justify_items": null,
            "left": null,
            "margin": null,
            "max_height": null,
            "max_width": null,
            "min_height": null,
            "min_width": null,
            "object_fit": null,
            "object_position": null,
            "order": null,
            "overflow": null,
            "overflow_x": null,
            "overflow_y": null,
            "padding": null,
            "right": null,
            "top": null,
            "visibility": null,
            "width": null
          }
        },
        "04af52f0c9c14ca084145c5536d31165": {
          "model_module": "@jupyter-widgets/controls",
          "model_module_version": "1.5.0",
          "model_name": "ProgressStyleModel",
          "state": {
            "_model_module": "@jupyter-widgets/controls",
            "_model_module_version": "1.5.0",
            "_model_name": "ProgressStyleModel",
            "_view_count": null,
            "_view_module": "@jupyter-widgets/base",
            "_view_module_version": "1.2.0",
            "_view_name": "StyleView",
            "bar_color": null,
            "description_width": ""
          }
        },
        "0894ea98f461454a9185613b2c933dd1": {
          "model_module": "@jupyter-widgets/controls",
          "model_module_version": "1.5.0",
          "model_name": "ProgressStyleModel",
          "state": {
            "_model_module": "@jupyter-widgets/controls",
            "_model_module_version": "1.5.0",
            "_model_name": "ProgressStyleModel",
            "_view_count": null,
            "_view_module": "@jupyter-widgets/base",
            "_view_module_version": "1.2.0",
            "_view_name": "StyleView",
            "bar_color": null,
            "description_width": ""
          }
        },
        "0c40a620af8b4defbe77d5938096199a": {
          "model_module": "@jupyter-widgets/base",
          "model_module_version": "1.2.0",
          "model_name": "LayoutModel",
          "state": {
            "_model_module": "@jupyter-widgets/base",
            "_model_module_version": "1.2.0",
            "_model_name": "LayoutModel",
            "_view_count": null,
            "_view_module": "@jupyter-widgets/base",
            "_view_module_version": "1.2.0",
            "_view_name": "LayoutView",
            "align_content": null,
            "align_items": null,
            "align_self": null,
            "border": null,
            "bottom": null,
            "display": null,
            "flex": null,
            "flex_flow": null,
            "grid_area": null,
            "grid_auto_columns": null,
            "grid_auto_flow": null,
            "grid_auto_rows": null,
            "grid_column": null,
            "grid_gap": null,
            "grid_row": null,
            "grid_template_areas": null,
            "grid_template_columns": null,
            "grid_template_rows": null,
            "height": null,
            "justify_content": null,
            "justify_items": null,
            "left": null,
            "margin": null,
            "max_height": null,
            "max_width": null,
            "min_height": null,
            "min_width": null,
            "object_fit": null,
            "object_position": null,
            "order": null,
            "overflow": null,
            "overflow_x": null,
            "overflow_y": null,
            "padding": null,
            "right": null,
            "top": null,
            "visibility": null,
            "width": null
          }
        },
        "0dcbc8d499f24d89b2cd0f154c4b3076": {
          "model_module": "@jupyter-widgets/controls",
          "model_module_version": "1.5.0",
          "model_name": "HBoxModel",
          "state": {
            "_dom_classes": [],
            "_model_module": "@jupyter-widgets/controls",
            "_model_module_version": "1.5.0",
            "_model_name": "HBoxModel",
            "_view_count": null,
            "_view_module": "@jupyter-widgets/controls",
            "_view_module_version": "1.5.0",
            "_view_name": "HBoxView",
            "box_style": "",
            "children": [
              "IPY_MODEL_dae9ad81bc8348719277ba426375aaa1",
              "IPY_MODEL_04751ad5ee9745869e4e79eca47516e3",
              "IPY_MODEL_43e0dc26644941999a55022e98b9394c"
            ],
            "layout": "IPY_MODEL_90596af4c34e4ca08c7f1f1c1909c33a"
          }
        },
        "0e14f44c9b104123b651b15619921ca9": {
          "model_module": "@jupyter-widgets/controls",
          "model_module_version": "1.5.0",
          "model_name": "DescriptionStyleModel",
          "state": {
            "_model_module": "@jupyter-widgets/controls",
            "_model_module_version": "1.5.0",
            "_model_name": "DescriptionStyleModel",
            "_view_count": null,
            "_view_module": "@jupyter-widgets/base",
            "_view_module_version": "1.2.0",
            "_view_name": "StyleView",
            "description_width": ""
          }
        },
        "0fb3b95b5e8642eea07abdfc0a34d352": {
          "model_module": "@jupyter-widgets/controls",
          "model_module_version": "1.5.0",
          "model_name": "DescriptionStyleModel",
          "state": {
            "_model_module": "@jupyter-widgets/controls",
            "_model_module_version": "1.5.0",
            "_model_name": "DescriptionStyleModel",
            "_view_count": null,
            "_view_module": "@jupyter-widgets/base",
            "_view_module_version": "1.2.0",
            "_view_name": "StyleView",
            "description_width": ""
          }
        },
        "1019ad31e20343158c88fbe1879ba4c5": {
          "model_module": "@jupyter-widgets/controls",
          "model_module_version": "1.5.0",
          "model_name": "DescriptionStyleModel",
          "state": {
            "_model_module": "@jupyter-widgets/controls",
            "_model_module_version": "1.5.0",
            "_model_name": "DescriptionStyleModel",
            "_view_count": null,
            "_view_module": "@jupyter-widgets/base",
            "_view_module_version": "1.2.0",
            "_view_name": "StyleView",
            "description_width": ""
          }
        },
        "103475edee7f4a6f99495524d46c394b": {
          "model_module": "@jupyter-widgets/controls",
          "model_module_version": "1.5.0",
          "model_name": "DescriptionStyleModel",
          "state": {
            "_model_module": "@jupyter-widgets/controls",
            "_model_module_version": "1.5.0",
            "_model_name": "DescriptionStyleModel",
            "_view_count": null,
            "_view_module": "@jupyter-widgets/base",
            "_view_module_version": "1.2.0",
            "_view_name": "StyleView",
            "description_width": ""
          }
        },
        "14c9c706efa44c339239d6f927dd46ae": {
          "model_module": "@jupyter-widgets/controls",
          "model_module_version": "1.5.0",
          "model_name": "DescriptionStyleModel",
          "state": {
            "_model_module": "@jupyter-widgets/controls",
            "_model_module_version": "1.5.0",
            "_model_name": "DescriptionStyleModel",
            "_view_count": null,
            "_view_module": "@jupyter-widgets/base",
            "_view_module_version": "1.2.0",
            "_view_name": "StyleView",
            "description_width": ""
          }
        },
        "1577e87bd5a5465e9ee565dd31b57859": {
          "model_module": "@jupyter-widgets/controls",
          "model_module_version": "1.5.0",
          "model_name": "DescriptionStyleModel",
          "state": {
            "_model_module": "@jupyter-widgets/controls",
            "_model_module_version": "1.5.0",
            "_model_name": "DescriptionStyleModel",
            "_view_count": null,
            "_view_module": "@jupyter-widgets/base",
            "_view_module_version": "1.2.0",
            "_view_name": "StyleView",
            "description_width": ""
          }
        },
        "15f6f87abc5e4d82b524b780cdd2d0de": {
          "model_module": "@jupyter-widgets/base",
          "model_module_version": "1.2.0",
          "model_name": "LayoutModel",
          "state": {
            "_model_module": "@jupyter-widgets/base",
            "_model_module_version": "1.2.0",
            "_model_name": "LayoutModel",
            "_view_count": null,
            "_view_module": "@jupyter-widgets/base",
            "_view_module_version": "1.2.0",
            "_view_name": "LayoutView",
            "align_content": null,
            "align_items": null,
            "align_self": null,
            "border": null,
            "bottom": null,
            "display": null,
            "flex": null,
            "flex_flow": null,
            "grid_area": null,
            "grid_auto_columns": null,
            "grid_auto_flow": null,
            "grid_auto_rows": null,
            "grid_column": null,
            "grid_gap": null,
            "grid_row": null,
            "grid_template_areas": null,
            "grid_template_columns": null,
            "grid_template_rows": null,
            "height": null,
            "justify_content": null,
            "justify_items": null,
            "left": null,
            "margin": null,
            "max_height": null,
            "max_width": null,
            "min_height": null,
            "min_width": null,
            "object_fit": null,
            "object_position": null,
            "order": null,
            "overflow": null,
            "overflow_x": null,
            "overflow_y": null,
            "padding": null,
            "right": null,
            "top": null,
            "visibility": null,
            "width": null
          }
        },
        "174d89f4d86044b28f5ad0a0f5ea368d": {
          "model_module": "@jupyter-widgets/base",
          "model_module_version": "1.2.0",
          "model_name": "LayoutModel",
          "state": {
            "_model_module": "@jupyter-widgets/base",
            "_model_module_version": "1.2.0",
            "_model_name": "LayoutModel",
            "_view_count": null,
            "_view_module": "@jupyter-widgets/base",
            "_view_module_version": "1.2.0",
            "_view_name": "LayoutView",
            "align_content": null,
            "align_items": null,
            "align_self": null,
            "border": null,
            "bottom": null,
            "display": null,
            "flex": null,
            "flex_flow": null,
            "grid_area": null,
            "grid_auto_columns": null,
            "grid_auto_flow": null,
            "grid_auto_rows": null,
            "grid_column": null,
            "grid_gap": null,
            "grid_row": null,
            "grid_template_areas": null,
            "grid_template_columns": null,
            "grid_template_rows": null,
            "height": null,
            "justify_content": null,
            "justify_items": null,
            "left": null,
            "margin": null,
            "max_height": null,
            "max_width": null,
            "min_height": null,
            "min_width": null,
            "object_fit": null,
            "object_position": null,
            "order": null,
            "overflow": null,
            "overflow_x": null,
            "overflow_y": null,
            "padding": null,
            "right": null,
            "top": null,
            "visibility": null,
            "width": null
          }
        },
        "1b0bc5a9cd0445be963b416df1baa62a": {
          "model_module": "@jupyter-widgets/controls",
          "model_module_version": "1.5.0",
          "model_name": "ProgressStyleModel",
          "state": {
            "_model_module": "@jupyter-widgets/controls",
            "_model_module_version": "1.5.0",
            "_model_name": "ProgressStyleModel",
            "_view_count": null,
            "_view_module": "@jupyter-widgets/base",
            "_view_module_version": "1.2.0",
            "_view_name": "StyleView",
            "bar_color": null,
            "description_width": ""
          }
        },
        "1bdc169e038d46098f2c6ac8bf429aac": {
          "model_module": "@jupyter-widgets/base",
          "model_module_version": "1.2.0",
          "model_name": "LayoutModel",
          "state": {
            "_model_module": "@jupyter-widgets/base",
            "_model_module_version": "1.2.0",
            "_model_name": "LayoutModel",
            "_view_count": null,
            "_view_module": "@jupyter-widgets/base",
            "_view_module_version": "1.2.0",
            "_view_name": "LayoutView",
            "align_content": null,
            "align_items": null,
            "align_self": null,
            "border": null,
            "bottom": null,
            "display": null,
            "flex": null,
            "flex_flow": null,
            "grid_area": null,
            "grid_auto_columns": null,
            "grid_auto_flow": null,
            "grid_auto_rows": null,
            "grid_column": null,
            "grid_gap": null,
            "grid_row": null,
            "grid_template_areas": null,
            "grid_template_columns": null,
            "grid_template_rows": null,
            "height": null,
            "justify_content": null,
            "justify_items": null,
            "left": null,
            "margin": null,
            "max_height": null,
            "max_width": null,
            "min_height": null,
            "min_width": null,
            "object_fit": null,
            "object_position": null,
            "order": null,
            "overflow": null,
            "overflow_x": null,
            "overflow_y": null,
            "padding": null,
            "right": null,
            "top": null,
            "visibility": null,
            "width": null
          }
        },
        "1e8018451fd54918b48e02d8f71aa777": {
          "model_module": "@jupyter-widgets/controls",
          "model_module_version": "1.5.0",
          "model_name": "FloatProgressModel",
          "state": {
            "_dom_classes": [],
            "_model_module": "@jupyter-widgets/controls",
            "_model_module_version": "1.5.0",
            "_model_name": "FloatProgressModel",
            "_view_count": null,
            "_view_module": "@jupyter-widgets/controls",
            "_view_module_version": "1.5.0",
            "_view_name": "ProgressView",
            "bar_style": "",
            "description": "",
            "description_tooltip": null,
            "layout": "IPY_MODEL_46ad58dec57147d9aa06be5001e94015",
            "max": 5000,
            "min": 0,
            "orientation": "horizontal",
            "style": "IPY_MODEL_4a07c29f0d4e412389abf75069ec2cbf",
            "value": 5000
          }
        },
        "1f6ebde85fc2460485b452d79ee213e4": {
          "model_module": "@jupyter-widgets/controls",
          "model_module_version": "1.5.0",
          "model_name": "HTMLModel",
          "state": {
            "_dom_classes": [],
            "_model_module": "@jupyter-widgets/controls",
            "_model_module_version": "1.5.0",
            "_model_name": "HTMLModel",
            "_view_count": null,
            "_view_module": "@jupyter-widgets/controls",
            "_view_module_version": "1.5.0",
            "_view_name": "HTMLView",
            "description": "",
            "description_tooltip": null,
            "layout": "IPY_MODEL_44ee4ab0b67d4775b4d66a752f6b3a39",
            "placeholder": "​",
            "style": "IPY_MODEL_2665a8a3b5fb48e6bd7f98b1c7b7918a",
            "value": "Downloading builder script: 100%"
          }
        },
        "1ff16c97b67b42c0a1d2ab77cd4b50f5": {
          "model_module": "@jupyter-widgets/controls",
          "model_module_version": "1.5.0",
          "model_name": "HTMLModel",
          "state": {
            "_dom_classes": [],
            "_model_module": "@jupyter-widgets/controls",
            "_model_module_version": "1.5.0",
            "_model_name": "HTMLModel",
            "_view_count": null,
            "_view_module": "@jupyter-widgets/controls",
            "_view_module_version": "1.5.0",
            "_view_name": "HTMLView",
            "description": "",
            "description_tooltip": null,
            "layout": "IPY_MODEL_fea7ca2ab7254ff698925926617f3140",
            "placeholder": "​",
            "style": "IPY_MODEL_bf30de4bca564e0c8f8b4c5eba87e2fd",
            "value": "Downloading (…)/main/tokenizer.json: 100%"
          }
        },
        "20e2517f1c604e2d88800923ab320dbf": {
          "model_module": "@jupyter-widgets/controls",
          "model_module_version": "1.5.0",
          "model_name": "DescriptionStyleModel",
          "state": {
            "_model_module": "@jupyter-widgets/controls",
            "_model_module_version": "1.5.0",
            "_model_name": "DescriptionStyleModel",
            "_view_count": null,
            "_view_module": "@jupyter-widgets/base",
            "_view_module_version": "1.2.0",
            "_view_name": "StyleView",
            "description_width": ""
          }
        },
        "2537671bbb4c425faf01e65f5ddcf83a": {
          "model_module": "@jupyter-widgets/base",
          "model_module_version": "1.2.0",
          "model_name": "LayoutModel",
          "state": {
            "_model_module": "@jupyter-widgets/base",
            "_model_module_version": "1.2.0",
            "_model_name": "LayoutModel",
            "_view_count": null,
            "_view_module": "@jupyter-widgets/base",
            "_view_module_version": "1.2.0",
            "_view_name": "LayoutView",
            "align_content": null,
            "align_items": null,
            "align_self": null,
            "border": null,
            "bottom": null,
            "display": null,
            "flex": null,
            "flex_flow": null,
            "grid_area": null,
            "grid_auto_columns": null,
            "grid_auto_flow": null,
            "grid_auto_rows": null,
            "grid_column": null,
            "grid_gap": null,
            "grid_row": null,
            "grid_template_areas": null,
            "grid_template_columns": null,
            "grid_template_rows": null,
            "height": null,
            "justify_content": null,
            "justify_items": null,
            "left": null,
            "margin": null,
            "max_height": null,
            "max_width": null,
            "min_height": null,
            "min_width": null,
            "object_fit": null,
            "object_position": null,
            "order": null,
            "overflow": null,
            "overflow_x": null,
            "overflow_y": null,
            "padding": null,
            "right": null,
            "top": null,
            "visibility": null,
            "width": null
          }
        },
        "2568fb614f804088909053e6d35ea5b5": {
          "model_module": "@jupyter-widgets/controls",
          "model_module_version": "1.5.0",
          "model_name": "HTMLModel",
          "state": {
            "_dom_classes": [],
            "_model_module": "@jupyter-widgets/controls",
            "_model_module_version": "1.5.0",
            "_model_name": "HTMLModel",
            "_view_count": null,
            "_view_module": "@jupyter-widgets/controls",
            "_view_module_version": "1.5.0",
            "_view_name": "HTMLView",
            "description": "",
            "description_tooltip": null,
            "layout": "IPY_MODEL_ef494d7929c44bdcb0eff1838116048f",
            "placeholder": "​",
            "style": "IPY_MODEL_d10c2859d1e145c289e3dd1298112c7d",
            "value": " 398M/398M [00:11&lt;00:00, 46.3MB/s]"
          }
        },
        "2665a8a3b5fb48e6bd7f98b1c7b7918a": {
          "model_module": "@jupyter-widgets/controls",
          "model_module_version": "1.5.0",
          "model_name": "DescriptionStyleModel",
          "state": {
            "_model_module": "@jupyter-widgets/controls",
            "_model_module_version": "1.5.0",
            "_model_name": "DescriptionStyleModel",
            "_view_count": null,
            "_view_module": "@jupyter-widgets/base",
            "_view_module_version": "1.2.0",
            "_view_name": "StyleView",
            "description_width": ""
          }
        },
        "2749d2378f304f2a92a492ef9d2ceddc": {
          "model_module": "@jupyter-widgets/base",
          "model_module_version": "1.2.0",
          "model_name": "LayoutModel",
          "state": {
            "_model_module": "@jupyter-widgets/base",
            "_model_module_version": "1.2.0",
            "_model_name": "LayoutModel",
            "_view_count": null,
            "_view_module": "@jupyter-widgets/base",
            "_view_module_version": "1.2.0",
            "_view_name": "LayoutView",
            "align_content": null,
            "align_items": null,
            "align_self": null,
            "border": null,
            "bottom": null,
            "display": null,
            "flex": null,
            "flex_flow": null,
            "grid_area": null,
            "grid_auto_columns": null,
            "grid_auto_flow": null,
            "grid_auto_rows": null,
            "grid_column": null,
            "grid_gap": null,
            "grid_row": null,
            "grid_template_areas": null,
            "grid_template_columns": null,
            "grid_template_rows": null,
            "height": null,
            "justify_content": null,
            "justify_items": null,
            "left": null,
            "margin": null,
            "max_height": null,
            "max_width": null,
            "min_height": null,
            "min_width": null,
            "object_fit": null,
            "object_position": null,
            "order": null,
            "overflow": null,
            "overflow_x": null,
            "overflow_y": null,
            "padding": null,
            "right": null,
            "top": null,
            "visibility": null,
            "width": null
          }
        },
        "29879ad1ea064ca09720accf4b97a71c": {
          "model_module": "@jupyter-widgets/base",
          "model_module_version": "1.2.0",
          "model_name": "LayoutModel",
          "state": {
            "_model_module": "@jupyter-widgets/base",
            "_model_module_version": "1.2.0",
            "_model_name": "LayoutModel",
            "_view_count": null,
            "_view_module": "@jupyter-widgets/base",
            "_view_module_version": "1.2.0",
            "_view_name": "LayoutView",
            "align_content": null,
            "align_items": null,
            "align_self": null,
            "border": null,
            "bottom": null,
            "display": null,
            "flex": null,
            "flex_flow": null,
            "grid_area": null,
            "grid_auto_columns": null,
            "grid_auto_flow": null,
            "grid_auto_rows": null,
            "grid_column": null,
            "grid_gap": null,
            "grid_row": null,
            "grid_template_areas": null,
            "grid_template_columns": null,
            "grid_template_rows": null,
            "height": null,
            "justify_content": null,
            "justify_items": null,
            "left": null,
            "margin": null,
            "max_height": null,
            "max_width": null,
            "min_height": null,
            "min_width": null,
            "object_fit": null,
            "object_position": null,
            "order": null,
            "overflow": null,
            "overflow_x": null,
            "overflow_y": null,
            "padding": null,
            "right": null,
            "top": null,
            "visibility": null,
            "width": null
          }
        },
        "2a220df9c306493ba70fd36f78f7985c": {
          "model_module": "@jupyter-widgets/base",
          "model_module_version": "1.2.0",
          "model_name": "LayoutModel",
          "state": {
            "_model_module": "@jupyter-widgets/base",
            "_model_module_version": "1.2.0",
            "_model_name": "LayoutModel",
            "_view_count": null,
            "_view_module": "@jupyter-widgets/base",
            "_view_module_version": "1.2.0",
            "_view_name": "LayoutView",
            "align_content": null,
            "align_items": null,
            "align_self": null,
            "border": null,
            "bottom": null,
            "display": null,
            "flex": null,
            "flex_flow": null,
            "grid_area": null,
            "grid_auto_columns": null,
            "grid_auto_flow": null,
            "grid_auto_rows": null,
            "grid_column": null,
            "grid_gap": null,
            "grid_row": null,
            "grid_template_areas": null,
            "grid_template_columns": null,
            "grid_template_rows": null,
            "height": null,
            "justify_content": null,
            "justify_items": null,
            "left": null,
            "margin": null,
            "max_height": null,
            "max_width": null,
            "min_height": null,
            "min_width": null,
            "object_fit": null,
            "object_position": null,
            "order": null,
            "overflow": null,
            "overflow_x": null,
            "overflow_y": null,
            "padding": null,
            "right": null,
            "top": null,
            "visibility": null,
            "width": null
          }
        },
        "2a5273963b254cd0beacb1a45a3d108e": {
          "model_module": "@jupyter-widgets/controls",
          "model_module_version": "1.5.0",
          "model_name": "HTMLModel",
          "state": {
            "_dom_classes": [],
            "_model_module": "@jupyter-widgets/controls",
            "_model_module_version": "1.5.0",
            "_model_name": "HTMLModel",
            "_view_count": null,
            "_view_module": "@jupyter-widgets/controls",
            "_view_module_version": "1.5.0",
            "_view_name": "HTMLView",
            "description": "",
            "description_tooltip": null,
            "layout": "IPY_MODEL_7ab968530bc24e258e0d32fbbe94580a",
            "placeholder": "​",
            "style": "IPY_MODEL_e4100fb0dcf74ebdb301e0a203402a27",
            "value": " 13.7k/13.7k [00:00&lt;00:00, 559kB/s]"
          }
        },
        "2a626a511f244f8296d6d801946fd984": {
          "model_module": "@jupyter-widgets/controls",
          "model_module_version": "1.5.0",
          "model_name": "HTMLModel",
          "state": {
            "_dom_classes": [],
            "_model_module": "@jupyter-widgets/controls",
            "_model_module_version": "1.5.0",
            "_model_name": "HTMLModel",
            "_view_count": null,
            "_view_module": "@jupyter-widgets/controls",
            "_view_module_version": "1.5.0",
            "_view_name": "HTMLView",
            "description": "",
            "description_tooltip": null,
            "layout": "IPY_MODEL_78e9203d04cc4057a96aa8c22cac0529",
            "placeholder": "​",
            "style": "IPY_MODEL_14c9c706efa44c339239d6f927dd46ae",
            "value": " 440M/440M [00:04&lt;00:00, 136MB/s]"
          }
        },
        "2d32a8dbe5314a949e27fdeaaa87812a": {
          "model_module": "@jupyter-widgets/controls",
          "model_module_version": "1.5.0",
          "model_name": "HBoxModel",
          "state": {
            "_dom_classes": [],
            "_model_module": "@jupyter-widgets/controls",
            "_model_module_version": "1.5.0",
            "_model_name": "HBoxModel",
            "_view_count": null,
            "_view_module": "@jupyter-widgets/controls",
            "_view_module_version": "1.5.0",
            "_view_name": "HBoxView",
            "box_style": "",
            "children": [
              "IPY_MODEL_9bbc297aff354943adde02b8f382489b",
              "IPY_MODEL_1e8018451fd54918b48e02d8f71aa777",
              "IPY_MODEL_3aa11a53ea194db3985d28c2a64b3af8"
            ],
            "layout": "IPY_MODEL_45546eaa15234094a09cfe2b079c7f2c"
          }
        },
        "2d702096f8fe46adbd1f770167347bc9": {
          "model_module": "@jupyter-widgets/controls",
          "model_module_version": "1.5.0",
          "model_name": "HBoxModel",
          "state": {
            "_dom_classes": [],
            "_model_module": "@jupyter-widgets/controls",
            "_model_module_version": "1.5.0",
            "_model_name": "HBoxModel",
            "_view_count": null,
            "_view_module": "@jupyter-widgets/controls",
            "_view_module_version": "1.5.0",
            "_view_name": "HBoxView",
            "box_style": "",
            "children": [
              "IPY_MODEL_5ef468f6b0694a5cb901961f809fc653",
              "IPY_MODEL_dd888482e5fb4101a2a7e2f195846dc7",
              "IPY_MODEL_cc3befcec1a04483830f6467c9719d87"
            ],
            "layout": "IPY_MODEL_fab19bce87904de29b76bf6d1fdac918"
          }
        },
        "2e4206a9aa2241b4a2d725efcab9997d": {
          "model_module": "@jupyter-widgets/base",
          "model_module_version": "1.2.0",
          "model_name": "LayoutModel",
          "state": {
            "_model_module": "@jupyter-widgets/base",
            "_model_module_version": "1.2.0",
            "_model_name": "LayoutModel",
            "_view_count": null,
            "_view_module": "@jupyter-widgets/base",
            "_view_module_version": "1.2.0",
            "_view_name": "LayoutView",
            "align_content": null,
            "align_items": null,
            "align_self": null,
            "border": null,
            "bottom": null,
            "display": null,
            "flex": null,
            "flex_flow": null,
            "grid_area": null,
            "grid_auto_columns": null,
            "grid_auto_flow": null,
            "grid_auto_rows": null,
            "grid_column": null,
            "grid_gap": null,
            "grid_row": null,
            "grid_template_areas": null,
            "grid_template_columns": null,
            "grid_template_rows": null,
            "height": null,
            "justify_content": null,
            "justify_items": null,
            "left": null,
            "margin": null,
            "max_height": null,
            "max_width": null,
            "min_height": null,
            "min_width": null,
            "object_fit": null,
            "object_position": null,
            "order": null,
            "overflow": null,
            "overflow_x": null,
            "overflow_y": null,
            "padding": null,
            "right": null,
            "top": null,
            "visibility": null,
            "width": null
          }
        },
        "2eddbc8299044d9495340fe7bdc719c0": {
          "model_module": "@jupyter-widgets/controls",
          "model_module_version": "1.5.0",
          "model_name": "ProgressStyleModel",
          "state": {
            "_model_module": "@jupyter-widgets/controls",
            "_model_module_version": "1.5.0",
            "_model_name": "ProgressStyleModel",
            "_view_count": null,
            "_view_module": "@jupyter-widgets/base",
            "_view_module_version": "1.2.0",
            "_view_name": "StyleView",
            "bar_color": null,
            "description_width": ""
          }
        },
        "2fc7d516e3724cf189741d01adc9ae1f": {
          "model_module": "@jupyter-widgets/controls",
          "model_module_version": "1.5.0",
          "model_name": "HBoxModel",
          "state": {
            "_dom_classes": [],
            "_model_module": "@jupyter-widgets/controls",
            "_model_module_version": "1.5.0",
            "_model_name": "HBoxModel",
            "_view_count": null,
            "_view_module": "@jupyter-widgets/controls",
            "_view_module_version": "1.5.0",
            "_view_name": "HBoxView",
            "box_style": "",
            "children": [
              "IPY_MODEL_1ff16c97b67b42c0a1d2ab77cd4b50f5",
              "IPY_MODEL_b744d427131444578c6429fc3a2cde61",
              "IPY_MODEL_ce85bc69cde34460879488642d641f15"
            ],
            "layout": "IPY_MODEL_908bfda487e245f1a7b71b6e5e7e3918"
          }
        },
        "36853e2a477a4cb795ca058b6b83745b": {
          "model_module": "@jupyter-widgets/controls",
          "model_module_version": "1.5.0",
          "model_name": "FloatProgressModel",
          "state": {
            "_dom_classes": [],
            "_model_module": "@jupyter-widgets/controls",
            "_model_module_version": "1.5.0",
            "_model_name": "FloatProgressModel",
            "_view_count": null,
            "_view_module": "@jupyter-widgets/controls",
            "_view_module_version": "1.5.0",
            "_view_name": "ProgressView",
            "bar_style": "success",
            "description": "",
            "description_tooltip": null,
            "layout": "IPY_MODEL_e2ef4746d4bd4a1099548196f3b7ab94",
            "max": 13671,
            "min": 0,
            "orientation": "horizontal",
            "style": "IPY_MODEL_0894ea98f461454a9185613b2c933dd1",
            "value": 13671
          }
        },
        "394bf1a63dcb421691e521e7d96ed4a7": {
          "model_module": "@jupyter-widgets/controls",
          "model_module_version": "1.5.0",
          "model_name": "DescriptionStyleModel",
          "state": {
            "_model_module": "@jupyter-widgets/controls",
            "_model_module_version": "1.5.0",
            "_model_name": "DescriptionStyleModel",
            "_view_count": null,
            "_view_module": "@jupyter-widgets/base",
            "_view_module_version": "1.2.0",
            "_view_name": "StyleView",
            "description_width": ""
          }
        },
        "3aa11a53ea194db3985d28c2a64b3af8": {
          "model_module": "@jupyter-widgets/controls",
          "model_module_version": "1.5.0",
          "model_name": "HTMLModel",
          "state": {
            "_dom_classes": [],
            "_model_module": "@jupyter-widgets/controls",
            "_model_module_version": "1.5.0",
            "_model_name": "HTMLModel",
            "_view_count": null,
            "_view_module": "@jupyter-widgets/controls",
            "_view_module_version": "1.5.0",
            "_view_name": "HTMLView",
            "description": "",
            "description_tooltip": null,
            "layout": "IPY_MODEL_bad327793d364d9cae0accc40fd47b30",
            "placeholder": "​",
            "style": "IPY_MODEL_de97cb27f02341efbb46fbb4b4de3898",
            "value": " 5000/5000 [00:02&lt;00:00, 1558.69 examples/s]"
          }
        },
        "3b6aeae2cbd848f4b7d9700ed04db6ee": {
          "model_module": "@jupyter-widgets/controls",
          "model_module_version": "1.5.0",
          "model_name": "ProgressStyleModel",
          "state": {
            "_model_module": "@jupyter-widgets/controls",
            "_model_module_version": "1.5.0",
            "_model_name": "ProgressStyleModel",
            "_view_count": null,
            "_view_module": "@jupyter-widgets/base",
            "_view_module_version": "1.2.0",
            "_view_name": "StyleView",
            "bar_color": null,
            "description_width": ""
          }
        },
        "3bc74fe2aec74cd8a5caab422583d393": {
          "model_module": "@jupyter-widgets/controls",
          "model_module_version": "1.5.0",
          "model_name": "HTMLModel",
          "state": {
            "_dom_classes": [],
            "_model_module": "@jupyter-widgets/controls",
            "_model_module_version": "1.5.0",
            "_model_name": "HTMLModel",
            "_view_count": null,
            "_view_module": "@jupyter-widgets/controls",
            "_view_module_version": "1.5.0",
            "_view_name": "HTMLView",
            "description": "",
            "description_tooltip": null,
            "layout": "IPY_MODEL_d4ad0ee2a0074ef5bb8ae9c9b51b4f06",
            "placeholder": "​",
            "style": "IPY_MODEL_98074af9e65b4f8f91545be10adef7de",
            "value": "Downloading (…)solve/main/vocab.txt: 100%"
          }
        },
        "3bf1f6d8563e47dd9f1c686a4c96489e": {
          "model_module": "@jupyter-widgets/base",
          "model_module_version": "1.2.0",
          "model_name": "LayoutModel",
          "state": {
            "_model_module": "@jupyter-widgets/base",
            "_model_module_version": "1.2.0",
            "_model_name": "LayoutModel",
            "_view_count": null,
            "_view_module": "@jupyter-widgets/base",
            "_view_module_version": "1.2.0",
            "_view_name": "LayoutView",
            "align_content": null,
            "align_items": null,
            "align_self": null,
            "border": null,
            "bottom": null,
            "display": null,
            "flex": null,
            "flex_flow": null,
            "grid_area": null,
            "grid_auto_columns": null,
            "grid_auto_flow": null,
            "grid_auto_rows": null,
            "grid_column": null,
            "grid_gap": null,
            "grid_row": null,
            "grid_template_areas": null,
            "grid_template_columns": null,
            "grid_template_rows": null,
            "height": null,
            "justify_content": null,
            "justify_items": null,
            "left": null,
            "margin": null,
            "max_height": null,
            "max_width": null,
            "min_height": null,
            "min_width": null,
            "object_fit": null,
            "object_position": null,
            "order": null,
            "overflow": null,
            "overflow_x": null,
            "overflow_y": null,
            "padding": null,
            "right": null,
            "top": null,
            "visibility": null,
            "width": null
          }
        },
        "4158512ba5454b57b440e2f75f7d7581": {
          "model_module": "@jupyter-widgets/controls",
          "model_module_version": "1.5.0",
          "model_name": "HTMLModel",
          "state": {
            "_dom_classes": [],
            "_model_module": "@jupyter-widgets/controls",
            "_model_module_version": "1.5.0",
            "_model_name": "HTMLModel",
            "_view_count": null,
            "_view_module": "@jupyter-widgets/controls",
            "_view_module_version": "1.5.0",
            "_view_name": "HTMLView",
            "description": "",
            "description_tooltip": null,
            "layout": "IPY_MODEL_51540318a9154b48a21eed3aa02e1c4b",
            "placeholder": "​",
            "style": "IPY_MODEL_ecbb9da9fa974346a0327e542225079f",
            "value": " 12.8k/12.8k [00:00&lt;00:00, 474kB/s]"
          }
        },
        "43e0dc26644941999a55022e98b9394c": {
          "model_module": "@jupyter-widgets/controls",
          "model_module_version": "1.5.0",
          "model_name": "HTMLModel",
          "state": {
            "_dom_classes": [],
            "_model_module": "@jupyter-widgets/controls",
            "_model_module_version": "1.5.0",
            "_model_name": "HTMLModel",
            "_view_count": null,
            "_view_module": "@jupyter-widgets/controls",
            "_view_module_version": "1.5.0",
            "_view_name": "HTMLView",
            "description": "",
            "description_tooltip": null,
            "layout": "IPY_MODEL_f995efcf6eac4203b674f42a81abe859",
            "placeholder": "​",
            "style": "IPY_MODEL_6d7ab76b1ea943ceb5ad4a7531042c93",
            "value": " 1814/1842 [00:00&lt;00:00, 1998.03 examples/s]"
          }
        },
        "44ee4ab0b67d4775b4d66a752f6b3a39": {
          "model_module": "@jupyter-widgets/base",
          "model_module_version": "1.2.0",
          "model_name": "LayoutModel",
          "state": {
            "_model_module": "@jupyter-widgets/base",
            "_model_module_version": "1.2.0",
            "_model_name": "LayoutModel",
            "_view_count": null,
            "_view_module": "@jupyter-widgets/base",
            "_view_module_version": "1.2.0",
            "_view_name": "LayoutView",
            "align_content": null,
            "align_items": null,
            "align_self": null,
            "border": null,
            "bottom": null,
            "display": null,
            "flex": null,
            "flex_flow": null,
            "grid_area": null,
            "grid_auto_columns": null,
            "grid_auto_flow": null,
            "grid_auto_rows": null,
            "grid_column": null,
            "grid_gap": null,
            "grid_row": null,
            "grid_template_areas": null,
            "grid_template_columns": null,
            "grid_template_rows": null,
            "height": null,
            "justify_content": null,
            "justify_items": null,
            "left": null,
            "margin": null,
            "max_height": null,
            "max_width": null,
            "min_height": null,
            "min_width": null,
            "object_fit": null,
            "object_position": null,
            "order": null,
            "overflow": null,
            "overflow_x": null,
            "overflow_y": null,
            "padding": null,
            "right": null,
            "top": null,
            "visibility": null,
            "width": null
          }
        },
        "45546eaa15234094a09cfe2b079c7f2c": {
          "model_module": "@jupyter-widgets/base",
          "model_module_version": "1.2.0",
          "model_name": "LayoutModel",
          "state": {
            "_model_module": "@jupyter-widgets/base",
            "_model_module_version": "1.2.0",
            "_model_name": "LayoutModel",
            "_view_count": null,
            "_view_module": "@jupyter-widgets/base",
            "_view_module_version": "1.2.0",
            "_view_name": "LayoutView",
            "align_content": null,
            "align_items": null,
            "align_self": null,
            "border": null,
            "bottom": null,
            "display": null,
            "flex": null,
            "flex_flow": null,
            "grid_area": null,
            "grid_auto_columns": null,
            "grid_auto_flow": null,
            "grid_auto_rows": null,
            "grid_column": null,
            "grid_gap": null,
            "grid_row": null,
            "grid_template_areas": null,
            "grid_template_columns": null,
            "grid_template_rows": null,
            "height": null,
            "justify_content": null,
            "justify_items": null,
            "left": null,
            "margin": null,
            "max_height": null,
            "max_width": null,
            "min_height": null,
            "min_width": null,
            "object_fit": null,
            "object_position": null,
            "order": null,
            "overflow": null,
            "overflow_x": null,
            "overflow_y": null,
            "padding": null,
            "right": null,
            "top": null,
            "visibility": "hidden",
            "width": null
          }
        },
        "46ad58dec57147d9aa06be5001e94015": {
          "model_module": "@jupyter-widgets/base",
          "model_module_version": "1.2.0",
          "model_name": "LayoutModel",
          "state": {
            "_model_module": "@jupyter-widgets/base",
            "_model_module_version": "1.2.0",
            "_model_name": "LayoutModel",
            "_view_count": null,
            "_view_module": "@jupyter-widgets/base",
            "_view_module_version": "1.2.0",
            "_view_name": "LayoutView",
            "align_content": null,
            "align_items": null,
            "align_self": null,
            "border": null,
            "bottom": null,
            "display": null,
            "flex": null,
            "flex_flow": null,
            "grid_area": null,
            "grid_auto_columns": null,
            "grid_auto_flow": null,
            "grid_auto_rows": null,
            "grid_column": null,
            "grid_gap": null,
            "grid_row": null,
            "grid_template_areas": null,
            "grid_template_columns": null,
            "grid_template_rows": null,
            "height": null,
            "justify_content": null,
            "justify_items": null,
            "left": null,
            "margin": null,
            "max_height": null,
            "max_width": null,
            "min_height": null,
            "min_width": null,
            "object_fit": null,
            "object_position": null,
            "order": null,
            "overflow": null,
            "overflow_x": null,
            "overflow_y": null,
            "padding": null,
            "right": null,
            "top": null,
            "visibility": null,
            "width": null
          }
        },
        "4a07c29f0d4e412389abf75069ec2cbf": {
          "model_module": "@jupyter-widgets/controls",
          "model_module_version": "1.5.0",
          "model_name": "ProgressStyleModel",
          "state": {
            "_model_module": "@jupyter-widgets/controls",
            "_model_module_version": "1.5.0",
            "_model_name": "ProgressStyleModel",
            "_view_count": null,
            "_view_module": "@jupyter-widgets/base",
            "_view_module_version": "1.2.0",
            "_view_name": "StyleView",
            "bar_color": null,
            "description_width": ""
          }
        },
        "4d0d9554d9d3462bac0cc5885f27a6b9": {
          "model_module": "@jupyter-widgets/base",
          "model_module_version": "1.2.0",
          "model_name": "LayoutModel",
          "state": {
            "_model_module": "@jupyter-widgets/base",
            "_model_module_version": "1.2.0",
            "_model_name": "LayoutModel",
            "_view_count": null,
            "_view_module": "@jupyter-widgets/base",
            "_view_module_version": "1.2.0",
            "_view_name": "LayoutView",
            "align_content": null,
            "align_items": null,
            "align_self": null,
            "border": null,
            "bottom": null,
            "display": null,
            "flex": null,
            "flex_flow": null,
            "grid_area": null,
            "grid_auto_columns": null,
            "grid_auto_flow": null,
            "grid_auto_rows": null,
            "grid_column": null,
            "grid_gap": null,
            "grid_row": null,
            "grid_template_areas": null,
            "grid_template_columns": null,
            "grid_template_rows": null,
            "height": null,
            "justify_content": null,
            "justify_items": null,
            "left": null,
            "margin": null,
            "max_height": null,
            "max_width": null,
            "min_height": null,
            "min_width": null,
            "object_fit": null,
            "object_position": null,
            "order": null,
            "overflow": null,
            "overflow_x": null,
            "overflow_y": null,
            "padding": null,
            "right": null,
            "top": null,
            "visibility": null,
            "width": null
          }
        },
        "4e525c35aca948a981bf700ab2b072ac": {
          "model_module": "@jupyter-widgets/controls",
          "model_module_version": "1.5.0",
          "model_name": "FloatProgressModel",
          "state": {
            "_dom_classes": [],
            "_model_module": "@jupyter-widgets/controls",
            "_model_module_version": "1.5.0",
            "_model_name": "FloatProgressModel",
            "_view_count": null,
            "_view_module": "@jupyter-widgets/controls",
            "_view_module_version": "1.5.0",
            "_view_name": "ProgressView",
            "bar_style": "success",
            "description": "",
            "description_tooltip": null,
            "layout": "IPY_MODEL_174d89f4d86044b28f5ad0a0f5ea368d",
            "max": 570,
            "min": 0,
            "orientation": "horizontal",
            "style": "IPY_MODEL_d2baa20a237b414caa6216a920f41eed",
            "value": 570
          }
        },
        "5006db79f218476691b090792c7b627c": {
          "model_module": "@jupyter-widgets/controls",
          "model_module_version": "1.5.0",
          "model_name": "DescriptionStyleModel",
          "state": {
            "_model_module": "@jupyter-widgets/controls",
            "_model_module_version": "1.5.0",
            "_model_name": "DescriptionStyleModel",
            "_view_count": null,
            "_view_module": "@jupyter-widgets/base",
            "_view_module_version": "1.2.0",
            "_view_name": "StyleView",
            "description_width": ""
          }
        },
        "51540318a9154b48a21eed3aa02e1c4b": {
          "model_module": "@jupyter-widgets/base",
          "model_module_version": "1.2.0",
          "model_name": "LayoutModel",
          "state": {
            "_model_module": "@jupyter-widgets/base",
            "_model_module_version": "1.2.0",
            "_model_name": "LayoutModel",
            "_view_count": null,
            "_view_module": "@jupyter-widgets/base",
            "_view_module_version": "1.2.0",
            "_view_name": "LayoutView",
            "align_content": null,
            "align_items": null,
            "align_self": null,
            "border": null,
            "bottom": null,
            "display": null,
            "flex": null,
            "flex_flow": null,
            "grid_area": null,
            "grid_auto_columns": null,
            "grid_auto_flow": null,
            "grid_auto_rows": null,
            "grid_column": null,
            "grid_gap": null,
            "grid_row": null,
            "grid_template_areas": null,
            "grid_template_columns": null,
            "grid_template_rows": null,
            "height": null,
            "justify_content": null,
            "justify_items": null,
            "left": null,
            "margin": null,
            "max_height": null,
            "max_width": null,
            "min_height": null,
            "min_width": null,
            "object_fit": null,
            "object_position": null,
            "order": null,
            "overflow": null,
            "overflow_x": null,
            "overflow_y": null,
            "padding": null,
            "right": null,
            "top": null,
            "visibility": null,
            "width": null
          }
        },
        "53dd0bdb3e9548f2b820835abdb62581": {
          "model_module": "@jupyter-widgets/controls",
          "model_module_version": "1.5.0",
          "model_name": "DescriptionStyleModel",
          "state": {
            "_model_module": "@jupyter-widgets/controls",
            "_model_module_version": "1.5.0",
            "_model_name": "DescriptionStyleModel",
            "_view_count": null,
            "_view_module": "@jupyter-widgets/base",
            "_view_module_version": "1.2.0",
            "_view_name": "StyleView",
            "description_width": ""
          }
        },
        "547e9c55fb8a4a019df64eb545ada86a": {
          "model_module": "@jupyter-widgets/controls",
          "model_module_version": "1.5.0",
          "model_name": "HTMLModel",
          "state": {
            "_dom_classes": [],
            "_model_module": "@jupyter-widgets/controls",
            "_model_module_version": "1.5.0",
            "_model_name": "HTMLModel",
            "_view_count": null,
            "_view_module": "@jupyter-widgets/controls",
            "_view_module_version": "1.5.0",
            "_view_name": "HTMLView",
            "description": "",
            "description_tooltip": null,
            "layout": "IPY_MODEL_3bf1f6d8563e47dd9f1c686a4c96489e",
            "placeholder": "​",
            "style": "IPY_MODEL_6e457a30ebe94989bdfe2c0b06f75efd",
            "value": " 28.0/28.0 [00:00&lt;00:00, 496B/s]"
          }
        },
        "582c22433ee54ab6a286a6612e829d02": {
          "model_module": "@jupyter-widgets/controls",
          "model_module_version": "1.5.0",
          "model_name": "HBoxModel",
          "state": {
            "_dom_classes": [],
            "_model_module": "@jupyter-widgets/controls",
            "_model_module_version": "1.5.0",
            "_model_name": "HBoxModel",
            "_view_count": null,
            "_view_module": "@jupyter-widgets/controls",
            "_view_module_version": "1.5.0",
            "_view_name": "HBoxView",
            "box_style": "",
            "children": [
              "IPY_MODEL_eb41e085b4ef4485a8da598250bfef5c",
              "IPY_MODEL_70cfa59a44a54fd084f2edf47785d9d2",
              "IPY_MODEL_2568fb614f804088909053e6d35ea5b5"
            ],
            "layout": "IPY_MODEL_e89bacb48fc84ef4810b94f79ddf2184"
          }
        },
        "58cef7b8da0049dc900d7a82567ee063": {
          "model_module": "@jupyter-widgets/base",
          "model_module_version": "1.2.0",
          "model_name": "LayoutModel",
          "state": {
            "_model_module": "@jupyter-widgets/base",
            "_model_module_version": "1.2.0",
            "_model_name": "LayoutModel",
            "_view_count": null,
            "_view_module": "@jupyter-widgets/base",
            "_view_module_version": "1.2.0",
            "_view_name": "LayoutView",
            "align_content": null,
            "align_items": null,
            "align_self": null,
            "border": null,
            "bottom": null,
            "display": null,
            "flex": null,
            "flex_flow": null,
            "grid_area": null,
            "grid_auto_columns": null,
            "grid_auto_flow": null,
            "grid_auto_rows": null,
            "grid_column": null,
            "grid_gap": null,
            "grid_row": null,
            "grid_template_areas": null,
            "grid_template_columns": null,
            "grid_template_rows": null,
            "height": null,
            "justify_content": null,
            "justify_items": null,
            "left": null,
            "margin": null,
            "max_height": null,
            "max_width": null,
            "min_height": null,
            "min_width": null,
            "object_fit": null,
            "object_position": null,
            "order": null,
            "overflow": null,
            "overflow_x": null,
            "overflow_y": null,
            "padding": null,
            "right": null,
            "top": null,
            "visibility": null,
            "width": null
          }
        },
        "5b36d448818d4f4787181a2ba9f3f468": {
          "model_module": "@jupyter-widgets/base",
          "model_module_version": "1.2.0",
          "model_name": "LayoutModel",
          "state": {
            "_model_module": "@jupyter-widgets/base",
            "_model_module_version": "1.2.0",
            "_model_name": "LayoutModel",
            "_view_count": null,
            "_view_module": "@jupyter-widgets/base",
            "_view_module_version": "1.2.0",
            "_view_name": "LayoutView",
            "align_content": null,
            "align_items": null,
            "align_self": null,
            "border": null,
            "bottom": null,
            "display": null,
            "flex": null,
            "flex_flow": null,
            "grid_area": null,
            "grid_auto_columns": null,
            "grid_auto_flow": null,
            "grid_auto_rows": null,
            "grid_column": null,
            "grid_gap": null,
            "grid_row": null,
            "grid_template_areas": null,
            "grid_template_columns": null,
            "grid_template_rows": null,
            "height": null,
            "justify_content": null,
            "justify_items": null,
            "left": null,
            "margin": null,
            "max_height": null,
            "max_width": null,
            "min_height": null,
            "min_width": null,
            "object_fit": null,
            "object_position": null,
            "order": null,
            "overflow": null,
            "overflow_x": null,
            "overflow_y": null,
            "padding": null,
            "right": null,
            "top": null,
            "visibility": null,
            "width": null
          }
        },
        "5cf47d0e04c24c2ab7416a2a724ec847": {
          "model_module": "@jupyter-widgets/controls",
          "model_module_version": "1.5.0",
          "model_name": "HBoxModel",
          "state": {
            "_dom_classes": [],
            "_model_module": "@jupyter-widgets/controls",
            "_model_module_version": "1.5.0",
            "_model_name": "HBoxModel",
            "_view_count": null,
            "_view_module": "@jupyter-widgets/controls",
            "_view_module_version": "1.5.0",
            "_view_name": "HBoxView",
            "box_style": "",
            "children": [
              "IPY_MODEL_ad2c5f057ce342359b836ae4f3828ca9",
              "IPY_MODEL_cf79841fbdab4dbc988faae1f22cbbcb",
              "IPY_MODEL_00e65c506919436aafa54f2b04ae03eb"
            ],
            "layout": "IPY_MODEL_2e4206a9aa2241b4a2d725efcab9997d"
          }
        },
        "5e55f06af143497098f08b4550fc4d12": {
          "model_module": "@jupyter-widgets/base",
          "model_module_version": "1.2.0",
          "model_name": "LayoutModel",
          "state": {
            "_model_module": "@jupyter-widgets/base",
            "_model_module_version": "1.2.0",
            "_model_name": "LayoutModel",
            "_view_count": null,
            "_view_module": "@jupyter-widgets/base",
            "_view_module_version": "1.2.0",
            "_view_name": "LayoutView",
            "align_content": null,
            "align_items": null,
            "align_self": null,
            "border": null,
            "bottom": null,
            "display": null,
            "flex": null,
            "flex_flow": null,
            "grid_area": null,
            "grid_auto_columns": null,
            "grid_auto_flow": null,
            "grid_auto_rows": null,
            "grid_column": null,
            "grid_gap": null,
            "grid_row": null,
            "grid_template_areas": null,
            "grid_template_columns": null,
            "grid_template_rows": null,
            "height": null,
            "justify_content": null,
            "justify_items": null,
            "left": null,
            "margin": null,
            "max_height": null,
            "max_width": null,
            "min_height": null,
            "min_width": null,
            "object_fit": null,
            "object_position": null,
            "order": null,
            "overflow": null,
            "overflow_x": null,
            "overflow_y": null,
            "padding": null,
            "right": null,
            "top": null,
            "visibility": "hidden",
            "width": null
          }
        },
        "5ef468f6b0694a5cb901961f809fc653": {
          "model_module": "@jupyter-widgets/controls",
          "model_module_version": "1.5.0",
          "model_name": "HTMLModel",
          "state": {
            "_dom_classes": [],
            "_model_module": "@jupyter-widgets/controls",
            "_model_module_version": "1.5.0",
            "_model_name": "HTMLModel",
            "_view_count": null,
            "_view_module": "@jupyter-widgets/controls",
            "_view_module_version": "1.5.0",
            "_view_name": "HTMLView",
            "description": "",
            "description_tooltip": null,
            "layout": "IPY_MODEL_4d0d9554d9d3462bac0cc5885f27a6b9",
            "placeholder": "​",
            "style": "IPY_MODEL_73cf775c36914a55b5fcd02b2d6eb078",
            "value": "Downloading readme: 100%"
          }
        },
        "611f7af3f9e84ebfb11a3f15512df989": {
          "model_module": "@jupyter-widgets/controls",
          "model_module_version": "1.5.0",
          "model_name": "FloatProgressModel",
          "state": {
            "_dom_classes": [],
            "_model_module": "@jupyter-widgets/controls",
            "_model_module_version": "1.5.0",
            "_model_name": "FloatProgressModel",
            "_view_count": null,
            "_view_module": "@jupyter-widgets/controls",
            "_view_module_version": "1.5.0",
            "_view_name": "ProgressView",
            "bar_style": "success",
            "description": "",
            "description_tooltip": null,
            "layout": "IPY_MODEL_b9f55ad3326042dda309ce7a2b5e78df",
            "max": 28,
            "min": 0,
            "orientation": "horizontal",
            "style": "IPY_MODEL_cab359da6a54442eae61f34ea5a93016",
            "value": 28
          }
        },
        "619a085394d348618aca06d1eefeec81": {
          "model_module": "@jupyter-widgets/controls",
          "model_module_version": "1.5.0",
          "model_name": "DescriptionStyleModel",
          "state": {
            "_model_module": "@jupyter-widgets/controls",
            "_model_module_version": "1.5.0",
            "_model_name": "DescriptionStyleModel",
            "_view_count": null,
            "_view_module": "@jupyter-widgets/base",
            "_view_module_version": "1.2.0",
            "_view_name": "StyleView",
            "description_width": ""
          }
        },
        "63b019a913194578a956524112b88556": {
          "model_module": "@jupyter-widgets/controls",
          "model_module_version": "1.5.0",
          "model_name": "DescriptionStyleModel",
          "state": {
            "_model_module": "@jupyter-widgets/controls",
            "_model_module_version": "1.5.0",
            "_model_name": "DescriptionStyleModel",
            "_view_count": null,
            "_view_module": "@jupyter-widgets/base",
            "_view_module_version": "1.2.0",
            "_view_name": "StyleView",
            "description_width": ""
          }
        },
        "680c3db24b9a4d8480803f50cc94503d": {
          "model_module": "@jupyter-widgets/controls",
          "model_module_version": "1.5.0",
          "model_name": "HTMLModel",
          "state": {
            "_dom_classes": [],
            "_model_module": "@jupyter-widgets/controls",
            "_model_module_version": "1.5.0",
            "_model_name": "HTMLModel",
            "_view_count": null,
            "_view_module": "@jupyter-widgets/controls",
            "_view_module_version": "1.5.0",
            "_view_name": "HTMLView",
            "description": "",
            "description_tooltip": null,
            "layout": "IPY_MODEL_2537671bbb4c425faf01e65f5ddcf83a",
            "placeholder": "​",
            "style": "IPY_MODEL_9781993b8304431598d0498b3e72e636",
            "value": "Downloading (…)okenizer_config.json: 100%"
          }
        },
        "68986dc0db57437ead3a06bb744e62de": {
          "model_module": "@jupyter-widgets/base",
          "model_module_version": "1.2.0",
          "model_name": "LayoutModel",
          "state": {
            "_model_module": "@jupyter-widgets/base",
            "_model_module_version": "1.2.0",
            "_model_name": "LayoutModel",
            "_view_count": null,
            "_view_module": "@jupyter-widgets/base",
            "_view_module_version": "1.2.0",
            "_view_name": "LayoutView",
            "align_content": null,
            "align_items": null,
            "align_self": null,
            "border": null,
            "bottom": null,
            "display": null,
            "flex": null,
            "flex_flow": null,
            "grid_area": null,
            "grid_auto_columns": null,
            "grid_auto_flow": null,
            "grid_auto_rows": null,
            "grid_column": null,
            "grid_gap": null,
            "grid_row": null,
            "grid_template_areas": null,
            "grid_template_columns": null,
            "grid_template_rows": null,
            "height": null,
            "justify_content": null,
            "justify_items": null,
            "left": null,
            "margin": null,
            "max_height": null,
            "max_width": null,
            "min_height": null,
            "min_width": null,
            "object_fit": null,
            "object_position": null,
            "order": null,
            "overflow": null,
            "overflow_x": null,
            "overflow_y": null,
            "padding": null,
            "right": null,
            "top": null,
            "visibility": null,
            "width": null
          }
        },
        "6d19a5530e684a24ae38d1cf5f432b8b": {
          "model_module": "@jupyter-widgets/controls",
          "model_module_version": "1.5.0",
          "model_name": "HBoxModel",
          "state": {
            "_dom_classes": [],
            "_model_module": "@jupyter-widgets/controls",
            "_model_module_version": "1.5.0",
            "_model_name": "HBoxModel",
            "_view_count": null,
            "_view_module": "@jupyter-widgets/controls",
            "_view_module_version": "1.5.0",
            "_view_name": "HBoxView",
            "box_style": "",
            "children": [
              "IPY_MODEL_1f6ebde85fc2460485b452d79ee213e4",
              "IPY_MODEL_cd56a71eed0344fc9529804cc67c2ab3",
              "IPY_MODEL_4158512ba5454b57b440e2f75f7d7581"
            ],
            "layout": "IPY_MODEL_0c40a620af8b4defbe77d5938096199a"
          }
        },
        "6d7ab76b1ea943ceb5ad4a7531042c93": {
          "model_module": "@jupyter-widgets/controls",
          "model_module_version": "1.5.0",
          "model_name": "DescriptionStyleModel",
          "state": {
            "_model_module": "@jupyter-widgets/controls",
            "_model_module_version": "1.5.0",
            "_model_name": "DescriptionStyleModel",
            "_view_count": null,
            "_view_module": "@jupyter-widgets/base",
            "_view_module_version": "1.2.0",
            "_view_name": "StyleView",
            "description_width": ""
          }
        },
        "6e457a30ebe94989bdfe2c0b06f75efd": {
          "model_module": "@jupyter-widgets/controls",
          "model_module_version": "1.5.0",
          "model_name": "DescriptionStyleModel",
          "state": {
            "_model_module": "@jupyter-widgets/controls",
            "_model_module_version": "1.5.0",
            "_model_name": "DescriptionStyleModel",
            "_view_count": null,
            "_view_module": "@jupyter-widgets/base",
            "_view_module_version": "1.2.0",
            "_view_name": "StyleView",
            "description_width": ""
          }
        },
        "70cfa59a44a54fd084f2edf47785d9d2": {
          "model_module": "@jupyter-widgets/controls",
          "model_module_version": "1.5.0",
          "model_name": "FloatProgressModel",
          "state": {
            "_dom_classes": [],
            "_model_module": "@jupyter-widgets/controls",
            "_model_module_version": "1.5.0",
            "_model_name": "FloatProgressModel",
            "_view_count": null,
            "_view_module": "@jupyter-widgets/controls",
            "_view_module_version": "1.5.0",
            "_view_name": "ProgressView",
            "bar_style": "success",
            "description": "",
            "description_tooltip": null,
            "layout": "IPY_MODEL_cd45529475c048a68a403ca294fc0939",
            "max": 398450006,
            "min": 0,
            "orientation": "horizontal",
            "style": "IPY_MODEL_944808599c6e4aec8db62c77b3555d25",
            "value": 398450006
          }
        },
        "73cf775c36914a55b5fcd02b2d6eb078": {
          "model_module": "@jupyter-widgets/controls",
          "model_module_version": "1.5.0",
          "model_name": "DescriptionStyleModel",
          "state": {
            "_model_module": "@jupyter-widgets/controls",
            "_model_module_version": "1.5.0",
            "_model_name": "DescriptionStyleModel",
            "_view_count": null,
            "_view_module": "@jupyter-widgets/base",
            "_view_module_version": "1.2.0",
            "_view_name": "StyleView",
            "description_width": ""
          }
        },
        "78e9203d04cc4057a96aa8c22cac0529": {
          "model_module": "@jupyter-widgets/base",
          "model_module_version": "1.2.0",
          "model_name": "LayoutModel",
          "state": {
            "_model_module": "@jupyter-widgets/base",
            "_model_module_version": "1.2.0",
            "_model_name": "LayoutModel",
            "_view_count": null,
            "_view_module": "@jupyter-widgets/base",
            "_view_module_version": "1.2.0",
            "_view_name": "LayoutView",
            "align_content": null,
            "align_items": null,
            "align_self": null,
            "border": null,
            "bottom": null,
            "display": null,
            "flex": null,
            "flex_flow": null,
            "grid_area": null,
            "grid_auto_columns": null,
            "grid_auto_flow": null,
            "grid_auto_rows": null,
            "grid_column": null,
            "grid_gap": null,
            "grid_row": null,
            "grid_template_areas": null,
            "grid_template_columns": null,
            "grid_template_rows": null,
            "height": null,
            "justify_content": null,
            "justify_items": null,
            "left": null,
            "margin": null,
            "max_height": null,
            "max_width": null,
            "min_height": null,
            "min_width": null,
            "object_fit": null,
            "object_position": null,
            "order": null,
            "overflow": null,
            "overflow_x": null,
            "overflow_y": null,
            "padding": null,
            "right": null,
            "top": null,
            "visibility": null,
            "width": null
          }
        },
        "78fa692c81924b4fb6135a40adfe477c": {
          "model_module": "@jupyter-widgets/base",
          "model_module_version": "1.2.0",
          "model_name": "LayoutModel",
          "state": {
            "_model_module": "@jupyter-widgets/base",
            "_model_module_version": "1.2.0",
            "_model_name": "LayoutModel",
            "_view_count": null,
            "_view_module": "@jupyter-widgets/base",
            "_view_module_version": "1.2.0",
            "_view_name": "LayoutView",
            "align_content": null,
            "align_items": null,
            "align_self": null,
            "border": null,
            "bottom": null,
            "display": null,
            "flex": null,
            "flex_flow": null,
            "grid_area": null,
            "grid_auto_columns": null,
            "grid_auto_flow": null,
            "grid_auto_rows": null,
            "grid_column": null,
            "grid_gap": null,
            "grid_row": null,
            "grid_template_areas": null,
            "grid_template_columns": null,
            "grid_template_rows": null,
            "height": null,
            "justify_content": null,
            "justify_items": null,
            "left": null,
            "margin": null,
            "max_height": null,
            "max_width": null,
            "min_height": null,
            "min_width": null,
            "object_fit": null,
            "object_position": null,
            "order": null,
            "overflow": null,
            "overflow_x": null,
            "overflow_y": null,
            "padding": null,
            "right": null,
            "top": null,
            "visibility": null,
            "width": null
          }
        },
        "7ab968530bc24e258e0d32fbbe94580a": {
          "model_module": "@jupyter-widgets/base",
          "model_module_version": "1.2.0",
          "model_name": "LayoutModel",
          "state": {
            "_model_module": "@jupyter-widgets/base",
            "_model_module_version": "1.2.0",
            "_model_name": "LayoutModel",
            "_view_count": null,
            "_view_module": "@jupyter-widgets/base",
            "_view_module_version": "1.2.0",
            "_view_name": "LayoutView",
            "align_content": null,
            "align_items": null,
            "align_self": null,
            "border": null,
            "bottom": null,
            "display": null,
            "flex": null,
            "flex_flow": null,
            "grid_area": null,
            "grid_auto_columns": null,
            "grid_auto_flow": null,
            "grid_auto_rows": null,
            "grid_column": null,
            "grid_gap": null,
            "grid_row": null,
            "grid_template_areas": null,
            "grid_template_columns": null,
            "grid_template_rows": null,
            "height": null,
            "justify_content": null,
            "justify_items": null,
            "left": null,
            "margin": null,
            "max_height": null,
            "max_width": null,
            "min_height": null,
            "min_width": null,
            "object_fit": null,
            "object_position": null,
            "order": null,
            "overflow": null,
            "overflow_x": null,
            "overflow_y": null,
            "padding": null,
            "right": null,
            "top": null,
            "visibility": null,
            "width": null
          }
        },
        "7c18c72480a345ada47e8fef8795c801": {
          "model_module": "@jupyter-widgets/controls",
          "model_module_version": "1.5.0",
          "model_name": "ProgressStyleModel",
          "state": {
            "_model_module": "@jupyter-widgets/controls",
            "_model_module_version": "1.5.0",
            "_model_name": "ProgressStyleModel",
            "_view_count": null,
            "_view_module": "@jupyter-widgets/base",
            "_view_module_version": "1.2.0",
            "_view_name": "StyleView",
            "bar_color": null,
            "description_width": ""
          }
        },
        "7d4df079adc54dffa9bfec5f8dcf0899": {
          "model_module": "@jupyter-widgets/base",
          "model_module_version": "1.2.0",
          "model_name": "LayoutModel",
          "state": {
            "_model_module": "@jupyter-widgets/base",
            "_model_module_version": "1.2.0",
            "_model_name": "LayoutModel",
            "_view_count": null,
            "_view_module": "@jupyter-widgets/base",
            "_view_module_version": "1.2.0",
            "_view_name": "LayoutView",
            "align_content": null,
            "align_items": null,
            "align_self": null,
            "border": null,
            "bottom": null,
            "display": null,
            "flex": null,
            "flex_flow": null,
            "grid_area": null,
            "grid_auto_columns": null,
            "grid_auto_flow": null,
            "grid_auto_rows": null,
            "grid_column": null,
            "grid_gap": null,
            "grid_row": null,
            "grid_template_areas": null,
            "grid_template_columns": null,
            "grid_template_rows": null,
            "height": null,
            "justify_content": null,
            "justify_items": null,
            "left": null,
            "margin": null,
            "max_height": null,
            "max_width": null,
            "min_height": null,
            "min_width": null,
            "object_fit": null,
            "object_position": null,
            "order": null,
            "overflow": null,
            "overflow_x": null,
            "overflow_y": null,
            "padding": null,
            "right": null,
            "top": null,
            "visibility": null,
            "width": null
          }
        },
        "7f01fbd9d5d941c492969aa83fd59322": {
          "model_module": "@jupyter-widgets/base",
          "model_module_version": "1.2.0",
          "model_name": "LayoutModel",
          "state": {
            "_model_module": "@jupyter-widgets/base",
            "_model_module_version": "1.2.0",
            "_model_name": "LayoutModel",
            "_view_count": null,
            "_view_module": "@jupyter-widgets/base",
            "_view_module_version": "1.2.0",
            "_view_name": "LayoutView",
            "align_content": null,
            "align_items": null,
            "align_self": null,
            "border": null,
            "bottom": null,
            "display": null,
            "flex": null,
            "flex_flow": null,
            "grid_area": null,
            "grid_auto_columns": null,
            "grid_auto_flow": null,
            "grid_auto_rows": null,
            "grid_column": null,
            "grid_gap": null,
            "grid_row": null,
            "grid_template_areas": null,
            "grid_template_columns": null,
            "grid_template_rows": null,
            "height": null,
            "justify_content": null,
            "justify_items": null,
            "left": null,
            "margin": null,
            "max_height": null,
            "max_width": null,
            "min_height": null,
            "min_width": null,
            "object_fit": null,
            "object_position": null,
            "order": null,
            "overflow": null,
            "overflow_x": null,
            "overflow_y": null,
            "padding": null,
            "right": null,
            "top": null,
            "visibility": null,
            "width": null
          }
        },
        "7f4ee35362ab44fcba786823e3079d70": {
          "model_module": "@jupyter-widgets/base",
          "model_module_version": "1.2.0",
          "model_name": "LayoutModel",
          "state": {
            "_model_module": "@jupyter-widgets/base",
            "_model_module_version": "1.2.0",
            "_model_name": "LayoutModel",
            "_view_count": null,
            "_view_module": "@jupyter-widgets/base",
            "_view_module_version": "1.2.0",
            "_view_name": "LayoutView",
            "align_content": null,
            "align_items": null,
            "align_self": null,
            "border": null,
            "bottom": null,
            "display": null,
            "flex": null,
            "flex_flow": null,
            "grid_area": null,
            "grid_auto_columns": null,
            "grid_auto_flow": null,
            "grid_auto_rows": null,
            "grid_column": null,
            "grid_gap": null,
            "grid_row": null,
            "grid_template_areas": null,
            "grid_template_columns": null,
            "grid_template_rows": null,
            "height": null,
            "justify_content": null,
            "justify_items": null,
            "left": null,
            "margin": null,
            "max_height": null,
            "max_width": null,
            "min_height": null,
            "min_width": null,
            "object_fit": null,
            "object_position": null,
            "order": null,
            "overflow": null,
            "overflow_x": null,
            "overflow_y": null,
            "padding": null,
            "right": null,
            "top": null,
            "visibility": null,
            "width": null
          }
        },
        "81f985ee8bf54259a38e3526d07f84ff": {
          "model_module": "@jupyter-widgets/controls",
          "model_module_version": "1.5.0",
          "model_name": "HTMLModel",
          "state": {
            "_dom_classes": [],
            "_model_module": "@jupyter-widgets/controls",
            "_model_module_version": "1.5.0",
            "_model_name": "HTMLModel",
            "_view_count": null,
            "_view_module": "@jupyter-widgets/controls",
            "_view_module_version": "1.5.0",
            "_view_name": "HTMLView",
            "description": "",
            "description_tooltip": null,
            "layout": "IPY_MODEL_2749d2378f304f2a92a492ef9d2ceddc",
            "placeholder": "​",
            "style": "IPY_MODEL_a3813049fe5441d38786e2ebc500cd42",
            "value": " 3/3 [00:00&lt;00:00, 46.96it/s]"
          }
        },
        "820330f3ca834d959adcd1aa12dd41a3": {
          "model_module": "@jupyter-widgets/controls",
          "model_module_version": "1.5.0",
          "model_name": "HTMLModel",
          "state": {
            "_dom_classes": [],
            "_model_module": "@jupyter-widgets/controls",
            "_model_module_version": "1.5.0",
            "_model_name": "HTMLModel",
            "_view_count": null,
            "_view_module": "@jupyter-widgets/controls",
            "_view_module_version": "1.5.0",
            "_view_name": "HTMLView",
            "description": "",
            "description_tooltip": null,
            "layout": "IPY_MODEL_04ae6577c4c54a688d669b1ffc7e81a3",
            "placeholder": "​",
            "style": "IPY_MODEL_e663dc95408e4392a97ce74ba9d79702",
            "value": " 232k/232k [00:00&lt;00:00, 4.70MB/s]"
          }
        },
        "85a5fef0860946598d891bbf8fb10248": {
          "model_module": "@jupyter-widgets/controls",
          "model_module_version": "1.5.0",
          "model_name": "ProgressStyleModel",
          "state": {
            "_model_module": "@jupyter-widgets/controls",
            "_model_module_version": "1.5.0",
            "_model_name": "ProgressStyleModel",
            "_view_count": null,
            "_view_module": "@jupyter-widgets/base",
            "_view_module_version": "1.2.0",
            "_view_name": "StyleView",
            "bar_color": null,
            "description_width": ""
          }
        },
        "87d06a2d582e43128df5ed7ce746e69b": {
          "model_module": "@jupyter-widgets/base",
          "model_module_version": "1.2.0",
          "model_name": "LayoutModel",
          "state": {
            "_model_module": "@jupyter-widgets/base",
            "_model_module_version": "1.2.0",
            "_model_name": "LayoutModel",
            "_view_count": null,
            "_view_module": "@jupyter-widgets/base",
            "_view_module_version": "1.2.0",
            "_view_name": "LayoutView",
            "align_content": null,
            "align_items": null,
            "align_self": null,
            "border": null,
            "bottom": null,
            "display": null,
            "flex": null,
            "flex_flow": null,
            "grid_area": null,
            "grid_auto_columns": null,
            "grid_auto_flow": null,
            "grid_auto_rows": null,
            "grid_column": null,
            "grid_gap": null,
            "grid_row": null,
            "grid_template_areas": null,
            "grid_template_columns": null,
            "grid_template_rows": null,
            "height": null,
            "justify_content": null,
            "justify_items": null,
            "left": null,
            "margin": null,
            "max_height": null,
            "max_width": null,
            "min_height": null,
            "min_width": null,
            "object_fit": null,
            "object_position": null,
            "order": null,
            "overflow": null,
            "overflow_x": null,
            "overflow_y": null,
            "padding": null,
            "right": null,
            "top": null,
            "visibility": null,
            "width": null
          }
        },
        "89852d7d83a44f93a681ad1d108c8dc3": {
          "model_module": "@jupyter-widgets/base",
          "model_module_version": "1.2.0",
          "model_name": "LayoutModel",
          "state": {
            "_model_module": "@jupyter-widgets/base",
            "_model_module_version": "1.2.0",
            "_model_name": "LayoutModel",
            "_view_count": null,
            "_view_module": "@jupyter-widgets/base",
            "_view_module_version": "1.2.0",
            "_view_name": "LayoutView",
            "align_content": null,
            "align_items": null,
            "align_self": null,
            "border": null,
            "bottom": null,
            "display": null,
            "flex": null,
            "flex_flow": null,
            "grid_area": null,
            "grid_auto_columns": null,
            "grid_auto_flow": null,
            "grid_auto_rows": null,
            "grid_column": null,
            "grid_gap": null,
            "grid_row": null,
            "grid_template_areas": null,
            "grid_template_columns": null,
            "grid_template_rows": null,
            "height": null,
            "justify_content": null,
            "justify_items": null,
            "left": null,
            "margin": null,
            "max_height": null,
            "max_width": null,
            "min_height": null,
            "min_width": null,
            "object_fit": null,
            "object_position": null,
            "order": null,
            "overflow": null,
            "overflow_x": null,
            "overflow_y": null,
            "padding": null,
            "right": null,
            "top": null,
            "visibility": null,
            "width": null
          }
        },
        "8b41b8d7111d4a439d8b9e494e8c46b5": {
          "model_module": "@jupyter-widgets/controls",
          "model_module_version": "1.5.0",
          "model_name": "HBoxModel",
          "state": {
            "_dom_classes": [],
            "_model_module": "@jupyter-widgets/controls",
            "_model_module_version": "1.5.0",
            "_model_name": "HBoxModel",
            "_view_count": null,
            "_view_module": "@jupyter-widgets/controls",
            "_view_module_version": "1.5.0",
            "_view_name": "HBoxView",
            "box_style": "",
            "children": [
              "IPY_MODEL_dd62e32ea38f4029a93eea5be59a0e73",
              "IPY_MODEL_ed8cfda08fa040b0929987094db57ade",
              "IPY_MODEL_2a626a511f244f8296d6d801946fd984"
            ],
            "layout": "IPY_MODEL_e76faaa9f46e40d98c77319e90af8d3c"
          }
        },
        "8b54cfc40c794fc58d4a030b33ca73ec": {
          "model_module": "@jupyter-widgets/controls",
          "model_module_version": "1.5.0",
          "model_name": "ProgressStyleModel",
          "state": {
            "_model_module": "@jupyter-widgets/controls",
            "_model_module_version": "1.5.0",
            "_model_name": "ProgressStyleModel",
            "_view_count": null,
            "_view_module": "@jupyter-widgets/base",
            "_view_module_version": "1.2.0",
            "_view_name": "StyleView",
            "bar_color": null,
            "description_width": ""
          }
        },
        "8dcf9a8f70844f56b161dfa7df403805": {
          "model_module": "@jupyter-widgets/base",
          "model_module_version": "1.2.0",
          "model_name": "LayoutModel",
          "state": {
            "_model_module": "@jupyter-widgets/base",
            "_model_module_version": "1.2.0",
            "_model_name": "LayoutModel",
            "_view_count": null,
            "_view_module": "@jupyter-widgets/base",
            "_view_module_version": "1.2.0",
            "_view_name": "LayoutView",
            "align_content": null,
            "align_items": null,
            "align_self": null,
            "border": null,
            "bottom": null,
            "display": null,
            "flex": null,
            "flex_flow": null,
            "grid_area": null,
            "grid_auto_columns": null,
            "grid_auto_flow": null,
            "grid_auto_rows": null,
            "grid_column": null,
            "grid_gap": null,
            "grid_row": null,
            "grid_template_areas": null,
            "grid_template_columns": null,
            "grid_template_rows": null,
            "height": null,
            "justify_content": null,
            "justify_items": null,
            "left": null,
            "margin": null,
            "max_height": null,
            "max_width": null,
            "min_height": null,
            "min_width": null,
            "object_fit": null,
            "object_position": null,
            "order": null,
            "overflow": null,
            "overflow_x": null,
            "overflow_y": null,
            "padding": null,
            "right": null,
            "top": null,
            "visibility": null,
            "width": null
          }
        },
        "90596af4c34e4ca08c7f1f1c1909c33a": {
          "model_module": "@jupyter-widgets/base",
          "model_module_version": "1.2.0",
          "model_name": "LayoutModel",
          "state": {
            "_model_module": "@jupyter-widgets/base",
            "_model_module_version": "1.2.0",
            "_model_name": "LayoutModel",
            "_view_count": null,
            "_view_module": "@jupyter-widgets/base",
            "_view_module_version": "1.2.0",
            "_view_name": "LayoutView",
            "align_content": null,
            "align_items": null,
            "align_self": null,
            "border": null,
            "bottom": null,
            "display": null,
            "flex": null,
            "flex_flow": null,
            "grid_area": null,
            "grid_auto_columns": null,
            "grid_auto_flow": null,
            "grid_auto_rows": null,
            "grid_column": null,
            "grid_gap": null,
            "grid_row": null,
            "grid_template_areas": null,
            "grid_template_columns": null,
            "grid_template_rows": null,
            "height": null,
            "justify_content": null,
            "justify_items": null,
            "left": null,
            "margin": null,
            "max_height": null,
            "max_width": null,
            "min_height": null,
            "min_width": null,
            "object_fit": null,
            "object_position": null,
            "order": null,
            "overflow": null,
            "overflow_x": null,
            "overflow_y": null,
            "padding": null,
            "right": null,
            "top": null,
            "visibility": "hidden",
            "width": null
          }
        },
        "908bfda487e245f1a7b71b6e5e7e3918": {
          "model_module": "@jupyter-widgets/base",
          "model_module_version": "1.2.0",
          "model_name": "LayoutModel",
          "state": {
            "_model_module": "@jupyter-widgets/base",
            "_model_module_version": "1.2.0",
            "_model_name": "LayoutModel",
            "_view_count": null,
            "_view_module": "@jupyter-widgets/base",
            "_view_module_version": "1.2.0",
            "_view_name": "LayoutView",
            "align_content": null,
            "align_items": null,
            "align_self": null,
            "border": null,
            "bottom": null,
            "display": null,
            "flex": null,
            "flex_flow": null,
            "grid_area": null,
            "grid_auto_columns": null,
            "grid_auto_flow": null,
            "grid_auto_rows": null,
            "grid_column": null,
            "grid_gap": null,
            "grid_row": null,
            "grid_template_areas": null,
            "grid_template_columns": null,
            "grid_template_rows": null,
            "height": null,
            "justify_content": null,
            "justify_items": null,
            "left": null,
            "margin": null,
            "max_height": null,
            "max_width": null,
            "min_height": null,
            "min_width": null,
            "object_fit": null,
            "object_position": null,
            "order": null,
            "overflow": null,
            "overflow_x": null,
            "overflow_y": null,
            "padding": null,
            "right": null,
            "top": null,
            "visibility": null,
            "width": null
          }
        },
        "944808599c6e4aec8db62c77b3555d25": {
          "model_module": "@jupyter-widgets/controls",
          "model_module_version": "1.5.0",
          "model_name": "ProgressStyleModel",
          "state": {
            "_model_module": "@jupyter-widgets/controls",
            "_model_module_version": "1.5.0",
            "_model_name": "ProgressStyleModel",
            "_view_count": null,
            "_view_module": "@jupyter-widgets/base",
            "_view_module_version": "1.2.0",
            "_view_name": "StyleView",
            "bar_color": null,
            "description_width": ""
          }
        },
        "9781993b8304431598d0498b3e72e636": {
          "model_module": "@jupyter-widgets/controls",
          "model_module_version": "1.5.0",
          "model_name": "DescriptionStyleModel",
          "state": {
            "_model_module": "@jupyter-widgets/controls",
            "_model_module_version": "1.5.0",
            "_model_name": "DescriptionStyleModel",
            "_view_count": null,
            "_view_module": "@jupyter-widgets/base",
            "_view_module_version": "1.2.0",
            "_view_name": "StyleView",
            "description_width": ""
          }
        },
        "98074af9e65b4f8f91545be10adef7de": {
          "model_module": "@jupyter-widgets/controls",
          "model_module_version": "1.5.0",
          "model_name": "DescriptionStyleModel",
          "state": {
            "_model_module": "@jupyter-widgets/controls",
            "_model_module_version": "1.5.0",
            "_model_name": "DescriptionStyleModel",
            "_view_count": null,
            "_view_module": "@jupyter-widgets/base",
            "_view_module_version": "1.2.0",
            "_view_name": "StyleView",
            "description_width": ""
          }
        },
        "99ac7ac1bf584392b5bd55cfa49c1a53": {
          "model_module": "@jupyter-widgets/controls",
          "model_module_version": "1.5.0",
          "model_name": "HBoxModel",
          "state": {
            "_dom_classes": [],
            "_model_module": "@jupyter-widgets/controls",
            "_model_module_version": "1.5.0",
            "_model_name": "HBoxModel",
            "_view_count": null,
            "_view_module": "@jupyter-widgets/controls",
            "_view_module_version": "1.5.0",
            "_view_name": "HBoxView",
            "box_style": "",
            "children": [
              "IPY_MODEL_680c3db24b9a4d8480803f50cc94503d",
              "IPY_MODEL_611f7af3f9e84ebfb11a3f15512df989",
              "IPY_MODEL_547e9c55fb8a4a019df64eb545ada86a"
            ],
            "layout": "IPY_MODEL_15f6f87abc5e4d82b524b780cdd2d0de"
          }
        },
        "9bbc297aff354943adde02b8f382489b": {
          "model_module": "@jupyter-widgets/controls",
          "model_module_version": "1.5.0",
          "model_name": "HTMLModel",
          "state": {
            "_dom_classes": [],
            "_model_module": "@jupyter-widgets/controls",
            "_model_module_version": "1.5.0",
            "_model_name": "HTMLModel",
            "_view_count": null,
            "_view_module": "@jupyter-widgets/controls",
            "_view_module_version": "1.5.0",
            "_view_name": "HTMLView",
            "description": "",
            "description_tooltip": null,
            "layout": "IPY_MODEL_9f10097881944d01969a907bcea68795",
            "placeholder": "​",
            "style": "IPY_MODEL_0e14f44c9b104123b651b15619921ca9",
            "value": "Generating train split: 100%"
          }
        },
        "9f10097881944d01969a907bcea68795": {
          "model_module": "@jupyter-widgets/base",
          "model_module_version": "1.2.0",
          "model_name": "LayoutModel",
          "state": {
            "_model_module": "@jupyter-widgets/base",
            "_model_module_version": "1.2.0",
            "_model_name": "LayoutModel",
            "_view_count": null,
            "_view_module": "@jupyter-widgets/base",
            "_view_module_version": "1.2.0",
            "_view_name": "LayoutView",
            "align_content": null,
            "align_items": null,
            "align_self": null,
            "border": null,
            "bottom": null,
            "display": null,
            "flex": null,
            "flex_flow": null,
            "grid_area": null,
            "grid_auto_columns": null,
            "grid_auto_flow": null,
            "grid_auto_rows": null,
            "grid_column": null,
            "grid_gap": null,
            "grid_row": null,
            "grid_template_areas": null,
            "grid_template_columns": null,
            "grid_template_rows": null,
            "height": null,
            "justify_content": null,
            "justify_items": null,
            "left": null,
            "margin": null,
            "max_height": null,
            "max_width": null,
            "min_height": null,
            "min_width": null,
            "object_fit": null,
            "object_position": null,
            "order": null,
            "overflow": null,
            "overflow_x": null,
            "overflow_y": null,
            "padding": null,
            "right": null,
            "top": null,
            "visibility": null,
            "width": null
          }
        },
        "a30d8e1502af4368aac562ec67f33870": {
          "model_module": "@jupyter-widgets/base",
          "model_module_version": "1.2.0",
          "model_name": "LayoutModel",
          "state": {
            "_model_module": "@jupyter-widgets/base",
            "_model_module_version": "1.2.0",
            "_model_name": "LayoutModel",
            "_view_count": null,
            "_view_module": "@jupyter-widgets/base",
            "_view_module_version": "1.2.0",
            "_view_name": "LayoutView",
            "align_content": null,
            "align_items": null,
            "align_self": null,
            "border": null,
            "bottom": null,
            "display": null,
            "flex": null,
            "flex_flow": null,
            "grid_area": null,
            "grid_auto_columns": null,
            "grid_auto_flow": null,
            "grid_auto_rows": null,
            "grid_column": null,
            "grid_gap": null,
            "grid_row": null,
            "grid_template_areas": null,
            "grid_template_columns": null,
            "grid_template_rows": null,
            "height": null,
            "justify_content": null,
            "justify_items": null,
            "left": null,
            "margin": null,
            "max_height": null,
            "max_width": null,
            "min_height": null,
            "min_width": null,
            "object_fit": null,
            "object_position": null,
            "order": null,
            "overflow": null,
            "overflow_x": null,
            "overflow_y": null,
            "padding": null,
            "right": null,
            "top": null,
            "visibility": null,
            "width": null
          }
        },
        "a3813049fe5441d38786e2ebc500cd42": {
          "model_module": "@jupyter-widgets/controls",
          "model_module_version": "1.5.0",
          "model_name": "DescriptionStyleModel",
          "state": {
            "_model_module": "@jupyter-widgets/controls",
            "_model_module_version": "1.5.0",
            "_model_name": "DescriptionStyleModel",
            "_view_count": null,
            "_view_module": "@jupyter-widgets/base",
            "_view_module_version": "1.2.0",
            "_view_name": "StyleView",
            "description_width": ""
          }
        },
        "a3c4dcc28b144da4998b68ad799f9bc3": {
          "model_module": "@jupyter-widgets/controls",
          "model_module_version": "1.5.0",
          "model_name": "HTMLModel",
          "state": {
            "_dom_classes": [],
            "_model_module": "@jupyter-widgets/controls",
            "_model_module_version": "1.5.0",
            "_model_name": "HTMLModel",
            "_view_count": null,
            "_view_module": "@jupyter-widgets/controls",
            "_view_module_version": "1.5.0",
            "_view_name": "HTMLView",
            "description": "",
            "description_tooltip": null,
            "layout": "IPY_MODEL_1bdc169e038d46098f2c6ac8bf429aac",
            "placeholder": "​",
            "style": "IPY_MODEL_5006db79f218476691b090792c7b627c",
            "value": "Generating validation split:  97%"
          }
        },
        "a5dd8e5f6e1345778908caf5d38de4e3": {
          "model_module": "@jupyter-widgets/base",
          "model_module_version": "1.2.0",
          "model_name": "LayoutModel",
          "state": {
            "_model_module": "@jupyter-widgets/base",
            "_model_module_version": "1.2.0",
            "_model_name": "LayoutModel",
            "_view_count": null,
            "_view_module": "@jupyter-widgets/base",
            "_view_module_version": "1.2.0",
            "_view_name": "LayoutView",
            "align_content": null,
            "align_items": null,
            "align_self": null,
            "border": null,
            "bottom": null,
            "display": null,
            "flex": null,
            "flex_flow": null,
            "grid_area": null,
            "grid_auto_columns": null,
            "grid_auto_flow": null,
            "grid_auto_rows": null,
            "grid_column": null,
            "grid_gap": null,
            "grid_row": null,
            "grid_template_areas": null,
            "grid_template_columns": null,
            "grid_template_rows": null,
            "height": null,
            "justify_content": null,
            "justify_items": null,
            "left": null,
            "margin": null,
            "max_height": null,
            "max_width": null,
            "min_height": null,
            "min_width": null,
            "object_fit": null,
            "object_position": null,
            "order": null,
            "overflow": null,
            "overflow_x": null,
            "overflow_y": null,
            "padding": null,
            "right": null,
            "top": null,
            "visibility": null,
            "width": null
          }
        },
        "a75af09958124c858238fcc4bda290ef": {
          "model_module": "@jupyter-widgets/controls",
          "model_module_version": "1.5.0",
          "model_name": "HTMLModel",
          "state": {
            "_dom_classes": [],
            "_model_module": "@jupyter-widgets/controls",
            "_model_module_version": "1.5.0",
            "_model_name": "HTMLModel",
            "_view_count": null,
            "_view_module": "@jupyter-widgets/controls",
            "_view_module_version": "1.5.0",
            "_view_name": "HTMLView",
            "description": "",
            "description_tooltip": null,
            "layout": "IPY_MODEL_a30d8e1502af4368aac562ec67f33870",
            "placeholder": "​",
            "style": "IPY_MODEL_619a085394d348618aca06d1eefeec81",
            "value": "Downloading (…)lve/main/config.json: 100%"
          }
        },
        "aa6bfa6e96d24c0b9f5aae2c649ed2e4": {
          "model_module": "@jupyter-widgets/controls",
          "model_module_version": "1.5.0",
          "model_name": "HBoxModel",
          "state": {
            "_dom_classes": [],
            "_model_module": "@jupyter-widgets/controls",
            "_model_module_version": "1.5.0",
            "_model_name": "HBoxModel",
            "_view_count": null,
            "_view_module": "@jupyter-widgets/controls",
            "_view_module_version": "1.5.0",
            "_view_name": "HBoxView",
            "box_style": "",
            "children": [
              "IPY_MODEL_a3c4dcc28b144da4998b68ad799f9bc3",
              "IPY_MODEL_e06dbd73c16743b384dfb4dfe0bdd4bb",
              "IPY_MODEL_fa778206e5bc4a2987d3169ffe97fdb5"
            ],
            "layout": "IPY_MODEL_5e55f06af143497098f08b4550fc4d12"
          }
        },
        "ad2c5f057ce342359b836ae4f3828ca9": {
          "model_module": "@jupyter-widgets/controls",
          "model_module_version": "1.5.0",
          "model_name": "HTMLModel",
          "state": {
            "_dom_classes": [],
            "_model_module": "@jupyter-widgets/controls",
            "_model_module_version": "1.5.0",
            "_model_name": "HTMLModel",
            "_view_count": null,
            "_view_module": "@jupyter-widgets/controls",
            "_view_module_version": "1.5.0",
            "_view_name": "HTMLView",
            "description": "",
            "description_tooltip": null,
            "layout": "IPY_MODEL_d147594655d649fdbb7d97e97717215c",
            "placeholder": "​",
            "style": "IPY_MODEL_e47f2907a7034f58bc4752b101e3894d",
            "value": "100%"
          }
        },
        "b3b39fdf1f434256a33d92d5b3e4be49": {
          "model_module": "@jupyter-widgets/base",
          "model_module_version": "1.2.0",
          "model_name": "LayoutModel",
          "state": {
            "_model_module": "@jupyter-widgets/base",
            "_model_module_version": "1.2.0",
            "_model_name": "LayoutModel",
            "_view_count": null,
            "_view_module": "@jupyter-widgets/base",
            "_view_module_version": "1.2.0",
            "_view_name": "LayoutView",
            "align_content": null,
            "align_items": null,
            "align_self": null,
            "border": null,
            "bottom": null,
            "display": null,
            "flex": null,
            "flex_flow": null,
            "grid_area": null,
            "grid_auto_columns": null,
            "grid_auto_flow": null,
            "grid_auto_rows": null,
            "grid_column": null,
            "grid_gap": null,
            "grid_row": null,
            "grid_template_areas": null,
            "grid_template_columns": null,
            "grid_template_rows": null,
            "height": null,
            "justify_content": null,
            "justify_items": null,
            "left": null,
            "margin": null,
            "max_height": null,
            "max_width": null,
            "min_height": null,
            "min_width": null,
            "object_fit": null,
            "object_position": null,
            "order": null,
            "overflow": null,
            "overflow_x": null,
            "overflow_y": null,
            "padding": null,
            "right": null,
            "top": null,
            "visibility": null,
            "width": null
          }
        },
        "b52253590b474dec9efc41f35d09ed55": {
          "model_module": "@jupyter-widgets/base",
          "model_module_version": "1.2.0",
          "model_name": "LayoutModel",
          "state": {
            "_model_module": "@jupyter-widgets/base",
            "_model_module_version": "1.2.0",
            "_model_name": "LayoutModel",
            "_view_count": null,
            "_view_module": "@jupyter-widgets/base",
            "_view_module_version": "1.2.0",
            "_view_name": "LayoutView",
            "align_content": null,
            "align_items": null,
            "align_self": null,
            "border": null,
            "bottom": null,
            "display": null,
            "flex": null,
            "flex_flow": null,
            "grid_area": null,
            "grid_auto_columns": null,
            "grid_auto_flow": null,
            "grid_auto_rows": null,
            "grid_column": null,
            "grid_gap": null,
            "grid_row": null,
            "grid_template_areas": null,
            "grid_template_columns": null,
            "grid_template_rows": null,
            "height": null,
            "justify_content": null,
            "justify_items": null,
            "left": null,
            "margin": null,
            "max_height": null,
            "max_width": null,
            "min_height": null,
            "min_width": null,
            "object_fit": null,
            "object_position": null,
            "order": null,
            "overflow": null,
            "overflow_x": null,
            "overflow_y": null,
            "padding": null,
            "right": null,
            "top": null,
            "visibility": null,
            "width": null
          }
        },
        "b744d427131444578c6429fc3a2cde61": {
          "model_module": "@jupyter-widgets/controls",
          "model_module_version": "1.5.0",
          "model_name": "FloatProgressModel",
          "state": {
            "_dom_classes": [],
            "_model_module": "@jupyter-widgets/controls",
            "_model_module_version": "1.5.0",
            "_model_name": "FloatProgressModel",
            "_view_count": null,
            "_view_module": "@jupyter-widgets/controls",
            "_view_module_version": "1.5.0",
            "_view_name": "ProgressView",
            "bar_style": "success",
            "description": "",
            "description_tooltip": null,
            "layout": "IPY_MODEL_5b36d448818d4f4787181a2ba9f3f468",
            "max": 466062,
            "min": 0,
            "orientation": "horizontal",
            "style": "IPY_MODEL_8b54cfc40c794fc58d4a030b33ca73ec",
            "value": 466062
          }
        },
        "b8bfecf98b5b46de9d61bff8f88aec3e": {
          "model_module": "@jupyter-widgets/controls",
          "model_module_version": "1.5.0",
          "model_name": "HTMLModel",
          "state": {
            "_dom_classes": [],
            "_model_module": "@jupyter-widgets/controls",
            "_model_module_version": "1.5.0",
            "_model_name": "HTMLModel",
            "_view_count": null,
            "_view_module": "@jupyter-widgets/controls",
            "_view_module_version": "1.5.0",
            "_view_name": "HTMLView",
            "description": "",
            "description_tooltip": null,
            "layout": "IPY_MODEL_68986dc0db57437ead3a06bb744e62de",
            "placeholder": "​",
            "style": "IPY_MODEL_394bf1a63dcb421691e521e7d96ed4a7",
            "value": " 570/570 [00:00&lt;00:00, 13.0kB/s]"
          }
        },
        "b9f55ad3326042dda309ce7a2b5e78df": {
          "model_module": "@jupyter-widgets/base",
          "model_module_version": "1.2.0",
          "model_name": "LayoutModel",
          "state": {
            "_model_module": "@jupyter-widgets/base",
            "_model_module_version": "1.2.0",
            "_model_name": "LayoutModel",
            "_view_count": null,
            "_view_module": "@jupyter-widgets/base",
            "_view_module_version": "1.2.0",
            "_view_name": "LayoutView",
            "align_content": null,
            "align_items": null,
            "align_self": null,
            "border": null,
            "bottom": null,
            "display": null,
            "flex": null,
            "flex_flow": null,
            "grid_area": null,
            "grid_auto_columns": null,
            "grid_auto_flow": null,
            "grid_auto_rows": null,
            "grid_column": null,
            "grid_gap": null,
            "grid_row": null,
            "grid_template_areas": null,
            "grid_template_columns": null,
            "grid_template_rows": null,
            "height": null,
            "justify_content": null,
            "justify_items": null,
            "left": null,
            "margin": null,
            "max_height": null,
            "max_width": null,
            "min_height": null,
            "min_width": null,
            "object_fit": null,
            "object_position": null,
            "order": null,
            "overflow": null,
            "overflow_x": null,
            "overflow_y": null,
            "padding": null,
            "right": null,
            "top": null,
            "visibility": null,
            "width": null
          }
        },
        "bab3ff2c7836471fb80f0db000bea0f3": {
          "model_module": "@jupyter-widgets/controls",
          "model_module_version": "1.5.0",
          "model_name": "HTMLModel",
          "state": {
            "_dom_classes": [],
            "_model_module": "@jupyter-widgets/controls",
            "_model_module_version": "1.5.0",
            "_model_name": "HTMLModel",
            "_view_count": null,
            "_view_module": "@jupyter-widgets/controls",
            "_view_module_version": "1.5.0",
            "_view_name": "HTMLView",
            "description": "",
            "description_tooltip": null,
            "layout": "IPY_MODEL_29879ad1ea064ca09720accf4b97a71c",
            "placeholder": "​",
            "style": "IPY_MODEL_0fb3b95b5e8642eea07abdfc0a34d352",
            "value": "Downloading metadata: 100%"
          }
        },
        "bad327793d364d9cae0accc40fd47b30": {
          "model_module": "@jupyter-widgets/base",
          "model_module_version": "1.2.0",
          "model_name": "LayoutModel",
          "state": {
            "_model_module": "@jupyter-widgets/base",
            "_model_module_version": "1.2.0",
            "_model_name": "LayoutModel",
            "_view_count": null,
            "_view_module": "@jupyter-widgets/base",
            "_view_module_version": "1.2.0",
            "_view_name": "LayoutView",
            "align_content": null,
            "align_items": null,
            "align_self": null,
            "border": null,
            "bottom": null,
            "display": null,
            "flex": null,
            "flex_flow": null,
            "grid_area": null,
            "grid_auto_columns": null,
            "grid_auto_flow": null,
            "grid_auto_rows": null,
            "grid_column": null,
            "grid_gap": null,
            "grid_row": null,
            "grid_template_areas": null,
            "grid_template_columns": null,
            "grid_template_rows": null,
            "height": null,
            "justify_content": null,
            "justify_items": null,
            "left": null,
            "margin": null,
            "max_height": null,
            "max_width": null,
            "min_height": null,
            "min_width": null,
            "object_fit": null,
            "object_position": null,
            "order": null,
            "overflow": null,
            "overflow_x": null,
            "overflow_y": null,
            "padding": null,
            "right": null,
            "top": null,
            "visibility": null,
            "width": null
          }
        },
        "bee0252bad39423f8c6a7d4e42482441": {
          "model_module": "@jupyter-widgets/base",
          "model_module_version": "1.2.0",
          "model_name": "LayoutModel",
          "state": {
            "_model_module": "@jupyter-widgets/base",
            "_model_module_version": "1.2.0",
            "_model_name": "LayoutModel",
            "_view_count": null,
            "_view_module": "@jupyter-widgets/base",
            "_view_module_version": "1.2.0",
            "_view_name": "LayoutView",
            "align_content": null,
            "align_items": null,
            "align_self": null,
            "border": null,
            "bottom": null,
            "display": null,
            "flex": null,
            "flex_flow": null,
            "grid_area": null,
            "grid_auto_columns": null,
            "grid_auto_flow": null,
            "grid_auto_rows": null,
            "grid_column": null,
            "grid_gap": null,
            "grid_row": null,
            "grid_template_areas": null,
            "grid_template_columns": null,
            "grid_template_rows": null,
            "height": null,
            "justify_content": null,
            "justify_items": null,
            "left": null,
            "margin": null,
            "max_height": null,
            "max_width": null,
            "min_height": null,
            "min_width": null,
            "object_fit": null,
            "object_position": null,
            "order": null,
            "overflow": null,
            "overflow_x": null,
            "overflow_y": null,
            "padding": null,
            "right": null,
            "top": null,
            "visibility": null,
            "width": null
          }
        },
        "bf30de4bca564e0c8f8b4c5eba87e2fd": {
          "model_module": "@jupyter-widgets/controls",
          "model_module_version": "1.5.0",
          "model_name": "DescriptionStyleModel",
          "state": {
            "_model_module": "@jupyter-widgets/controls",
            "_model_module_version": "1.5.0",
            "_model_name": "DescriptionStyleModel",
            "_view_count": null,
            "_view_module": "@jupyter-widgets/base",
            "_view_module_version": "1.2.0",
            "_view_name": "StyleView",
            "description_width": ""
          }
        },
        "c2dbfdb2f72a4f2ebc54517dc87566f3": {
          "model_module": "@jupyter-widgets/controls",
          "model_module_version": "1.5.0",
          "model_name": "DescriptionStyleModel",
          "state": {
            "_model_module": "@jupyter-widgets/controls",
            "_model_module_version": "1.5.0",
            "_model_name": "DescriptionStyleModel",
            "_view_count": null,
            "_view_module": "@jupyter-widgets/base",
            "_view_module_version": "1.2.0",
            "_view_name": "StyleView",
            "description_width": ""
          }
        },
        "c9335d57570a4a76a85862bb3b2824d7": {
          "model_module": "@jupyter-widgets/controls",
          "model_module_version": "1.5.0",
          "model_name": "HBoxModel",
          "state": {
            "_dom_classes": [],
            "_model_module": "@jupyter-widgets/controls",
            "_model_module_version": "1.5.0",
            "_model_name": "HBoxModel",
            "_view_count": null,
            "_view_module": "@jupyter-widgets/controls",
            "_view_module_version": "1.5.0",
            "_view_name": "HBoxView",
            "box_style": "",
            "children": [
              "IPY_MODEL_d6f6e16c754241dfabf277fd4f93fa5a",
              "IPY_MODEL_de098107777740fd8d3d2a06e0ea37ce",
              "IPY_MODEL_81f985ee8bf54259a38e3526d07f84ff"
            ],
            "layout": "IPY_MODEL_f5c03a8ebfc04b89b2ed01da296f4246"
          }
        },
        "cab359da6a54442eae61f34ea5a93016": {
          "model_module": "@jupyter-widgets/controls",
          "model_module_version": "1.5.0",
          "model_name": "ProgressStyleModel",
          "state": {
            "_model_module": "@jupyter-widgets/controls",
            "_model_module_version": "1.5.0",
            "_model_name": "ProgressStyleModel",
            "_view_count": null,
            "_view_module": "@jupyter-widgets/base",
            "_view_module_version": "1.2.0",
            "_view_name": "StyleView",
            "bar_color": null,
            "description_width": ""
          }
        },
        "cc3befcec1a04483830f6467c9719d87": {
          "model_module": "@jupyter-widgets/controls",
          "model_module_version": "1.5.0",
          "model_name": "HTMLModel",
          "state": {
            "_dom_classes": [],
            "_model_module": "@jupyter-widgets/controls",
            "_model_module_version": "1.5.0",
            "_model_name": "HTMLModel",
            "_view_count": null,
            "_view_module": "@jupyter-widgets/controls",
            "_view_module_version": "1.5.0",
            "_view_name": "HTMLView",
            "description": "",
            "description_tooltip": null,
            "layout": "IPY_MODEL_89852d7d83a44f93a681ad1d108c8dc3",
            "placeholder": "​",
            "style": "IPY_MODEL_53dd0bdb3e9548f2b820835abdb62581",
            "value": " 15.3k/15.3k [00:00&lt;00:00, 623kB/s]"
          }
        },
        "cd45529475c048a68a403ca294fc0939": {
          "model_module": "@jupyter-widgets/base",
          "model_module_version": "1.2.0",
          "model_name": "LayoutModel",
          "state": {
            "_model_module": "@jupyter-widgets/base",
            "_model_module_version": "1.2.0",
            "_model_name": "LayoutModel",
            "_view_count": null,
            "_view_module": "@jupyter-widgets/base",
            "_view_module_version": "1.2.0",
            "_view_name": "LayoutView",
            "align_content": null,
            "align_items": null,
            "align_self": null,
            "border": null,
            "bottom": null,
            "display": null,
            "flex": null,
            "flex_flow": null,
            "grid_area": null,
            "grid_auto_columns": null,
            "grid_auto_flow": null,
            "grid_auto_rows": null,
            "grid_column": null,
            "grid_gap": null,
            "grid_row": null,
            "grid_template_areas": null,
            "grid_template_columns": null,
            "grid_template_rows": null,
            "height": null,
            "justify_content": null,
            "justify_items": null,
            "left": null,
            "margin": null,
            "max_height": null,
            "max_width": null,
            "min_height": null,
            "min_width": null,
            "object_fit": null,
            "object_position": null,
            "order": null,
            "overflow": null,
            "overflow_x": null,
            "overflow_y": null,
            "padding": null,
            "right": null,
            "top": null,
            "visibility": null,
            "width": null
          }
        },
        "cd56a71eed0344fc9529804cc67c2ab3": {
          "model_module": "@jupyter-widgets/controls",
          "model_module_version": "1.5.0",
          "model_name": "FloatProgressModel",
          "state": {
            "_dom_classes": [],
            "_model_module": "@jupyter-widgets/controls",
            "_model_module_version": "1.5.0",
            "_model_name": "FloatProgressModel",
            "_view_count": null,
            "_view_module": "@jupyter-widgets/controls",
            "_view_module_version": "1.5.0",
            "_view_name": "ProgressView",
            "bar_style": "success",
            "description": "",
            "description_tooltip": null,
            "layout": "IPY_MODEL_e914de2a3fa04bbfa7d82692c2fe9be4",
            "max": 12771,
            "min": 0,
            "orientation": "horizontal",
            "style": "IPY_MODEL_1b0bc5a9cd0445be963b416df1baa62a",
            "value": 12771
          }
        },
        "ce85bc69cde34460879488642d641f15": {
          "model_module": "@jupyter-widgets/controls",
          "model_module_version": "1.5.0",
          "model_name": "HTMLModel",
          "state": {
            "_dom_classes": [],
            "_model_module": "@jupyter-widgets/controls",
            "_model_module_version": "1.5.0",
            "_model_name": "HTMLModel",
            "_view_count": null,
            "_view_module": "@jupyter-widgets/controls",
            "_view_module_version": "1.5.0",
            "_view_name": "HTMLView",
            "description": "",
            "description_tooltip": null,
            "layout": "IPY_MODEL_7d4df079adc54dffa9bfec5f8dcf0899",
            "placeholder": "​",
            "style": "IPY_MODEL_1019ad31e20343158c88fbe1879ba4c5",
            "value": " 466k/466k [00:00&lt;00:00, 7.17MB/s]"
          }
        },
        "cf79841fbdab4dbc988faae1f22cbbcb": {
          "model_module": "@jupyter-widgets/controls",
          "model_module_version": "1.5.0",
          "model_name": "FloatProgressModel",
          "state": {
            "_dom_classes": [],
            "_model_module": "@jupyter-widgets/controls",
            "_model_module_version": "1.5.0",
            "_model_name": "FloatProgressModel",
            "_view_count": null,
            "_view_module": "@jupyter-widgets/controls",
            "_view_module_version": "1.5.0",
            "_view_name": "ProgressView",
            "bar_style": "success",
            "description": "",
            "description_tooltip": null,
            "layout": "IPY_MODEL_b3b39fdf1f434256a33d92d5b3e4be49",
            "max": 3,
            "min": 0,
            "orientation": "horizontal",
            "style": "IPY_MODEL_2eddbc8299044d9495340fe7bdc719c0",
            "value": 3
          }
        },
        "d10c2859d1e145c289e3dd1298112c7d": {
          "model_module": "@jupyter-widgets/controls",
          "model_module_version": "1.5.0",
          "model_name": "DescriptionStyleModel",
          "state": {
            "_model_module": "@jupyter-widgets/controls",
            "_model_module_version": "1.5.0",
            "_model_name": "DescriptionStyleModel",
            "_view_count": null,
            "_view_module": "@jupyter-widgets/base",
            "_view_module_version": "1.2.0",
            "_view_name": "StyleView",
            "description_width": ""
          }
        },
        "d147594655d649fdbb7d97e97717215c": {
          "model_module": "@jupyter-widgets/base",
          "model_module_version": "1.2.0",
          "model_name": "LayoutModel",
          "state": {
            "_model_module": "@jupyter-widgets/base",
            "_model_module_version": "1.2.0",
            "_model_name": "LayoutModel",
            "_view_count": null,
            "_view_module": "@jupyter-widgets/base",
            "_view_module_version": "1.2.0",
            "_view_name": "LayoutView",
            "align_content": null,
            "align_items": null,
            "align_self": null,
            "border": null,
            "bottom": null,
            "display": null,
            "flex": null,
            "flex_flow": null,
            "grid_area": null,
            "grid_auto_columns": null,
            "grid_auto_flow": null,
            "grid_auto_rows": null,
            "grid_column": null,
            "grid_gap": null,
            "grid_row": null,
            "grid_template_areas": null,
            "grid_template_columns": null,
            "grid_template_rows": null,
            "height": null,
            "justify_content": null,
            "justify_items": null,
            "left": null,
            "margin": null,
            "max_height": null,
            "max_width": null,
            "min_height": null,
            "min_width": null,
            "object_fit": null,
            "object_position": null,
            "order": null,
            "overflow": null,
            "overflow_x": null,
            "overflow_y": null,
            "padding": null,
            "right": null,
            "top": null,
            "visibility": null,
            "width": null
          }
        },
        "d2baa20a237b414caa6216a920f41eed": {
          "model_module": "@jupyter-widgets/controls",
          "model_module_version": "1.5.0",
          "model_name": "ProgressStyleModel",
          "state": {
            "_model_module": "@jupyter-widgets/controls",
            "_model_module_version": "1.5.0",
            "_model_name": "ProgressStyleModel",
            "_view_count": null,
            "_view_module": "@jupyter-widgets/base",
            "_view_module_version": "1.2.0",
            "_view_name": "StyleView",
            "bar_color": null,
            "description_width": ""
          }
        },
        "d4ac121ba8c14cd1a30c8ad4bcf32af2": {
          "model_module": "@jupyter-widgets/base",
          "model_module_version": "1.2.0",
          "model_name": "LayoutModel",
          "state": {
            "_model_module": "@jupyter-widgets/base",
            "_model_module_version": "1.2.0",
            "_model_name": "LayoutModel",
            "_view_count": null,
            "_view_module": "@jupyter-widgets/base",
            "_view_module_version": "1.2.0",
            "_view_name": "LayoutView",
            "align_content": null,
            "align_items": null,
            "align_self": null,
            "border": null,
            "bottom": null,
            "display": null,
            "flex": null,
            "flex_flow": null,
            "grid_area": null,
            "grid_auto_columns": null,
            "grid_auto_flow": null,
            "grid_auto_rows": null,
            "grid_column": null,
            "grid_gap": null,
            "grid_row": null,
            "grid_template_areas": null,
            "grid_template_columns": null,
            "grid_template_rows": null,
            "height": null,
            "justify_content": null,
            "justify_items": null,
            "left": null,
            "margin": null,
            "max_height": null,
            "max_width": null,
            "min_height": null,
            "min_width": null,
            "object_fit": null,
            "object_position": null,
            "order": null,
            "overflow": null,
            "overflow_x": null,
            "overflow_y": null,
            "padding": null,
            "right": null,
            "top": null,
            "visibility": null,
            "width": null
          }
        },
        "d4ad0ee2a0074ef5bb8ae9c9b51b4f06": {
          "model_module": "@jupyter-widgets/base",
          "model_module_version": "1.2.0",
          "model_name": "LayoutModel",
          "state": {
            "_model_module": "@jupyter-widgets/base",
            "_model_module_version": "1.2.0",
            "_model_name": "LayoutModel",
            "_view_count": null,
            "_view_module": "@jupyter-widgets/base",
            "_view_module_version": "1.2.0",
            "_view_name": "LayoutView",
            "align_content": null,
            "align_items": null,
            "align_self": null,
            "border": null,
            "bottom": null,
            "display": null,
            "flex": null,
            "flex_flow": null,
            "grid_area": null,
            "grid_auto_columns": null,
            "grid_auto_flow": null,
            "grid_auto_rows": null,
            "grid_column": null,
            "grid_gap": null,
            "grid_row": null,
            "grid_template_areas": null,
            "grid_template_columns": null,
            "grid_template_rows": null,
            "height": null,
            "justify_content": null,
            "justify_items": null,
            "left": null,
            "margin": null,
            "max_height": null,
            "max_width": null,
            "min_height": null,
            "min_width": null,
            "object_fit": null,
            "object_position": null,
            "order": null,
            "overflow": null,
            "overflow_x": null,
            "overflow_y": null,
            "padding": null,
            "right": null,
            "top": null,
            "visibility": null,
            "width": null
          }
        },
        "d6f6e16c754241dfabf277fd4f93fa5a": {
          "model_module": "@jupyter-widgets/controls",
          "model_module_version": "1.5.0",
          "model_name": "HTMLModel",
          "state": {
            "_dom_classes": [],
            "_model_module": "@jupyter-widgets/controls",
            "_model_module_version": "1.5.0",
            "_model_name": "HTMLModel",
            "_view_count": null,
            "_view_module": "@jupyter-widgets/controls",
            "_view_module_version": "1.5.0",
            "_view_name": "HTMLView",
            "description": "",
            "description_tooltip": null,
            "layout": "IPY_MODEL_bee0252bad39423f8c6a7d4e42482441",
            "placeholder": "​",
            "style": "IPY_MODEL_103475edee7f4a6f99495524d46c394b",
            "value": "100%"
          }
        },
        "da0cd17dd2bb426e83bdebc9802da56b": {
          "model_module": "@jupyter-widgets/controls",
          "model_module_version": "1.5.0",
          "model_name": "HBoxModel",
          "state": {
            "_dom_classes": [],
            "_model_module": "@jupyter-widgets/controls",
            "_model_module_version": "1.5.0",
            "_model_name": "HBoxModel",
            "_view_count": null,
            "_view_module": "@jupyter-widgets/controls",
            "_view_module_version": "1.5.0",
            "_view_name": "HBoxView",
            "box_style": "",
            "children": [
              "IPY_MODEL_bab3ff2c7836471fb80f0db000bea0f3",
              "IPY_MODEL_36853e2a477a4cb795ca058b6b83745b",
              "IPY_MODEL_2a5273963b254cd0beacb1a45a3d108e"
            ],
            "layout": "IPY_MODEL_7f4ee35362ab44fcba786823e3079d70"
          }
        },
        "dae9ad81bc8348719277ba426375aaa1": {
          "model_module": "@jupyter-widgets/controls",
          "model_module_version": "1.5.0",
          "model_name": "HTMLModel",
          "state": {
            "_dom_classes": [],
            "_model_module": "@jupyter-widgets/controls",
            "_model_module_version": "1.5.0",
            "_model_name": "HTMLModel",
            "_view_count": null,
            "_view_module": "@jupyter-widgets/controls",
            "_view_module_version": "1.5.0",
            "_view_name": "HTMLView",
            "description": "",
            "description_tooltip": null,
            "layout": "IPY_MODEL_78fa692c81924b4fb6135a40adfe477c",
            "placeholder": "​",
            "style": "IPY_MODEL_1577e87bd5a5465e9ee565dd31b57859",
            "value": "Generating test split:  98%"
          }
        },
        "dd62e32ea38f4029a93eea5be59a0e73": {
          "model_module": "@jupyter-widgets/controls",
          "model_module_version": "1.5.0",
          "model_name": "HTMLModel",
          "state": {
            "_dom_classes": [],
            "_model_module": "@jupyter-widgets/controls",
            "_model_module_version": "1.5.0",
            "_model_name": "HTMLModel",
            "_view_count": null,
            "_view_module": "@jupyter-widgets/controls",
            "_view_module_version": "1.5.0",
            "_view_name": "HTMLView",
            "description": "",
            "description_tooltip": null,
            "layout": "IPY_MODEL_b52253590b474dec9efc41f35d09ed55",
            "placeholder": "​",
            "style": "IPY_MODEL_e6a1297b8c2a4a8b858c0ce58de20299",
            "value": "Downloading (…)&quot;pytorch_model.bin&quot;;: 100%"
          }
        },
        "dd888482e5fb4101a2a7e2f195846dc7": {
          "model_module": "@jupyter-widgets/controls",
          "model_module_version": "1.5.0",
          "model_name": "FloatProgressModel",
          "state": {
            "_dom_classes": [],
            "_model_module": "@jupyter-widgets/controls",
            "_model_module_version": "1.5.0",
            "_model_name": "FloatProgressModel",
            "_view_count": null,
            "_view_module": "@jupyter-widgets/controls",
            "_view_module_version": "1.5.0",
            "_view_name": "ProgressView",
            "bar_style": "success",
            "description": "",
            "description_tooltip": null,
            "layout": "IPY_MODEL_d4ac121ba8c14cd1a30c8ad4bcf32af2",
            "max": 15334,
            "min": 0,
            "orientation": "horizontal",
            "style": "IPY_MODEL_fec6a02e4d84487e88ec6f33d33eac07",
            "value": 15334
          }
        },
        "de098107777740fd8d3d2a06e0ea37ce": {
          "model_module": "@jupyter-widgets/controls",
          "model_module_version": "1.5.0",
          "model_name": "FloatProgressModel",
          "state": {
            "_dom_classes": [],
            "_model_module": "@jupyter-widgets/controls",
            "_model_module_version": "1.5.0",
            "_model_name": "FloatProgressModel",
            "_view_count": null,
            "_view_module": "@jupyter-widgets/controls",
            "_view_module_version": "1.5.0",
            "_view_name": "ProgressView",
            "bar_style": "success",
            "description": "",
            "description_tooltip": null,
            "layout": "IPY_MODEL_a5dd8e5f6e1345778908caf5d38de4e3",
            "max": 3,
            "min": 0,
            "orientation": "horizontal",
            "style": "IPY_MODEL_85a5fef0860946598d891bbf8fb10248",
            "value": 3
          }
        },
        "de4153923471408880b934554b2dcb54": {
          "model_module": "@jupyter-widgets/base",
          "model_module_version": "1.2.0",
          "model_name": "LayoutModel",
          "state": {
            "_model_module": "@jupyter-widgets/base",
            "_model_module_version": "1.2.0",
            "_model_name": "LayoutModel",
            "_view_count": null,
            "_view_module": "@jupyter-widgets/base",
            "_view_module_version": "1.2.0",
            "_view_name": "LayoutView",
            "align_content": null,
            "align_items": null,
            "align_self": null,
            "border": null,
            "bottom": null,
            "display": null,
            "flex": null,
            "flex_flow": null,
            "grid_area": null,
            "grid_auto_columns": null,
            "grid_auto_flow": null,
            "grid_auto_rows": null,
            "grid_column": null,
            "grid_gap": null,
            "grid_row": null,
            "grid_template_areas": null,
            "grid_template_columns": null,
            "grid_template_rows": null,
            "height": null,
            "justify_content": null,
            "justify_items": null,
            "left": null,
            "margin": null,
            "max_height": null,
            "max_width": null,
            "min_height": null,
            "min_width": null,
            "object_fit": null,
            "object_position": null,
            "order": null,
            "overflow": null,
            "overflow_x": null,
            "overflow_y": null,
            "padding": null,
            "right": null,
            "top": null,
            "visibility": null,
            "width": null
          }
        },
        "de97cb27f02341efbb46fbb4b4de3898": {
          "model_module": "@jupyter-widgets/controls",
          "model_module_version": "1.5.0",
          "model_name": "DescriptionStyleModel",
          "state": {
            "_model_module": "@jupyter-widgets/controls",
            "_model_module_version": "1.5.0",
            "_model_name": "DescriptionStyleModel",
            "_view_count": null,
            "_view_module": "@jupyter-widgets/base",
            "_view_module_version": "1.2.0",
            "_view_name": "StyleView",
            "description_width": ""
          }
        },
        "e06dbd73c16743b384dfb4dfe0bdd4bb": {
          "model_module": "@jupyter-widgets/controls",
          "model_module_version": "1.5.0",
          "model_name": "FloatProgressModel",
          "state": {
            "_dom_classes": [],
            "_model_module": "@jupyter-widgets/controls",
            "_model_module_version": "1.5.0",
            "_model_name": "FloatProgressModel",
            "_view_count": null,
            "_view_module": "@jupyter-widgets/controls",
            "_view_module_version": "1.5.0",
            "_view_name": "ProgressView",
            "bar_style": "",
            "description": "",
            "description_tooltip": null,
            "layout": "IPY_MODEL_7f01fbd9d5d941c492969aa83fd59322",
            "max": 1753,
            "min": 0,
            "orientation": "horizontal",
            "style": "IPY_MODEL_7c18c72480a345ada47e8fef8795c801",
            "value": 1753
          }
        },
        "e2ef4746d4bd4a1099548196f3b7ab94": {
          "model_module": "@jupyter-widgets/base",
          "model_module_version": "1.2.0",
          "model_name": "LayoutModel",
          "state": {
            "_model_module": "@jupyter-widgets/base",
            "_model_module_version": "1.2.0",
            "_model_name": "LayoutModel",
            "_view_count": null,
            "_view_module": "@jupyter-widgets/base",
            "_view_module_version": "1.2.0",
            "_view_name": "LayoutView",
            "align_content": null,
            "align_items": null,
            "align_self": null,
            "border": null,
            "bottom": null,
            "display": null,
            "flex": null,
            "flex_flow": null,
            "grid_area": null,
            "grid_auto_columns": null,
            "grid_auto_flow": null,
            "grid_auto_rows": null,
            "grid_column": null,
            "grid_gap": null,
            "grid_row": null,
            "grid_template_areas": null,
            "grid_template_columns": null,
            "grid_template_rows": null,
            "height": null,
            "justify_content": null,
            "justify_items": null,
            "left": null,
            "margin": null,
            "max_height": null,
            "max_width": null,
            "min_height": null,
            "min_width": null,
            "object_fit": null,
            "object_position": null,
            "order": null,
            "overflow": null,
            "overflow_x": null,
            "overflow_y": null,
            "padding": null,
            "right": null,
            "top": null,
            "visibility": null,
            "width": null
          }
        },
        "e3f1747dbd694cefa89e8ec235564d1f": {
          "model_module": "@jupyter-widgets/controls",
          "model_module_version": "1.5.0",
          "model_name": "FloatProgressModel",
          "state": {
            "_dom_classes": [],
            "_model_module": "@jupyter-widgets/controls",
            "_model_module_version": "1.5.0",
            "_model_name": "FloatProgressModel",
            "_view_count": null,
            "_view_module": "@jupyter-widgets/controls",
            "_view_module_version": "1.5.0",
            "_view_name": "ProgressView",
            "bar_style": "success",
            "description": "",
            "description_tooltip": null,
            "layout": "IPY_MODEL_02e4b5eff1ee48ebae9880cfff01b354",
            "max": 231508,
            "min": 0,
            "orientation": "horizontal",
            "style": "IPY_MODEL_04af52f0c9c14ca084145c5536d31165",
            "value": 231508
          }
        },
        "e4100fb0dcf74ebdb301e0a203402a27": {
          "model_module": "@jupyter-widgets/controls",
          "model_module_version": "1.5.0",
          "model_name": "DescriptionStyleModel",
          "state": {
            "_model_module": "@jupyter-widgets/controls",
            "_model_module_version": "1.5.0",
            "_model_name": "DescriptionStyleModel",
            "_view_count": null,
            "_view_module": "@jupyter-widgets/base",
            "_view_module_version": "1.2.0",
            "_view_name": "StyleView",
            "description_width": ""
          }
        },
        "e47f2907a7034f58bc4752b101e3894d": {
          "model_module": "@jupyter-widgets/controls",
          "model_module_version": "1.5.0",
          "model_name": "DescriptionStyleModel",
          "state": {
            "_model_module": "@jupyter-widgets/controls",
            "_model_module_version": "1.5.0",
            "_model_name": "DescriptionStyleModel",
            "_view_count": null,
            "_view_module": "@jupyter-widgets/base",
            "_view_module_version": "1.2.0",
            "_view_name": "StyleView",
            "description_width": ""
          }
        },
        "e663dc95408e4392a97ce74ba9d79702": {
          "model_module": "@jupyter-widgets/controls",
          "model_module_version": "1.5.0",
          "model_name": "DescriptionStyleModel",
          "state": {
            "_model_module": "@jupyter-widgets/controls",
            "_model_module_version": "1.5.0",
            "_model_name": "DescriptionStyleModel",
            "_view_count": null,
            "_view_module": "@jupyter-widgets/base",
            "_view_module_version": "1.2.0",
            "_view_name": "StyleView",
            "description_width": ""
          }
        },
        "e6a1297b8c2a4a8b858c0ce58de20299": {
          "model_module": "@jupyter-widgets/controls",
          "model_module_version": "1.5.0",
          "model_name": "DescriptionStyleModel",
          "state": {
            "_model_module": "@jupyter-widgets/controls",
            "_model_module_version": "1.5.0",
            "_model_name": "DescriptionStyleModel",
            "_view_count": null,
            "_view_module": "@jupyter-widgets/base",
            "_view_module_version": "1.2.0",
            "_view_name": "StyleView",
            "description_width": ""
          }
        },
        "e76faaa9f46e40d98c77319e90af8d3c": {
          "model_module": "@jupyter-widgets/base",
          "model_module_version": "1.2.0",
          "model_name": "LayoutModel",
          "state": {
            "_model_module": "@jupyter-widgets/base",
            "_model_module_version": "1.2.0",
            "_model_name": "LayoutModel",
            "_view_count": null,
            "_view_module": "@jupyter-widgets/base",
            "_view_module_version": "1.2.0",
            "_view_name": "LayoutView",
            "align_content": null,
            "align_items": null,
            "align_self": null,
            "border": null,
            "bottom": null,
            "display": null,
            "flex": null,
            "flex_flow": null,
            "grid_area": null,
            "grid_auto_columns": null,
            "grid_auto_flow": null,
            "grid_auto_rows": null,
            "grid_column": null,
            "grid_gap": null,
            "grid_row": null,
            "grid_template_areas": null,
            "grid_template_columns": null,
            "grid_template_rows": null,
            "height": null,
            "justify_content": null,
            "justify_items": null,
            "left": null,
            "margin": null,
            "max_height": null,
            "max_width": null,
            "min_height": null,
            "min_width": null,
            "object_fit": null,
            "object_position": null,
            "order": null,
            "overflow": null,
            "overflow_x": null,
            "overflow_y": null,
            "padding": null,
            "right": null,
            "top": null,
            "visibility": null,
            "width": null
          }
        },
        "e89bacb48fc84ef4810b94f79ddf2184": {
          "model_module": "@jupyter-widgets/base",
          "model_module_version": "1.2.0",
          "model_name": "LayoutModel",
          "state": {
            "_model_module": "@jupyter-widgets/base",
            "_model_module_version": "1.2.0",
            "_model_name": "LayoutModel",
            "_view_count": null,
            "_view_module": "@jupyter-widgets/base",
            "_view_module_version": "1.2.0",
            "_view_name": "LayoutView",
            "align_content": null,
            "align_items": null,
            "align_self": null,
            "border": null,
            "bottom": null,
            "display": null,
            "flex": null,
            "flex_flow": null,
            "grid_area": null,
            "grid_auto_columns": null,
            "grid_auto_flow": null,
            "grid_auto_rows": null,
            "grid_column": null,
            "grid_gap": null,
            "grid_row": null,
            "grid_template_areas": null,
            "grid_template_columns": null,
            "grid_template_rows": null,
            "height": null,
            "justify_content": null,
            "justify_items": null,
            "left": null,
            "margin": null,
            "max_height": null,
            "max_width": null,
            "min_height": null,
            "min_width": null,
            "object_fit": null,
            "object_position": null,
            "order": null,
            "overflow": null,
            "overflow_x": null,
            "overflow_y": null,
            "padding": null,
            "right": null,
            "top": null,
            "visibility": null,
            "width": null
          }
        },
        "e8d594ce93f14a5193c483fc76ebd29f": {
          "model_module": "@jupyter-widgets/controls",
          "model_module_version": "1.5.0",
          "model_name": "HBoxModel",
          "state": {
            "_dom_classes": [],
            "_model_module": "@jupyter-widgets/controls",
            "_model_module_version": "1.5.0",
            "_model_name": "HBoxModel",
            "_view_count": null,
            "_view_module": "@jupyter-widgets/controls",
            "_view_module_version": "1.5.0",
            "_view_name": "HBoxView",
            "box_style": "",
            "children": [
              "IPY_MODEL_a75af09958124c858238fcc4bda290ef",
              "IPY_MODEL_4e525c35aca948a981bf700ab2b072ac",
              "IPY_MODEL_b8bfecf98b5b46de9d61bff8f88aec3e"
            ],
            "layout": "IPY_MODEL_2a220df9c306493ba70fd36f78f7985c"
          }
        },
        "e914de2a3fa04bbfa7d82692c2fe9be4": {
          "model_module": "@jupyter-widgets/base",
          "model_module_version": "1.2.0",
          "model_name": "LayoutModel",
          "state": {
            "_model_module": "@jupyter-widgets/base",
            "_model_module_version": "1.2.0",
            "_model_name": "LayoutModel",
            "_view_count": null,
            "_view_module": "@jupyter-widgets/base",
            "_view_module_version": "1.2.0",
            "_view_name": "LayoutView",
            "align_content": null,
            "align_items": null,
            "align_self": null,
            "border": null,
            "bottom": null,
            "display": null,
            "flex": null,
            "flex_flow": null,
            "grid_area": null,
            "grid_auto_columns": null,
            "grid_auto_flow": null,
            "grid_auto_rows": null,
            "grid_column": null,
            "grid_gap": null,
            "grid_row": null,
            "grid_template_areas": null,
            "grid_template_columns": null,
            "grid_template_rows": null,
            "height": null,
            "justify_content": null,
            "justify_items": null,
            "left": null,
            "margin": null,
            "max_height": null,
            "max_width": null,
            "min_height": null,
            "min_width": null,
            "object_fit": null,
            "object_position": null,
            "order": null,
            "overflow": null,
            "overflow_x": null,
            "overflow_y": null,
            "padding": null,
            "right": null,
            "top": null,
            "visibility": null,
            "width": null
          }
        },
        "eb41e085b4ef4485a8da598250bfef5c": {
          "model_module": "@jupyter-widgets/controls",
          "model_module_version": "1.5.0",
          "model_name": "HTMLModel",
          "state": {
            "_dom_classes": [],
            "_model_module": "@jupyter-widgets/controls",
            "_model_module_version": "1.5.0",
            "_model_name": "HTMLModel",
            "_view_count": null,
            "_view_module": "@jupyter-widgets/controls",
            "_view_module_version": "1.5.0",
            "_view_name": "HTMLView",
            "description": "",
            "description_tooltip": null,
            "layout": "IPY_MODEL_f3350fe5a93f498eaea2350227e33e8b",
            "placeholder": "​",
            "style": "IPY_MODEL_20e2517f1c604e2d88800923ab320dbf",
            "value": "Downloading data: 100%"
          }
        },
        "ebd31513c6dd47d89a435deece5314e5": {
          "model_module": "@jupyter-widgets/controls",
          "model_module_version": "1.5.0",
          "model_name": "HBoxModel",
          "state": {
            "_dom_classes": [],
            "_model_module": "@jupyter-widgets/controls",
            "_model_module_version": "1.5.0",
            "_model_name": "HBoxModel",
            "_view_count": null,
            "_view_module": "@jupyter-widgets/controls",
            "_view_module_version": "1.5.0",
            "_view_name": "HBoxView",
            "box_style": "",
            "children": [
              "IPY_MODEL_3bc74fe2aec74cd8a5caab422583d393",
              "IPY_MODEL_e3f1747dbd694cefa89e8ec235564d1f",
              "IPY_MODEL_820330f3ca834d959adcd1aa12dd41a3"
            ],
            "layout": "IPY_MODEL_f069073bae37412196fa66d29b8aa6cf"
          }
        },
        "ecbb9da9fa974346a0327e542225079f": {
          "model_module": "@jupyter-widgets/controls",
          "model_module_version": "1.5.0",
          "model_name": "DescriptionStyleModel",
          "state": {
            "_model_module": "@jupyter-widgets/controls",
            "_model_module_version": "1.5.0",
            "_model_name": "DescriptionStyleModel",
            "_view_count": null,
            "_view_module": "@jupyter-widgets/base",
            "_view_module_version": "1.2.0",
            "_view_name": "StyleView",
            "description_width": ""
          }
        },
        "ed8cfda08fa040b0929987094db57ade": {
          "model_module": "@jupyter-widgets/controls",
          "model_module_version": "1.5.0",
          "model_name": "FloatProgressModel",
          "state": {
            "_dom_classes": [],
            "_model_module": "@jupyter-widgets/controls",
            "_model_module_version": "1.5.0",
            "_model_name": "FloatProgressModel",
            "_view_count": null,
            "_view_module": "@jupyter-widgets/controls",
            "_view_module_version": "1.5.0",
            "_view_name": "ProgressView",
            "bar_style": "success",
            "description": "",
            "description_tooltip": null,
            "layout": "IPY_MODEL_de4153923471408880b934554b2dcb54",
            "max": 440473133,
            "min": 0,
            "orientation": "horizontal",
            "style": "IPY_MODEL_fdb2df8fcc3c4a87839197a45b33e12f",
            "value": 440473133
          }
        },
        "ef494d7929c44bdcb0eff1838116048f": {
          "model_module": "@jupyter-widgets/base",
          "model_module_version": "1.2.0",
          "model_name": "LayoutModel",
          "state": {
            "_model_module": "@jupyter-widgets/base",
            "_model_module_version": "1.2.0",
            "_model_name": "LayoutModel",
            "_view_count": null,
            "_view_module": "@jupyter-widgets/base",
            "_view_module_version": "1.2.0",
            "_view_name": "LayoutView",
            "align_content": null,
            "align_items": null,
            "align_self": null,
            "border": null,
            "bottom": null,
            "display": null,
            "flex": null,
            "flex_flow": null,
            "grid_area": null,
            "grid_auto_columns": null,
            "grid_auto_flow": null,
            "grid_auto_rows": null,
            "grid_column": null,
            "grid_gap": null,
            "grid_row": null,
            "grid_template_areas": null,
            "grid_template_columns": null,
            "grid_template_rows": null,
            "height": null,
            "justify_content": null,
            "justify_items": null,
            "left": null,
            "margin": null,
            "max_height": null,
            "max_width": null,
            "min_height": null,
            "min_width": null,
            "object_fit": null,
            "object_position": null,
            "order": null,
            "overflow": null,
            "overflow_x": null,
            "overflow_y": null,
            "padding": null,
            "right": null,
            "top": null,
            "visibility": null,
            "width": null
          }
        },
        "f069073bae37412196fa66d29b8aa6cf": {
          "model_module": "@jupyter-widgets/base",
          "model_module_version": "1.2.0",
          "model_name": "LayoutModel",
          "state": {
            "_model_module": "@jupyter-widgets/base",
            "_model_module_version": "1.2.0",
            "_model_name": "LayoutModel",
            "_view_count": null,
            "_view_module": "@jupyter-widgets/base",
            "_view_module_version": "1.2.0",
            "_view_name": "LayoutView",
            "align_content": null,
            "align_items": null,
            "align_self": null,
            "border": null,
            "bottom": null,
            "display": null,
            "flex": null,
            "flex_flow": null,
            "grid_area": null,
            "grid_auto_columns": null,
            "grid_auto_flow": null,
            "grid_auto_rows": null,
            "grid_column": null,
            "grid_gap": null,
            "grid_row": null,
            "grid_template_areas": null,
            "grid_template_columns": null,
            "grid_template_rows": null,
            "height": null,
            "justify_content": null,
            "justify_items": null,
            "left": null,
            "margin": null,
            "max_height": null,
            "max_width": null,
            "min_height": null,
            "min_width": null,
            "object_fit": null,
            "object_position": null,
            "order": null,
            "overflow": null,
            "overflow_x": null,
            "overflow_y": null,
            "padding": null,
            "right": null,
            "top": null,
            "visibility": null,
            "width": null
          }
        },
        "f3350fe5a93f498eaea2350227e33e8b": {
          "model_module": "@jupyter-widgets/base",
          "model_module_version": "1.2.0",
          "model_name": "LayoutModel",
          "state": {
            "_model_module": "@jupyter-widgets/base",
            "_model_module_version": "1.2.0",
            "_model_name": "LayoutModel",
            "_view_count": null,
            "_view_module": "@jupyter-widgets/base",
            "_view_module_version": "1.2.0",
            "_view_name": "LayoutView",
            "align_content": null,
            "align_items": null,
            "align_self": null,
            "border": null,
            "bottom": null,
            "display": null,
            "flex": null,
            "flex_flow": null,
            "grid_area": null,
            "grid_auto_columns": null,
            "grid_auto_flow": null,
            "grid_auto_rows": null,
            "grid_column": null,
            "grid_gap": null,
            "grid_row": null,
            "grid_template_areas": null,
            "grid_template_columns": null,
            "grid_template_rows": null,
            "height": null,
            "justify_content": null,
            "justify_items": null,
            "left": null,
            "margin": null,
            "max_height": null,
            "max_width": null,
            "min_height": null,
            "min_width": null,
            "object_fit": null,
            "object_position": null,
            "order": null,
            "overflow": null,
            "overflow_x": null,
            "overflow_y": null,
            "padding": null,
            "right": null,
            "top": null,
            "visibility": null,
            "width": null
          }
        },
        "f5c03a8ebfc04b89b2ed01da296f4246": {
          "model_module": "@jupyter-widgets/base",
          "model_module_version": "1.2.0",
          "model_name": "LayoutModel",
          "state": {
            "_model_module": "@jupyter-widgets/base",
            "_model_module_version": "1.2.0",
            "_model_name": "LayoutModel",
            "_view_count": null,
            "_view_module": "@jupyter-widgets/base",
            "_view_module_version": "1.2.0",
            "_view_name": "LayoutView",
            "align_content": null,
            "align_items": null,
            "align_self": null,
            "border": null,
            "bottom": null,
            "display": null,
            "flex": null,
            "flex_flow": null,
            "grid_area": null,
            "grid_auto_columns": null,
            "grid_auto_flow": null,
            "grid_auto_rows": null,
            "grid_column": null,
            "grid_gap": null,
            "grid_row": null,
            "grid_template_areas": null,
            "grid_template_columns": null,
            "grid_template_rows": null,
            "height": null,
            "justify_content": null,
            "justify_items": null,
            "left": null,
            "margin": null,
            "max_height": null,
            "max_width": null,
            "min_height": null,
            "min_width": null,
            "object_fit": null,
            "object_position": null,
            "order": null,
            "overflow": null,
            "overflow_x": null,
            "overflow_y": null,
            "padding": null,
            "right": null,
            "top": null,
            "visibility": null,
            "width": null
          }
        },
        "f995efcf6eac4203b674f42a81abe859": {
          "model_module": "@jupyter-widgets/base",
          "model_module_version": "1.2.0",
          "model_name": "LayoutModel",
          "state": {
            "_model_module": "@jupyter-widgets/base",
            "_model_module_version": "1.2.0",
            "_model_name": "LayoutModel",
            "_view_count": null,
            "_view_module": "@jupyter-widgets/base",
            "_view_module_version": "1.2.0",
            "_view_name": "LayoutView",
            "align_content": null,
            "align_items": null,
            "align_self": null,
            "border": null,
            "bottom": null,
            "display": null,
            "flex": null,
            "flex_flow": null,
            "grid_area": null,
            "grid_auto_columns": null,
            "grid_auto_flow": null,
            "grid_auto_rows": null,
            "grid_column": null,
            "grid_gap": null,
            "grid_row": null,
            "grid_template_areas": null,
            "grid_template_columns": null,
            "grid_template_rows": null,
            "height": null,
            "justify_content": null,
            "justify_items": null,
            "left": null,
            "margin": null,
            "max_height": null,
            "max_width": null,
            "min_height": null,
            "min_width": null,
            "object_fit": null,
            "object_position": null,
            "order": null,
            "overflow": null,
            "overflow_x": null,
            "overflow_y": null,
            "padding": null,
            "right": null,
            "top": null,
            "visibility": null,
            "width": null
          }
        },
        "fa778206e5bc4a2987d3169ffe97fdb5": {
          "model_module": "@jupyter-widgets/controls",
          "model_module_version": "1.5.0",
          "model_name": "HTMLModel",
          "state": {
            "_dom_classes": [],
            "_model_module": "@jupyter-widgets/controls",
            "_model_module_version": "1.5.0",
            "_model_name": "HTMLModel",
            "_view_count": null,
            "_view_module": "@jupyter-widgets/controls",
            "_view_module_version": "1.5.0",
            "_view_name": "HTMLView",
            "description": "",
            "description_tooltip": null,
            "layout": "IPY_MODEL_87d06a2d582e43128df5ed7ce746e69b",
            "placeholder": "​",
            "style": "IPY_MODEL_c2dbfdb2f72a4f2ebc54517dc87566f3",
            "value": " 1709/1753 [00:01&lt;00:00, 1454.06 examples/s]"
          }
        },
        "fab19bce87904de29b76bf6d1fdac918": {
          "model_module": "@jupyter-widgets/base",
          "model_module_version": "1.2.0",
          "model_name": "LayoutModel",
          "state": {
            "_model_module": "@jupyter-widgets/base",
            "_model_module_version": "1.2.0",
            "_model_name": "LayoutModel",
            "_view_count": null,
            "_view_module": "@jupyter-widgets/base",
            "_view_module_version": "1.2.0",
            "_view_name": "LayoutView",
            "align_content": null,
            "align_items": null,
            "align_self": null,
            "border": null,
            "bottom": null,
            "display": null,
            "flex": null,
            "flex_flow": null,
            "grid_area": null,
            "grid_auto_columns": null,
            "grid_auto_flow": null,
            "grid_auto_rows": null,
            "grid_column": null,
            "grid_gap": null,
            "grid_row": null,
            "grid_template_areas": null,
            "grid_template_columns": null,
            "grid_template_rows": null,
            "height": null,
            "justify_content": null,
            "justify_items": null,
            "left": null,
            "margin": null,
            "max_height": null,
            "max_width": null,
            "min_height": null,
            "min_width": null,
            "object_fit": null,
            "object_position": null,
            "order": null,
            "overflow": null,
            "overflow_x": null,
            "overflow_y": null,
            "padding": null,
            "right": null,
            "top": null,
            "visibility": null,
            "width": null
          }
        },
        "fdb2df8fcc3c4a87839197a45b33e12f": {
          "model_module": "@jupyter-widgets/controls",
          "model_module_version": "1.5.0",
          "model_name": "ProgressStyleModel",
          "state": {
            "_model_module": "@jupyter-widgets/controls",
            "_model_module_version": "1.5.0",
            "_model_name": "ProgressStyleModel",
            "_view_count": null,
            "_view_module": "@jupyter-widgets/base",
            "_view_module_version": "1.2.0",
            "_view_name": "StyleView",
            "bar_color": null,
            "description_width": ""
          }
        },
        "fea7ca2ab7254ff698925926617f3140": {
          "model_module": "@jupyter-widgets/base",
          "model_module_version": "1.2.0",
          "model_name": "LayoutModel",
          "state": {
            "_model_module": "@jupyter-widgets/base",
            "_model_module_version": "1.2.0",
            "_model_name": "LayoutModel",
            "_view_count": null,
            "_view_module": "@jupyter-widgets/base",
            "_view_module_version": "1.2.0",
            "_view_name": "LayoutView",
            "align_content": null,
            "align_items": null,
            "align_self": null,
            "border": null,
            "bottom": null,
            "display": null,
            "flex": null,
            "flex_flow": null,
            "grid_area": null,
            "grid_auto_columns": null,
            "grid_auto_flow": null,
            "grid_auto_rows": null,
            "grid_column": null,
            "grid_gap": null,
            "grid_row": null,
            "grid_template_areas": null,
            "grid_template_columns": null,
            "grid_template_rows": null,
            "height": null,
            "justify_content": null,
            "justify_items": null,
            "left": null,
            "margin": null,
            "max_height": null,
            "max_width": null,
            "min_height": null,
            "min_width": null,
            "object_fit": null,
            "object_position": null,
            "order": null,
            "overflow": null,
            "overflow_x": null,
            "overflow_y": null,
            "padding": null,
            "right": null,
            "top": null,
            "visibility": null,
            "width": null
          }
        },
        "fec6a02e4d84487e88ec6f33d33eac07": {
          "model_module": "@jupyter-widgets/controls",
          "model_module_version": "1.5.0",
          "model_name": "ProgressStyleModel",
          "state": {
            "_model_module": "@jupyter-widgets/controls",
            "_model_module_version": "1.5.0",
            "_model_name": "ProgressStyleModel",
            "_view_count": null,
            "_view_module": "@jupyter-widgets/base",
            "_view_module_version": "1.2.0",
            "_view_name": "StyleView",
            "bar_color": null,
            "description_width": ""
          }
        },
        "8f22ed62ba60483eaa9ad1b1ca817f57": {
          "model_module": "@jupyter-widgets/controls",
          "model_name": "HBoxModel",
          "model_module_version": "1.5.0",
          "state": {
            "_dom_classes": [],
            "_model_module": "@jupyter-widgets/controls",
            "_model_module_version": "1.5.0",
            "_model_name": "HBoxModel",
            "_view_count": null,
            "_view_module": "@jupyter-widgets/controls",
            "_view_module_version": "1.5.0",
            "_view_name": "HBoxView",
            "box_style": "",
            "children": [
              "IPY_MODEL_4ebf7cfbe39e44c0bffdef7be85bb5ca",
              "IPY_MODEL_78a6791e184248ec96c7550aac385e68",
              "IPY_MODEL_a22b1fff1aa84b3b8a838b1f3851d308"
            ],
            "layout": "IPY_MODEL_a9c96ec57a284d61bd09cbc944edc1a2"
          }
        },
        "4ebf7cfbe39e44c0bffdef7be85bb5ca": {
          "model_module": "@jupyter-widgets/controls",
          "model_name": "HTMLModel",
          "model_module_version": "1.5.0",
          "state": {
            "_dom_classes": [],
            "_model_module": "@jupyter-widgets/controls",
            "_model_module_version": "1.5.0",
            "_model_name": "HTMLModel",
            "_view_count": null,
            "_view_module": "@jupyter-widgets/controls",
            "_view_module_version": "1.5.0",
            "_view_name": "HTMLView",
            "description": "",
            "description_tooltip": null,
            "layout": "IPY_MODEL_07421fbd01a34de2b2de16997ef0662b",
            "placeholder": "​",
            "style": "IPY_MODEL_2b6500c8bcbd41ea862db884687e9d18",
            "value": "100%"
          }
        },
        "78a6791e184248ec96c7550aac385e68": {
          "model_module": "@jupyter-widgets/controls",
          "model_name": "FloatProgressModel",
          "model_module_version": "1.5.0",
          "state": {
            "_dom_classes": [],
            "_model_module": "@jupyter-widgets/controls",
            "_model_module_version": "1.5.0",
            "_model_name": "FloatProgressModel",
            "_view_count": null,
            "_view_module": "@jupyter-widgets/controls",
            "_view_module_version": "1.5.0",
            "_view_name": "ProgressView",
            "bar_style": "success",
            "description": "",
            "description_tooltip": null,
            "layout": "IPY_MODEL_76c89178f34847429b5c93724d15992e",
            "max": 3,
            "min": 0,
            "orientation": "horizontal",
            "style": "IPY_MODEL_fc5e4f939d2c4ad0a000dce810aea4c3",
            "value": 3
          }
        },
        "a22b1fff1aa84b3b8a838b1f3851d308": {
          "model_module": "@jupyter-widgets/controls",
          "model_name": "HTMLModel",
          "model_module_version": "1.5.0",
          "state": {
            "_dom_classes": [],
            "_model_module": "@jupyter-widgets/controls",
            "_model_module_version": "1.5.0",
            "_model_name": "HTMLModel",
            "_view_count": null,
            "_view_module": "@jupyter-widgets/controls",
            "_view_module_version": "1.5.0",
            "_view_name": "HTMLView",
            "description": "",
            "description_tooltip": null,
            "layout": "IPY_MODEL_c923cc213a2843ffa1d2482ee4af5dd1",
            "placeholder": "​",
            "style": "IPY_MODEL_7e2e1e7d934e4ff4966c5661628239b5",
            "value": " 3/3 [00:00&lt;00:00,  7.96it/s]"
          }
        },
        "a9c96ec57a284d61bd09cbc944edc1a2": {
          "model_module": "@jupyter-widgets/base",
          "model_name": "LayoutModel",
          "model_module_version": "1.2.0",
          "state": {
            "_model_module": "@jupyter-widgets/base",
            "_model_module_version": "1.2.0",
            "_model_name": "LayoutModel",
            "_view_count": null,
            "_view_module": "@jupyter-widgets/base",
            "_view_module_version": "1.2.0",
            "_view_name": "LayoutView",
            "align_content": null,
            "align_items": null,
            "align_self": null,
            "border": null,
            "bottom": null,
            "display": null,
            "flex": null,
            "flex_flow": null,
            "grid_area": null,
            "grid_auto_columns": null,
            "grid_auto_flow": null,
            "grid_auto_rows": null,
            "grid_column": null,
            "grid_gap": null,
            "grid_row": null,
            "grid_template_areas": null,
            "grid_template_columns": null,
            "grid_template_rows": null,
            "height": null,
            "justify_content": null,
            "justify_items": null,
            "left": null,
            "margin": null,
            "max_height": null,
            "max_width": null,
            "min_height": null,
            "min_width": null,
            "object_fit": null,
            "object_position": null,
            "order": null,
            "overflow": null,
            "overflow_x": null,
            "overflow_y": null,
            "padding": null,
            "right": null,
            "top": null,
            "visibility": null,
            "width": null
          }
        },
        "07421fbd01a34de2b2de16997ef0662b": {
          "model_module": "@jupyter-widgets/base",
          "model_name": "LayoutModel",
          "model_module_version": "1.2.0",
          "state": {
            "_model_module": "@jupyter-widgets/base",
            "_model_module_version": "1.2.0",
            "_model_name": "LayoutModel",
            "_view_count": null,
            "_view_module": "@jupyter-widgets/base",
            "_view_module_version": "1.2.0",
            "_view_name": "LayoutView",
            "align_content": null,
            "align_items": null,
            "align_self": null,
            "border": null,
            "bottom": null,
            "display": null,
            "flex": null,
            "flex_flow": null,
            "grid_area": null,
            "grid_auto_columns": null,
            "grid_auto_flow": null,
            "grid_auto_rows": null,
            "grid_column": null,
            "grid_gap": null,
            "grid_row": null,
            "grid_template_areas": null,
            "grid_template_columns": null,
            "grid_template_rows": null,
            "height": null,
            "justify_content": null,
            "justify_items": null,
            "left": null,
            "margin": null,
            "max_height": null,
            "max_width": null,
            "min_height": null,
            "min_width": null,
            "object_fit": null,
            "object_position": null,
            "order": null,
            "overflow": null,
            "overflow_x": null,
            "overflow_y": null,
            "padding": null,
            "right": null,
            "top": null,
            "visibility": null,
            "width": null
          }
        },
        "2b6500c8bcbd41ea862db884687e9d18": {
          "model_module": "@jupyter-widgets/controls",
          "model_name": "DescriptionStyleModel",
          "model_module_version": "1.5.0",
          "state": {
            "_model_module": "@jupyter-widgets/controls",
            "_model_module_version": "1.5.0",
            "_model_name": "DescriptionStyleModel",
            "_view_count": null,
            "_view_module": "@jupyter-widgets/base",
            "_view_module_version": "1.2.0",
            "_view_name": "StyleView",
            "description_width": ""
          }
        },
        "76c89178f34847429b5c93724d15992e": {
          "model_module": "@jupyter-widgets/base",
          "model_name": "LayoutModel",
          "model_module_version": "1.2.0",
          "state": {
            "_model_module": "@jupyter-widgets/base",
            "_model_module_version": "1.2.0",
            "_model_name": "LayoutModel",
            "_view_count": null,
            "_view_module": "@jupyter-widgets/base",
            "_view_module_version": "1.2.0",
            "_view_name": "LayoutView",
            "align_content": null,
            "align_items": null,
            "align_self": null,
            "border": null,
            "bottom": null,
            "display": null,
            "flex": null,
            "flex_flow": null,
            "grid_area": null,
            "grid_auto_columns": null,
            "grid_auto_flow": null,
            "grid_auto_rows": null,
            "grid_column": null,
            "grid_gap": null,
            "grid_row": null,
            "grid_template_areas": null,
            "grid_template_columns": null,
            "grid_template_rows": null,
            "height": null,
            "justify_content": null,
            "justify_items": null,
            "left": null,
            "margin": null,
            "max_height": null,
            "max_width": null,
            "min_height": null,
            "min_width": null,
            "object_fit": null,
            "object_position": null,
            "order": null,
            "overflow": null,
            "overflow_x": null,
            "overflow_y": null,
            "padding": null,
            "right": null,
            "top": null,
            "visibility": null,
            "width": null
          }
        },
        "fc5e4f939d2c4ad0a000dce810aea4c3": {
          "model_module": "@jupyter-widgets/controls",
          "model_name": "ProgressStyleModel",
          "model_module_version": "1.5.0",
          "state": {
            "_model_module": "@jupyter-widgets/controls",
            "_model_module_version": "1.5.0",
            "_model_name": "ProgressStyleModel",
            "_view_count": null,
            "_view_module": "@jupyter-widgets/base",
            "_view_module_version": "1.2.0",
            "_view_name": "StyleView",
            "bar_color": null,
            "description_width": ""
          }
        },
        "c923cc213a2843ffa1d2482ee4af5dd1": {
          "model_module": "@jupyter-widgets/base",
          "model_name": "LayoutModel",
          "model_module_version": "1.2.0",
          "state": {
            "_model_module": "@jupyter-widgets/base",
            "_model_module_version": "1.2.0",
            "_model_name": "LayoutModel",
            "_view_count": null,
            "_view_module": "@jupyter-widgets/base",
            "_view_module_version": "1.2.0",
            "_view_name": "LayoutView",
            "align_content": null,
            "align_items": null,
            "align_self": null,
            "border": null,
            "bottom": null,
            "display": null,
            "flex": null,
            "flex_flow": null,
            "grid_area": null,
            "grid_auto_columns": null,
            "grid_auto_flow": null,
            "grid_auto_rows": null,
            "grid_column": null,
            "grid_gap": null,
            "grid_row": null,
            "grid_template_areas": null,
            "grid_template_columns": null,
            "grid_template_rows": null,
            "height": null,
            "justify_content": null,
            "justify_items": null,
            "left": null,
            "margin": null,
            "max_height": null,
            "max_width": null,
            "min_height": null,
            "min_width": null,
            "object_fit": null,
            "object_position": null,
            "order": null,
            "overflow": null,
            "overflow_x": null,
            "overflow_y": null,
            "padding": null,
            "right": null,
            "top": null,
            "visibility": null,
            "width": null
          }
        },
        "7e2e1e7d934e4ff4966c5661628239b5": {
          "model_module": "@jupyter-widgets/controls",
          "model_name": "DescriptionStyleModel",
          "model_module_version": "1.5.0",
          "state": {
            "_model_module": "@jupyter-widgets/controls",
            "_model_module_version": "1.5.0",
            "_model_name": "DescriptionStyleModel",
            "_view_count": null,
            "_view_module": "@jupyter-widgets/base",
            "_view_module_version": "1.2.0",
            "_view_name": "StyleView",
            "description_width": ""
          }
        }
      }
    }
  },
  "nbformat": 4,
  "nbformat_minor": 0
}