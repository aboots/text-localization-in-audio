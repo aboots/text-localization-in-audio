{
  "nbformat": 4,
  "nbformat_minor": 0,
  "metadata": {
    "colab": {
      "provenance": []
    },
    "kernelspec": {
      "name": "python3",
      "display_name": "Python 3"
    },
    "language_info": {
      "name": "python"
    }
  },
  "cells": [
    {
      "cell_type": "code",
      "source": [
        "from google.colab import drive\n",
        "drive.mount('/content/drive')"
      ],
      "metadata": {
        "colab": {
          "base_uri": "https://localhost:8080/"
        },
        "id": "-ExAKSWUsbZf",
        "outputId": "a94d9970-278f-4430-f9c7-ab0d5787d227"
      },
      "execution_count": 1,
      "outputs": [
        {
          "output_type": "stream",
          "name": "stdout",
          "text": [
            "Mounted at /content/drive\n"
          ]
        }
      ]
    },
    {
      "cell_type": "markdown",
      "source": [
        "## Models"
      ],
      "metadata": {
        "id": "4rXxSz24nqKw"
      }
    },
    {
      "cell_type": "code",
      "execution_count": null,
      "metadata": {
        "id": "dzMyjdBnr2zO",
        "colab": {
          "base_uri": "https://localhost:8080/"
        },
        "outputId": "04d11416-28f8-45bb-d921-dc88ad158b7b"
      },
      "outputs": [
        {
          "output_type": "stream",
          "name": "stdout",
          "text": [
            "--2023-03-09 23:25:44--  https://kkb-production.jupyter-proxy.kaggle.net/k/121600734/eyJhbGciOiJkaXIiLCJlbmMiOiJBMTI4Q0JDLUhTMjU2IiwidHlwIjoiSldUIn0..3FofaF5HYqtuoleiVy8A4Q.oeFYHfTcucaEnwCrEhSG-6VljO5ZndUKZZJ6VZx-MNIpj4fKT4eDx3pv_Cd4lYE2EKLlz3KQMQUKhNqaYAJ0LEqvhQ_Pv7KSxX_9d7bN_NEhyJKGTxTwHLT76gEal7QapmMl7hOx2yB3iHd4Uz8OAda5E0TnG0zjBaAVylh-QohDmHOtM4rHYo4BuaHXCdO_VOFStO6erw27eaTvVyKOqw.UHsu8OfUjHFH1RyEuNT2PA/proxy/files/final_relevant_model_v2.pt\n",
            "Resolving kkb-production.jupyter-proxy.kaggle.net (kkb-production.jupyter-proxy.kaggle.net)... 35.244.180.134\n",
            "Connecting to kkb-production.jupyter-proxy.kaggle.net (kkb-production.jupyter-proxy.kaggle.net)|35.244.180.134|:443... connected.\n",
            "HTTP request sent, awaiting response... 200 OK\n",
            "Length: 845675119 (806M) [application/octet-stream]\n",
            "Saving to: ‘final_relevant_model_v2.pt’\n",
            "\n",
            "final_relevant_mode 100%[===================>] 806.50M  54.4MB/s    in 17s     \n",
            "\n",
            "2023-03-09 23:26:01 (48.0 MB/s) - ‘final_relevant_model_v2.pt’ saved [845675119/845675119]\n",
            "\n"
          ]
        }
      ],
      "source": [
        "!wget https://kkb-production.jupyter-proxy.kaggle.net/k/121600734/eyJhbGciOiJkaXIiLCJlbmMiOiJBMTI4Q0JDLUhTMjU2IiwidHlwIjoiSldUIn0..3FofaF5HYqtuoleiVy8A4Q.oeFYHfTcucaEnwCrEhSG-6VljO5ZndUKZZJ6VZx-MNIpj4fKT4eDx3pv_Cd4lYE2EKLlz3KQMQUKhNqaYAJ0LEqvhQ_Pv7KSxX_9d7bN_NEhyJKGTxTwHLT76gEal7QapmMl7hOx2yB3iHd4Uz8OAda5E0TnG0zjBaAVylh-QohDmHOtM4rHYo4BuaHXCdO_VOFStO6erw27eaTvVyKOqw.UHsu8OfUjHFH1RyEuNT2PA/proxy/files/final_relevant_model_v2.pt"
      ]
    },
    {
      "cell_type": "code",
      "source": [
        "!cp \"/content/final_relevant_model_v2.pt\" \"/content/drive/MyDrive/NLP_PROJECT/Final_Model/final_relevant_model_v2.pt\""
      ],
      "metadata": {
        "id": "dz14-8xTss14"
      },
      "execution_count": null,
      "outputs": []
    },
    {
      "cell_type": "code",
      "source": [
        "!wget https://kkb-production.jupyter-proxy.kaggle.net/k/121600734/eyJhbGciOiJkaXIiLCJlbmMiOiJBMTI4Q0JDLUhTMjU2IiwidHlwIjoiSldUIn0..3FofaF5HYqtuoleiVy8A4Q.oeFYHfTcucaEnwCrEhSG-6VljO5ZndUKZZJ6VZx-MNIpj4fKT4eDx3pv_Cd4lYE2EKLlz3KQMQUKhNqaYAJ0LEqvhQ_Pv7KSxX_9d7bN_NEhyJKGTxTwHLT76gEal7QapmMl7hOx2yB3iHd4Uz8OAda5E0TnG0zjBaAVylh-QohDmHOtM4rHYo4BuaHXCdO_VOFStO6erw27eaTvVyKOqw.UHsu8OfUjHFH1RyEuNT2PA/proxy/files/multimodal_model.pt"
      ],
      "metadata": {
        "colab": {
          "base_uri": "https://localhost:8080/"
        },
        "id": "pAXVVUxSs-NS",
        "outputId": "2e3ae7b7-3d1b-4465-adc2-7fa7c4252d50"
      },
      "execution_count": null,
      "outputs": [
        {
          "output_type": "stream",
          "name": "stdout",
          "text": [
            "--2023-03-09 23:30:33--  https://kkb-production.jupyter-proxy.kaggle.net/k/121600734/eyJhbGciOiJkaXIiLCJlbmMiOiJBMTI4Q0JDLUhTMjU2IiwidHlwIjoiSldUIn0..3FofaF5HYqtuoleiVy8A4Q.oeFYHfTcucaEnwCrEhSG-6VljO5ZndUKZZJ6VZx-MNIpj4fKT4eDx3pv_Cd4lYE2EKLlz3KQMQUKhNqaYAJ0LEqvhQ_Pv7KSxX_9d7bN_NEhyJKGTxTwHLT76gEal7QapmMl7hOx2yB3iHd4Uz8OAda5E0TnG0zjBaAVylh-QohDmHOtM4rHYo4BuaHXCdO_VOFStO6erw27eaTvVyKOqw.UHsu8OfUjHFH1RyEuNT2PA/proxy/files/multimodal_model.pt\n",
            "Resolving kkb-production.jupyter-proxy.kaggle.net (kkb-production.jupyter-proxy.kaggle.net)... 35.244.180.134\n",
            "Connecting to kkb-production.jupyter-proxy.kaggle.net (kkb-production.jupyter-proxy.kaggle.net)|35.244.180.134|:443... connected.\n",
            "HTTP request sent, awaiting response... 200 OK\n",
            "Length: 10681807 (10M) [application/octet-stream]\n",
            "Saving to: ‘multimodal_model.pt’\n",
            "\n",
            "multimodal_model.pt 100%[===================>]  10.19M  29.3MB/s    in 0.3s    \n",
            "\n",
            "2023-03-09 23:30:33 (29.3 MB/s) - ‘multimodal_model.pt’ saved [10681807/10681807]\n",
            "\n"
          ]
        }
      ]
    },
    {
      "cell_type": "code",
      "source": [
        "!cp \"/content/multimodal_model.pt\" \"/content/drive/MyDrive/NLP_PROJECT/Final_Model/multimodal_model.pt\""
      ],
      "metadata": {
        "id": "Jig8WJWytkBV"
      },
      "execution_count": null,
      "outputs": []
    },
    {
      "cell_type": "markdown",
      "source": [
        "## Datasets"
      ],
      "metadata": {
        "id": "wjGZBwzwntZI"
      }
    },
    {
      "cell_type": "code",
      "source": [
        "!wget https://kkb-production.jupyter-proxy.kaggle.net/k/121653712/eyJhbGciOiJkaXIiLCJlbmMiOiJBMTI4Q0JDLUhTMjU2IiwidHlwIjoiSldUIn0..Y7M3mTNub3qKSGHGmw1EDA.HMGDNEQhHHU50HPLRI61t1tIBk1cjLHzF8Lx3dPJeaEsH40xf9CoD2eE1sAKZG5pVj0GPNKwHNdOFDmvzbEdp7E7ZtO3Eg0RuzYhmDj-0R2K2_Le2CASxRGUDPwzClsPQvA8M1W4wvY5U6ZJbg607Sm2mnE1DNinloqKZ8SGNB4nSBkwosCO54Hm-VbMIiuzyAJeOMru21fP5SzQAVM0sQ.R809LL-2HZ38pL__h9_rZQ/proxy/files/train_dataset.pkl"
      ],
      "metadata": {
        "id": "8q8RMk3Htqc5",
        "colab": {
          "base_uri": "https://localhost:8080/"
        },
        "outputId": "3ae4d9a6-88c1-4fb6-e4bb-2900f2f72467"
      },
      "execution_count": 2,
      "outputs": [
        {
          "output_type": "stream",
          "name": "stdout",
          "text": [
            "--2023-03-10 10:16:44--  https://kkb-production.jupyter-proxy.kaggle.net/k/121653712/eyJhbGciOiJkaXIiLCJlbmMiOiJBMTI4Q0JDLUhTMjU2IiwidHlwIjoiSldUIn0..Y7M3mTNub3qKSGHGmw1EDA.HMGDNEQhHHU50HPLRI61t1tIBk1cjLHzF8Lx3dPJeaEsH40xf9CoD2eE1sAKZG5pVj0GPNKwHNdOFDmvzbEdp7E7ZtO3Eg0RuzYhmDj-0R2K2_Le2CASxRGUDPwzClsPQvA8M1W4wvY5U6ZJbg607Sm2mnE1DNinloqKZ8SGNB4nSBkwosCO54Hm-VbMIiuzyAJeOMru21fP5SzQAVM0sQ.R809LL-2HZ38pL__h9_rZQ/proxy/files/train_dataset.pkl\n",
            "Resolving kkb-production.jupyter-proxy.kaggle.net (kkb-production.jupyter-proxy.kaggle.net)... 35.244.180.134\n",
            "Connecting to kkb-production.jupyter-proxy.kaggle.net (kkb-production.jupyter-proxy.kaggle.net)|35.244.180.134|:443... connected.\n",
            "HTTP request sent, awaiting response... 200 OK\n",
            "Length: 3866014013 (3.6G) [application/octet-stream]\n",
            "Saving to: ‘train_dataset.pkl’\n",
            "\n",
            "train_dataset.pkl   100%[===================>]   3.60G  24.8MB/s    in 2m 30s  \n",
            "\n",
            "2023-03-10 10:19:14 (24.5 MB/s) - ‘train_dataset.pkl’ saved [3866014013/3866014013]\n",
            "\n"
          ]
        }
      ]
    },
    {
      "cell_type": "code",
      "source": [
        "!cp \"/content/train_dataset.pkl\" \"/content/drive/MyDrive/NLP_PROJECT/Final_English_Dataset/train_dataset.pkl\""
      ],
      "metadata": {
        "id": "Whws82OBn816"
      },
      "execution_count": 3,
      "outputs": []
    },
    {
      "cell_type": "code",
      "source": [
        "!wget https://kkb-production.jupyter-proxy.kaggle.net/k/121653712/eyJhbGciOiJkaXIiLCJlbmMiOiJBMTI4Q0JDLUhTMjU2IiwidHlwIjoiSldUIn0..Y7M3mTNub3qKSGHGmw1EDA.HMGDNEQhHHU50HPLRI61t1tIBk1cjLHzF8Lx3dPJeaEsH40xf9CoD2eE1sAKZG5pVj0GPNKwHNdOFDmvzbEdp7E7ZtO3Eg0RuzYhmDj-0R2K2_Le2CASxRGUDPwzClsPQvA8M1W4wvY5U6ZJbg607Sm2mnE1DNinloqKZ8SGNB4nSBkwosCO54Hm-VbMIiuzyAJeOMru21fP5SzQAVM0sQ.R809LL-2HZ38pL__h9_rZQ/proxy/files/test_dataset.pkl"
      ],
      "metadata": {
        "colab": {
          "base_uri": "https://localhost:8080/"
        },
        "id": "7R6LPmGtBxfk",
        "outputId": "db0900b8-e4c7-4884-b454-98fe38b8e111"
      },
      "execution_count": 4,
      "outputs": [
        {
          "output_type": "stream",
          "name": "stdout",
          "text": [
            "--2023-03-10 10:19:44--  https://kkb-production.jupyter-proxy.kaggle.net/k/121653712/eyJhbGciOiJkaXIiLCJlbmMiOiJBMTI4Q0JDLUhTMjU2IiwidHlwIjoiSldUIn0..Y7M3mTNub3qKSGHGmw1EDA.HMGDNEQhHHU50HPLRI61t1tIBk1cjLHzF8Lx3dPJeaEsH40xf9CoD2eE1sAKZG5pVj0GPNKwHNdOFDmvzbEdp7E7ZtO3Eg0RuzYhmDj-0R2K2_Le2CASxRGUDPwzClsPQvA8M1W4wvY5U6ZJbg607Sm2mnE1DNinloqKZ8SGNB4nSBkwosCO54Hm-VbMIiuzyAJeOMru21fP5SzQAVM0sQ.R809LL-2HZ38pL__h9_rZQ/proxy/files/test_dataset.pkl\n",
            "Resolving kkb-production.jupyter-proxy.kaggle.net (kkb-production.jupyter-proxy.kaggle.net)... 35.244.180.134\n",
            "Connecting to kkb-production.jupyter-proxy.kaggle.net (kkb-production.jupyter-proxy.kaggle.net)|35.244.180.134|:443... connected.\n",
            "HTTP request sent, awaiting response... 200 OK\n",
            "Length: 475641860 (454M) [application/octet-stream]\n",
            "Saving to: ‘test_dataset.pkl’\n",
            "\n",
            "test_dataset.pkl    100%[===================>] 453.61M  25.0MB/s    in 19s     \n",
            "\n",
            "2023-03-10 10:20:04 (23.3 MB/s) - ‘test_dataset.pkl’ saved [475641860/475641860]\n",
            "\n"
          ]
        }
      ]
    },
    {
      "cell_type": "code",
      "source": [
        "!cp \"/content/test_dataset.pkl\" \"/content/drive/MyDrive/NLP_PROJECT/Final_English_Dataset/test_dataset.pkl\""
      ],
      "metadata": {
        "id": "VkC6tLz3B2-U"
      },
      "execution_count": 5,
      "outputs": []
    },
    {
      "cell_type": "code",
      "source": [
        "!wget https://kkb-production.jupyter-proxy.kaggle.net/k/121653712/eyJhbGciOiJkaXIiLCJlbmMiOiJBMTI4Q0JDLUhTMjU2IiwidHlwIjoiSldUIn0..Y7M3mTNub3qKSGHGmw1EDA.HMGDNEQhHHU50HPLRI61t1tIBk1cjLHzF8Lx3dPJeaEsH40xf9CoD2eE1sAKZG5pVj0GPNKwHNdOFDmvzbEdp7E7ZtO3Eg0RuzYhmDj-0R2K2_Le2CASxRGUDPwzClsPQvA8M1W4wvY5U6ZJbg607Sm2mnE1DNinloqKZ8SGNB4nSBkwosCO54Hm-VbMIiuzyAJeOMru21fP5SzQAVM0sQ.R809LL-2HZ38pL__h9_rZQ/proxy/files/test_dataset_with_negative_samples.pkl"
      ],
      "metadata": {
        "colab": {
          "base_uri": "https://localhost:8080/"
        },
        "id": "dyaKGkZYB63Q",
        "outputId": "514caad2-0a30-4719-c756-74c6de5e53a7"
      },
      "execution_count": 6,
      "outputs": [
        {
          "output_type": "stream",
          "name": "stdout",
          "text": [
            "--2023-03-10 10:20:32--  https://kkb-production.jupyter-proxy.kaggle.net/k/121653712/eyJhbGciOiJkaXIiLCJlbmMiOiJBMTI4Q0JDLUhTMjU2IiwidHlwIjoiSldUIn0..Y7M3mTNub3qKSGHGmw1EDA.HMGDNEQhHHU50HPLRI61t1tIBk1cjLHzF8Lx3dPJeaEsH40xf9CoD2eE1sAKZG5pVj0GPNKwHNdOFDmvzbEdp7E7ZtO3Eg0RuzYhmDj-0R2K2_Le2CASxRGUDPwzClsPQvA8M1W4wvY5U6ZJbg607Sm2mnE1DNinloqKZ8SGNB4nSBkwosCO54Hm-VbMIiuzyAJeOMru21fP5SzQAVM0sQ.R809LL-2HZ38pL__h9_rZQ/proxy/files/test_dataset_with_negative_samples.pkl\n",
            "Resolving kkb-production.jupyter-proxy.kaggle.net (kkb-production.jupyter-proxy.kaggle.net)... 35.244.180.134\n",
            "Connecting to kkb-production.jupyter-proxy.kaggle.net (kkb-production.jupyter-proxy.kaggle.net)|35.244.180.134|:443... connected.\n",
            "HTTP request sent, awaiting response... 200 OK\n",
            "Length: 475651363 (454M) [application/octet-stream]\n",
            "Saving to: ‘test_dataset_with_negative_samples.pkl’\n",
            "\n",
            "test_dataset_with_n 100%[===================>] 453.62M  25.0MB/s    in 19s     \n",
            "\n",
            "2023-03-10 10:20:51 (23.7 MB/s) - ‘test_dataset_with_negative_samples.pkl’ saved [475651363/475651363]\n",
            "\n"
          ]
        }
      ]
    },
    {
      "cell_type": "code",
      "source": [
        "!cp \"/content/test_dataset_with_negative_samples.pkl\" \"/content/drive/MyDrive/NLP_PROJECT/Final_English_Dataset/test_dataset_with_negative_samples.pkl\""
      ],
      "metadata": {
        "id": "qYWCdYBQB70_"
      },
      "execution_count": 7,
      "outputs": []
    },
    {
      "cell_type": "code",
      "source": [
        "!wget https://kkb-production.jupyter-proxy.kaggle.net/k/121653712/eyJhbGciOiJkaXIiLCJlbmMiOiJBMTI4Q0JDLUhTMjU2IiwidHlwIjoiSldUIn0..Y7M3mTNub3qKSGHGmw1EDA.HMGDNEQhHHU50HPLRI61t1tIBk1cjLHzF8Lx3dPJeaEsH40xf9CoD2eE1sAKZG5pVj0GPNKwHNdOFDmvzbEdp7E7ZtO3Eg0RuzYhmDj-0R2K2_Le2CASxRGUDPwzClsPQvA8M1W4wvY5U6ZJbg607Sm2mnE1DNinloqKZ8SGNB4nSBkwosCO54Hm-VbMIiuzyAJeOMru21fP5SzQAVM0sQ.R809LL-2HZ38pL__h9_rZQ/proxy/files/validation_dataset.pkl"
      ],
      "metadata": {
        "colab": {
          "base_uri": "https://localhost:8080/"
        },
        "id": "lxhGh-rVCEQN",
        "outputId": "9fa7500f-8168-4f02-fad3-3a594f6a9787"
      },
      "execution_count": 8,
      "outputs": [
        {
          "output_type": "stream",
          "name": "stdout",
          "text": [
            "--2023-03-10 10:20:54--  https://kkb-production.jupyter-proxy.kaggle.net/k/121653712/eyJhbGciOiJkaXIiLCJlbmMiOiJBMTI4Q0JDLUhTMjU2IiwidHlwIjoiSldUIn0..Y7M3mTNub3qKSGHGmw1EDA.HMGDNEQhHHU50HPLRI61t1tIBk1cjLHzF8Lx3dPJeaEsH40xf9CoD2eE1sAKZG5pVj0GPNKwHNdOFDmvzbEdp7E7ZtO3Eg0RuzYhmDj-0R2K2_Le2CASxRGUDPwzClsPQvA8M1W4wvY5U6ZJbg607Sm2mnE1DNinloqKZ8SGNB4nSBkwosCO54Hm-VbMIiuzyAJeOMru21fP5SzQAVM0sQ.R809LL-2HZ38pL__h9_rZQ/proxy/files/validation_dataset.pkl\n",
            "Resolving kkb-production.jupyter-proxy.kaggle.net (kkb-production.jupyter-proxy.kaggle.net)... 35.244.180.134\n",
            "Connecting to kkb-production.jupyter-proxy.kaggle.net (kkb-production.jupyter-proxy.kaggle.net)|35.244.180.134|:443... connected.\n",
            "HTTP request sent, awaiting response... 200 OK\n",
            "Length: 466240740 (445M) [application/octet-stream]\n",
            "Saving to: ‘validation_dataset.pkl’\n",
            "\n",
            "validation_dataset. 100%[===================>] 444.64M  22.8MB/s    in 19s     \n",
            "\n",
            "2023-03-10 10:21:13 (23.2 MB/s) - ‘validation_dataset.pkl’ saved [466240740/466240740]\n",
            "\n"
          ]
        }
      ]
    },
    {
      "cell_type": "code",
      "source": [
        "!cp \"/content/validation_dataset.pkl\" \"/content/drive/MyDrive/NLP_PROJECT/Final_English_Dataset/validation_dataset.pkl\""
      ],
      "metadata": {
        "id": "BEjRLZ9UCHIf"
      },
      "execution_count": 9,
      "outputs": []
    },
    {
      "cell_type": "code",
      "source": [],
      "metadata": {
        "id": "PLcCA8c6CV5x"
      },
      "execution_count": null,
      "outputs": []
    }
  ]
}